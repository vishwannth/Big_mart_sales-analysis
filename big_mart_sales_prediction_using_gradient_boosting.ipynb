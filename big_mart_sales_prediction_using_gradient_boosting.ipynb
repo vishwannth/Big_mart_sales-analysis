{
  "cells": [
    {
      "cell_type": "markdown",
      "metadata": {
        "id": "view-in-github",
        "colab_type": "text"
      },
      "source": [
        "<a href=\"https://colab.research.google.com/github/vishwannth/Big_mart_sales-analysis/blob/main/big_mart_sales_prediction_using_gradient_boosting.ipynb\" target=\"_parent\"><img src=\"https://colab.research.google.com/assets/colab-badge.svg\" alt=\"Open In Colab\"/></a>"
      ]
    },
    {
      "cell_type": "code",
      "execution_count": null,
      "id": "eb12a712",
      "metadata": {
        "_cell_guid": "b1076dfc-b9ad-4769-8c92-a6c4dae69d19",
        "_uuid": "8f2839f25d086af736a60e9eeb907d3b93b6e0e5",
        "execution": {
          "iopub.execute_input": "2023-12-13T16:21:17.740539Z",
          "iopub.status.busy": "2023-12-13T16:21:17.739522Z",
          "iopub.status.idle": "2023-12-13T16:21:18.270336Z",
          "shell.execute_reply": "2023-12-13T16:21:18.269086Z"
        },
        "papermill": {
          "duration": 0.569943,
          "end_time": "2023-12-13T16:21:18.273246",
          "exception": false,
          "start_time": "2023-12-13T16:21:17.703303",
          "status": "completed"
        },
        "tags": [],
        "id": "eb12a712"
      },
      "outputs": [],
      "source": [
        "# This Python 3 environment comes with many helpful analytics libraries installed\n",
        "# It is defined by the kaggle/python Docker image: https://github.com/kaggle/docker-python\n",
        "# For example, here's several helpful packages to load\n",
        "\n",
        "import numpy as np # linear algebra\n",
        "import pandas as pd # data processing, CSV file I/O (e.g. pd.read_csv)\n",
        "\n",
        "# Input data files are available in the read-only \"../input/\" directory\n",
        "# For example, running this (by clicking run or pressing Shift+Enter) will list all files under the input directory\n",
        "\n",
        "import os\n",
        "for dirname, _, filenames in os.walk('/kaggle/input'):\n",
        "    for filename in filenames:\n",
        "        print(os.path.join(dirname, filename))\n",
        "\n",
        "# You can write up to 20GB to the current directory (/kaggle/working/) that gets preserved as output when you create a version using \"Save & Run All\"\n",
        "# You can also write temporary files to /kaggle/temp/, but they won't be saved outside of the current session"
      ]
    },
    {
      "cell_type": "code",
      "source": [
        "from google.colab import drive\n",
        "drive.mount(\"/content/drive\")"
      ],
      "metadata": {
        "colab": {
          "base_uri": "https://localhost:8080/"
        },
        "id": "7EYzsLIdCNLf",
        "outputId": "b946b5bd-e760-4def-c1cc-eee39ce95aeb"
      },
      "id": "7EYzsLIdCNLf",
      "execution_count": 2,
      "outputs": [
        {
          "output_type": "stream",
          "name": "stdout",
          "text": [
            "Mounted at /content/drive\n"
          ]
        }
      ]
    },
    {
      "cell_type": "markdown",
      "id": "185f786f",
      "metadata": {
        "papermill": {
          "duration": 0.03515,
          "end_time": "2023-12-13T16:21:18.342531",
          "exception": false,
          "start_time": "2023-12-13T16:21:18.307381",
          "status": "completed"
        },
        "tags": [],
        "id": "185f786f"
      },
      "source": [
        "### 1.Importing Libraries"
      ]
    },
    {
      "cell_type": "code",
      "execution_count": 3,
      "id": "96d3fcca",
      "metadata": {
        "execution": {
          "iopub.execute_input": "2023-12-13T16:21:18.411240Z",
          "iopub.status.busy": "2023-12-13T16:21:18.410467Z",
          "iopub.status.idle": "2023-12-13T16:21:18.416279Z",
          "shell.execute_reply": "2023-12-13T16:21:18.414890Z"
        },
        "papermill": {
          "duration": 0.043896,
          "end_time": "2023-12-13T16:21:18.419390",
          "exception": false,
          "start_time": "2023-12-13T16:21:18.375494",
          "status": "completed"
        },
        "tags": [],
        "id": "96d3fcca"
      },
      "outputs": [],
      "source": [
        "#Lets import the required libraries"
      ]
    },
    {
      "cell_type": "code",
      "execution_count": 4,
      "id": "3c8ded24",
      "metadata": {
        "execution": {
          "iopub.execute_input": "2023-12-13T16:21:18.490818Z",
          "iopub.status.busy": "2023-12-13T16:21:18.489309Z",
          "iopub.status.idle": "2023-12-13T16:21:20.957276Z",
          "shell.execute_reply": "2023-12-13T16:21:20.956128Z"
        },
        "papermill": {
          "duration": 2.507865,
          "end_time": "2023-12-13T16:21:20.960442",
          "exception": false,
          "start_time": "2023-12-13T16:21:18.452577",
          "status": "completed"
        },
        "tags": [],
        "id": "3c8ded24"
      },
      "outputs": [],
      "source": [
        "import pandas as pd\n",
        "import numpy as np\n",
        "import matplotlib.pyplot as plt\n",
        "import seaborn as sns\n",
        "from sklearn.preprocessing import LabelEncoder\n",
        "from sklearn.model_selection import train_test_split\n",
        "from sklearn.linear_model import LinearRegression\n",
        "from sklearn.tree import DecisionTreeRegressor\n",
        "from sklearn.ensemble import RandomForestRegressor\n",
        "from sklearn.naive_bayes import GaussianNB\n",
        "from sklearn.neighbors import KNeighborsRegressor\n",
        "from sklearn.metrics import mean_squared_error, r2_score"
      ]
    },
    {
      "cell_type": "markdown",
      "id": "a3d272a1",
      "metadata": {
        "papermill": {
          "duration": 0.033082,
          "end_time": "2023-12-13T16:21:21.132293",
          "exception": false,
          "start_time": "2023-12-13T16:21:21.099211",
          "status": "completed"
        },
        "tags": [],
        "id": "a3d272a1"
      },
      "source": [
        "### 2. Data Acquisition and Description"
      ]
    },
    {
      "cell_type": "code",
      "execution_count": 5,
      "id": "e4d8116c",
      "metadata": {
        "execution": {
          "iopub.execute_input": "2023-12-13T16:21:21.201941Z",
          "iopub.status.busy": "2023-12-13T16:21:21.201102Z",
          "iopub.status.idle": "2023-12-13T16:21:21.288254Z",
          "shell.execute_reply": "2023-12-13T16:21:21.287116Z"
        },
        "papermill": {
          "duration": 0.125803,
          "end_time": "2023-12-13T16:21:21.291498",
          "exception": false,
          "start_time": "2023-12-13T16:21:21.165695",
          "status": "completed"
        },
        "tags": [],
        "id": "e4d8116c"
      },
      "outputs": [],
      "source": [
        "#Let's load our train and test dataset\n",
        "train = pd.read_csv(\"/content/drive/MyDrive/BDA project/Dataset/train.csv\")\n",
        "test = pd.read_csv(\"/content/drive/MyDrive/BDA project/Dataset/test.csv\")"
      ]
    },
    {
      "cell_type": "code",
      "source": [
        "from google.colab import drive\n",
        "drive.mount('/content/drive')"
      ],
      "metadata": {
        "id": "aCG2PgZUBlsY",
        "colab": {
          "base_uri": "https://localhost:8080/"
        },
        "outputId": "3e72edd9-7310-4d24-80c5-7765e55044f5"
      },
      "id": "aCG2PgZUBlsY",
      "execution_count": 6,
      "outputs": [
        {
          "output_type": "stream",
          "name": "stdout",
          "text": [
            "Drive already mounted at /content/drive; to attempt to forcibly remount, call drive.mount(\"/content/drive\", force_remount=True).\n"
          ]
        }
      ]
    },
    {
      "cell_type": "code",
      "execution_count": 8,
      "id": "1583302c",
      "metadata": {
        "execution": {
          "iopub.execute_input": "2023-12-13T16:21:21.362708Z",
          "iopub.status.busy": "2023-12-13T16:21:21.361841Z",
          "iopub.status.idle": "2023-12-13T16:21:21.378412Z",
          "shell.execute_reply": "2023-12-13T16:21:21.377180Z"
        },
        "papermill": {
          "duration": 0.054987,
          "end_time": "2023-12-13T16:21:21.381309",
          "exception": false,
          "start_time": "2023-12-13T16:21:21.326322",
          "status": "completed"
        },
        "tags": [],
        "id": "1583302c"
      },
      "outputs": [],
      "source": [
        "sample_submission = pd.read_csv('/content/drive/MyDrive/BDA project/Dataset/sample_submission.csv')"
      ]
    },
    {
      "cell_type": "code",
      "execution_count": 9,
      "id": "6ba8cf43",
      "metadata": {
        "execution": {
          "iopub.execute_input": "2023-12-13T16:21:21.451461Z",
          "iopub.status.busy": "2023-12-13T16:21:21.450883Z",
          "iopub.status.idle": "2023-12-13T16:21:21.488231Z",
          "shell.execute_reply": "2023-12-13T16:21:21.486979Z"
        },
        "papermill": {
          "duration": 0.076686,
          "end_time": "2023-12-13T16:21:21.491692",
          "exception": false,
          "start_time": "2023-12-13T16:21:21.415006",
          "status": "completed"
        },
        "tags": [],
        "id": "6ba8cf43",
        "outputId": "44ff2754-8f09-4652-ec06-b6bfec820493",
        "colab": {
          "base_uri": "https://localhost:8080/",
          "height": 206
        }
      },
      "outputs": [
        {
          "output_type": "execute_result",
          "data": {
            "text/plain": [
              "  Item_Identifier  Item_Weight Item_Fat_Content  Item_Visibility  \\\n",
              "0           FDA15         9.30          Low Fat         0.016047   \n",
              "1           DRC01         5.92          Regular         0.019278   \n",
              "2           FDN15        17.50          Low Fat         0.016760   \n",
              "3           FDX07        19.20          Regular         0.000000   \n",
              "4           NCD19         8.93          Low Fat         0.000000   \n",
              "\n",
              "               Item_Type  Item_MRP Outlet_Identifier  \\\n",
              "0                  Dairy  249.8092            OUT049   \n",
              "1            Soft Drinks   48.2692            OUT018   \n",
              "2                   Meat  141.6180            OUT049   \n",
              "3  Fruits and Vegetables  182.0950            OUT010   \n",
              "4              Household   53.8614            OUT013   \n",
              "\n",
              "   Outlet_Establishment_Year Outlet_Size Outlet_Location_Type  \\\n",
              "0                       1999      Medium               Tier 1   \n",
              "1                       2009      Medium               Tier 3   \n",
              "2                       1999      Medium               Tier 1   \n",
              "3                       1998         NaN               Tier 3   \n",
              "4                       1987        High               Tier 3   \n",
              "\n",
              "         Outlet_Type  Item_Outlet_Sales  \n",
              "0  Supermarket Type1          3735.1380  \n",
              "1  Supermarket Type2           443.4228  \n",
              "2  Supermarket Type1          2097.2700  \n",
              "3      Grocery Store           732.3800  \n",
              "4  Supermarket Type1           994.7052  "
            ],
            "text/html": [
              "\n",
              "  <div id=\"df-5ccd2f62-1e81-4ec0-86d8-3c1b593a3243\" class=\"colab-df-container\">\n",
              "    <div>\n",
              "<style scoped>\n",
              "    .dataframe tbody tr th:only-of-type {\n",
              "        vertical-align: middle;\n",
              "    }\n",
              "\n",
              "    .dataframe tbody tr th {\n",
              "        vertical-align: top;\n",
              "    }\n",
              "\n",
              "    .dataframe thead th {\n",
              "        text-align: right;\n",
              "    }\n",
              "</style>\n",
              "<table border=\"1\" class=\"dataframe\">\n",
              "  <thead>\n",
              "    <tr style=\"text-align: right;\">\n",
              "      <th></th>\n",
              "      <th>Item_Identifier</th>\n",
              "      <th>Item_Weight</th>\n",
              "      <th>Item_Fat_Content</th>\n",
              "      <th>Item_Visibility</th>\n",
              "      <th>Item_Type</th>\n",
              "      <th>Item_MRP</th>\n",
              "      <th>Outlet_Identifier</th>\n",
              "      <th>Outlet_Establishment_Year</th>\n",
              "      <th>Outlet_Size</th>\n",
              "      <th>Outlet_Location_Type</th>\n",
              "      <th>Outlet_Type</th>\n",
              "      <th>Item_Outlet_Sales</th>\n",
              "    </tr>\n",
              "  </thead>\n",
              "  <tbody>\n",
              "    <tr>\n",
              "      <th>0</th>\n",
              "      <td>FDA15</td>\n",
              "      <td>9.30</td>\n",
              "      <td>Low Fat</td>\n",
              "      <td>0.016047</td>\n",
              "      <td>Dairy</td>\n",
              "      <td>249.8092</td>\n",
              "      <td>OUT049</td>\n",
              "      <td>1999</td>\n",
              "      <td>Medium</td>\n",
              "      <td>Tier 1</td>\n",
              "      <td>Supermarket Type1</td>\n",
              "      <td>3735.1380</td>\n",
              "    </tr>\n",
              "    <tr>\n",
              "      <th>1</th>\n",
              "      <td>DRC01</td>\n",
              "      <td>5.92</td>\n",
              "      <td>Regular</td>\n",
              "      <td>0.019278</td>\n",
              "      <td>Soft Drinks</td>\n",
              "      <td>48.2692</td>\n",
              "      <td>OUT018</td>\n",
              "      <td>2009</td>\n",
              "      <td>Medium</td>\n",
              "      <td>Tier 3</td>\n",
              "      <td>Supermarket Type2</td>\n",
              "      <td>443.4228</td>\n",
              "    </tr>\n",
              "    <tr>\n",
              "      <th>2</th>\n",
              "      <td>FDN15</td>\n",
              "      <td>17.50</td>\n",
              "      <td>Low Fat</td>\n",
              "      <td>0.016760</td>\n",
              "      <td>Meat</td>\n",
              "      <td>141.6180</td>\n",
              "      <td>OUT049</td>\n",
              "      <td>1999</td>\n",
              "      <td>Medium</td>\n",
              "      <td>Tier 1</td>\n",
              "      <td>Supermarket Type1</td>\n",
              "      <td>2097.2700</td>\n",
              "    </tr>\n",
              "    <tr>\n",
              "      <th>3</th>\n",
              "      <td>FDX07</td>\n",
              "      <td>19.20</td>\n",
              "      <td>Regular</td>\n",
              "      <td>0.000000</td>\n",
              "      <td>Fruits and Vegetables</td>\n",
              "      <td>182.0950</td>\n",
              "      <td>OUT010</td>\n",
              "      <td>1998</td>\n",
              "      <td>NaN</td>\n",
              "      <td>Tier 3</td>\n",
              "      <td>Grocery Store</td>\n",
              "      <td>732.3800</td>\n",
              "    </tr>\n",
              "    <tr>\n",
              "      <th>4</th>\n",
              "      <td>NCD19</td>\n",
              "      <td>8.93</td>\n",
              "      <td>Low Fat</td>\n",
              "      <td>0.000000</td>\n",
              "      <td>Household</td>\n",
              "      <td>53.8614</td>\n",
              "      <td>OUT013</td>\n",
              "      <td>1987</td>\n",
              "      <td>High</td>\n",
              "      <td>Tier 3</td>\n",
              "      <td>Supermarket Type1</td>\n",
              "      <td>994.7052</td>\n",
              "    </tr>\n",
              "  </tbody>\n",
              "</table>\n",
              "</div>\n",
              "    <div class=\"colab-df-buttons\">\n",
              "\n",
              "  <div class=\"colab-df-container\">\n",
              "    <button class=\"colab-df-convert\" onclick=\"convertToInteractive('df-5ccd2f62-1e81-4ec0-86d8-3c1b593a3243')\"\n",
              "            title=\"Convert this dataframe to an interactive table.\"\n",
              "            style=\"display:none;\">\n",
              "\n",
              "  <svg xmlns=\"http://www.w3.org/2000/svg\" height=\"24px\" viewBox=\"0 -960 960 960\">\n",
              "    <path d=\"M120-120v-720h720v720H120Zm60-500h600v-160H180v160Zm220 220h160v-160H400v160Zm0 220h160v-160H400v160ZM180-400h160v-160H180v160Zm440 0h160v-160H620v160ZM180-180h160v-160H180v160Zm440 0h160v-160H620v160Z\"/>\n",
              "  </svg>\n",
              "    </button>\n",
              "\n",
              "  <style>\n",
              "    .colab-df-container {\n",
              "      display:flex;\n",
              "      gap: 12px;\n",
              "    }\n",
              "\n",
              "    .colab-df-convert {\n",
              "      background-color: #E8F0FE;\n",
              "      border: none;\n",
              "      border-radius: 50%;\n",
              "      cursor: pointer;\n",
              "      display: none;\n",
              "      fill: #1967D2;\n",
              "      height: 32px;\n",
              "      padding: 0 0 0 0;\n",
              "      width: 32px;\n",
              "    }\n",
              "\n",
              "    .colab-df-convert:hover {\n",
              "      background-color: #E2EBFA;\n",
              "      box-shadow: 0px 1px 2px rgba(60, 64, 67, 0.3), 0px 1px 3px 1px rgba(60, 64, 67, 0.15);\n",
              "      fill: #174EA6;\n",
              "    }\n",
              "\n",
              "    .colab-df-buttons div {\n",
              "      margin-bottom: 4px;\n",
              "    }\n",
              "\n",
              "    [theme=dark] .colab-df-convert {\n",
              "      background-color: #3B4455;\n",
              "      fill: #D2E3FC;\n",
              "    }\n",
              "\n",
              "    [theme=dark] .colab-df-convert:hover {\n",
              "      background-color: #434B5C;\n",
              "      box-shadow: 0px 1px 3px 1px rgba(0, 0, 0, 0.15);\n",
              "      filter: drop-shadow(0px 1px 2px rgba(0, 0, 0, 0.3));\n",
              "      fill: #FFFFFF;\n",
              "    }\n",
              "  </style>\n",
              "\n",
              "    <script>\n",
              "      const buttonEl =\n",
              "        document.querySelector('#df-5ccd2f62-1e81-4ec0-86d8-3c1b593a3243 button.colab-df-convert');\n",
              "      buttonEl.style.display =\n",
              "        google.colab.kernel.accessAllowed ? 'block' : 'none';\n",
              "\n",
              "      async function convertToInteractive(key) {\n",
              "        const element = document.querySelector('#df-5ccd2f62-1e81-4ec0-86d8-3c1b593a3243');\n",
              "        const dataTable =\n",
              "          await google.colab.kernel.invokeFunction('convertToInteractive',\n",
              "                                                    [key], {});\n",
              "        if (!dataTable) return;\n",
              "\n",
              "        const docLinkHtml = 'Like what you see? Visit the ' +\n",
              "          '<a target=\"_blank\" href=https://colab.research.google.com/notebooks/data_table.ipynb>data table notebook</a>'\n",
              "          + ' to learn more about interactive tables.';\n",
              "        element.innerHTML = '';\n",
              "        dataTable['output_type'] = 'display_data';\n",
              "        await google.colab.output.renderOutput(dataTable, element);\n",
              "        const docLink = document.createElement('div');\n",
              "        docLink.innerHTML = docLinkHtml;\n",
              "        element.appendChild(docLink);\n",
              "      }\n",
              "    </script>\n",
              "  </div>\n",
              "\n",
              "\n",
              "<div id=\"df-4963a291-60fc-4ee9-bf07-6c053426a55e\">\n",
              "  <button class=\"colab-df-quickchart\" onclick=\"quickchart('df-4963a291-60fc-4ee9-bf07-6c053426a55e')\"\n",
              "            title=\"Suggest charts\"\n",
              "            style=\"display:none;\">\n",
              "\n",
              "<svg xmlns=\"http://www.w3.org/2000/svg\" height=\"24px\"viewBox=\"0 0 24 24\"\n",
              "     width=\"24px\">\n",
              "    <g>\n",
              "        <path d=\"M19 3H5c-1.1 0-2 .9-2 2v14c0 1.1.9 2 2 2h14c1.1 0 2-.9 2-2V5c0-1.1-.9-2-2-2zM9 17H7v-7h2v7zm4 0h-2V7h2v10zm4 0h-2v-4h2v4z\"/>\n",
              "    </g>\n",
              "</svg>\n",
              "  </button>\n",
              "\n",
              "<style>\n",
              "  .colab-df-quickchart {\n",
              "      --bg-color: #E8F0FE;\n",
              "      --fill-color: #1967D2;\n",
              "      --hover-bg-color: #E2EBFA;\n",
              "      --hover-fill-color: #174EA6;\n",
              "      --disabled-fill-color: #AAA;\n",
              "      --disabled-bg-color: #DDD;\n",
              "  }\n",
              "\n",
              "  [theme=dark] .colab-df-quickchart {\n",
              "      --bg-color: #3B4455;\n",
              "      --fill-color: #D2E3FC;\n",
              "      --hover-bg-color: #434B5C;\n",
              "      --hover-fill-color: #FFFFFF;\n",
              "      --disabled-bg-color: #3B4455;\n",
              "      --disabled-fill-color: #666;\n",
              "  }\n",
              "\n",
              "  .colab-df-quickchart {\n",
              "    background-color: var(--bg-color);\n",
              "    border: none;\n",
              "    border-radius: 50%;\n",
              "    cursor: pointer;\n",
              "    display: none;\n",
              "    fill: var(--fill-color);\n",
              "    height: 32px;\n",
              "    padding: 0;\n",
              "    width: 32px;\n",
              "  }\n",
              "\n",
              "  .colab-df-quickchart:hover {\n",
              "    background-color: var(--hover-bg-color);\n",
              "    box-shadow: 0 1px 2px rgba(60, 64, 67, 0.3), 0 1px 3px 1px rgba(60, 64, 67, 0.15);\n",
              "    fill: var(--button-hover-fill-color);\n",
              "  }\n",
              "\n",
              "  .colab-df-quickchart-complete:disabled,\n",
              "  .colab-df-quickchart-complete:disabled:hover {\n",
              "    background-color: var(--disabled-bg-color);\n",
              "    fill: var(--disabled-fill-color);\n",
              "    box-shadow: none;\n",
              "  }\n",
              "\n",
              "  .colab-df-spinner {\n",
              "    border: 2px solid var(--fill-color);\n",
              "    border-color: transparent;\n",
              "    border-bottom-color: var(--fill-color);\n",
              "    animation:\n",
              "      spin 1s steps(1) infinite;\n",
              "  }\n",
              "\n",
              "  @keyframes spin {\n",
              "    0% {\n",
              "      border-color: transparent;\n",
              "      border-bottom-color: var(--fill-color);\n",
              "      border-left-color: var(--fill-color);\n",
              "    }\n",
              "    20% {\n",
              "      border-color: transparent;\n",
              "      border-left-color: var(--fill-color);\n",
              "      border-top-color: var(--fill-color);\n",
              "    }\n",
              "    30% {\n",
              "      border-color: transparent;\n",
              "      border-left-color: var(--fill-color);\n",
              "      border-top-color: var(--fill-color);\n",
              "      border-right-color: var(--fill-color);\n",
              "    }\n",
              "    40% {\n",
              "      border-color: transparent;\n",
              "      border-right-color: var(--fill-color);\n",
              "      border-top-color: var(--fill-color);\n",
              "    }\n",
              "    60% {\n",
              "      border-color: transparent;\n",
              "      border-right-color: var(--fill-color);\n",
              "    }\n",
              "    80% {\n",
              "      border-color: transparent;\n",
              "      border-right-color: var(--fill-color);\n",
              "      border-bottom-color: var(--fill-color);\n",
              "    }\n",
              "    90% {\n",
              "      border-color: transparent;\n",
              "      border-bottom-color: var(--fill-color);\n",
              "    }\n",
              "  }\n",
              "</style>\n",
              "\n",
              "  <script>\n",
              "    async function quickchart(key) {\n",
              "      const quickchartButtonEl =\n",
              "        document.querySelector('#' + key + ' button');\n",
              "      quickchartButtonEl.disabled = true;  // To prevent multiple clicks.\n",
              "      quickchartButtonEl.classList.add('colab-df-spinner');\n",
              "      try {\n",
              "        const charts = await google.colab.kernel.invokeFunction(\n",
              "            'suggestCharts', [key], {});\n",
              "      } catch (error) {\n",
              "        console.error('Error during call to suggestCharts:', error);\n",
              "      }\n",
              "      quickchartButtonEl.classList.remove('colab-df-spinner');\n",
              "      quickchartButtonEl.classList.add('colab-df-quickchart-complete');\n",
              "    }\n",
              "    (() => {\n",
              "      let quickchartButtonEl =\n",
              "        document.querySelector('#df-4963a291-60fc-4ee9-bf07-6c053426a55e button');\n",
              "      quickchartButtonEl.style.display =\n",
              "        google.colab.kernel.accessAllowed ? 'block' : 'none';\n",
              "    })();\n",
              "  </script>\n",
              "</div>\n",
              "\n",
              "    </div>\n",
              "  </div>\n"
            ],
            "application/vnd.google.colaboratory.intrinsic+json": {
              "type": "dataframe",
              "variable_name": "train",
              "summary": "{\n  \"name\": \"train\",\n  \"rows\": 8523,\n  \"fields\": [\n    {\n      \"column\": \"Item_Identifier\",\n      \"properties\": {\n        \"dtype\": \"category\",\n        \"num_unique_values\": 1559,\n        \"samples\": [\n          \"FDY01\",\n          \"FDG05\",\n          \"NCJ29\"\n        ],\n        \"semantic_type\": \"\",\n        \"description\": \"\"\n      }\n    },\n    {\n      \"column\": \"Item_Weight\",\n      \"properties\": {\n        \"dtype\": \"number\",\n        \"std\": 4.643456499186415,\n        \"min\": 4.555,\n        \"max\": 21.35,\n        \"num_unique_values\": 415,\n        \"samples\": [\n          16.75,\n          8.695,\n          7.605\n        ],\n        \"semantic_type\": \"\",\n        \"description\": \"\"\n      }\n    },\n    {\n      \"column\": \"Item_Fat_Content\",\n      \"properties\": {\n        \"dtype\": \"category\",\n        \"num_unique_values\": 5,\n        \"samples\": [\n          \"Regular\",\n          \"reg\",\n          \"low fat\"\n        ],\n        \"semantic_type\": \"\",\n        \"description\": \"\"\n      }\n    },\n    {\n      \"column\": \"Item_Visibility\",\n      \"properties\": {\n        \"dtype\": \"number\",\n        \"std\": 0.05159782232113512,\n        \"min\": 0.0,\n        \"max\": 0.328390948,\n        \"num_unique_values\": 7880,\n        \"samples\": [\n          0.224837308,\n          0.046088273,\n          0.0204702\n        ],\n        \"semantic_type\": \"\",\n        \"description\": \"\"\n      }\n    },\n    {\n      \"column\": \"Item_Type\",\n      \"properties\": {\n        \"dtype\": \"category\",\n        \"num_unique_values\": 16,\n        \"samples\": [\n          \"Dairy\",\n          \"Soft Drinks\",\n          \"Baking Goods\"\n        ],\n        \"semantic_type\": \"\",\n        \"description\": \"\"\n      }\n    },\n    {\n      \"column\": \"Item_MRP\",\n      \"properties\": {\n        \"dtype\": \"number\",\n        \"std\": 62.27506651219046,\n        \"min\": 31.29,\n        \"max\": 266.8884,\n        \"num_unique_values\": 5938,\n        \"samples\": [\n          255.9672,\n          93.512,\n          208.3954\n        ],\n        \"semantic_type\": \"\",\n        \"description\": \"\"\n      }\n    },\n    {\n      \"column\": \"Outlet_Identifier\",\n      \"properties\": {\n        \"dtype\": \"category\",\n        \"num_unique_values\": 10,\n        \"samples\": [\n          \"OUT035\",\n          \"OUT018\",\n          \"OUT045\"\n        ],\n        \"semantic_type\": \"\",\n        \"description\": \"\"\n      }\n    },\n    {\n      \"column\": \"Outlet_Establishment_Year\",\n      \"properties\": {\n        \"dtype\": \"number\",\n        \"std\": 8,\n        \"min\": 1985,\n        \"max\": 2009,\n        \"num_unique_values\": 9,\n        \"samples\": [\n          1997,\n          2009,\n          2002\n        ],\n        \"semantic_type\": \"\",\n        \"description\": \"\"\n      }\n    },\n    {\n      \"column\": \"Outlet_Size\",\n      \"properties\": {\n        \"dtype\": \"category\",\n        \"num_unique_values\": 3,\n        \"samples\": [\n          \"Medium\",\n          \"High\",\n          \"Small\"\n        ],\n        \"semantic_type\": \"\",\n        \"description\": \"\"\n      }\n    },\n    {\n      \"column\": \"Outlet_Location_Type\",\n      \"properties\": {\n        \"dtype\": \"category\",\n        \"num_unique_values\": 3,\n        \"samples\": [\n          \"Tier 1\",\n          \"Tier 3\",\n          \"Tier 2\"\n        ],\n        \"semantic_type\": \"\",\n        \"description\": \"\"\n      }\n    },\n    {\n      \"column\": \"Outlet_Type\",\n      \"properties\": {\n        \"dtype\": \"category\",\n        \"num_unique_values\": 4,\n        \"samples\": [\n          \"Supermarket Type2\",\n          \"Supermarket Type3\",\n          \"Supermarket Type1\"\n        ],\n        \"semantic_type\": \"\",\n        \"description\": \"\"\n      }\n    },\n    {\n      \"column\": \"Item_Outlet_Sales\",\n      \"properties\": {\n        \"dtype\": \"number\",\n        \"std\": 1706.499615733833,\n        \"min\": 33.29,\n        \"max\": 13086.9648,\n        \"num_unique_values\": 3493,\n        \"samples\": [\n          5466.8838,\n          8417.7094,\n          5888.3352\n        ],\n        \"semantic_type\": \"\",\n        \"description\": \"\"\n      }\n    }\n  ]\n}"
            }
          },
          "metadata": {},
          "execution_count": 9
        }
      ],
      "source": [
        "train.head()"
      ]
    },
    {
      "cell_type": "code",
      "execution_count": 10,
      "id": "7f62c95f",
      "metadata": {
        "execution": {
          "iopub.execute_input": "2023-12-13T16:21:21.562198Z",
          "iopub.status.busy": "2023-12-13T16:21:21.561609Z",
          "iopub.status.idle": "2023-12-13T16:21:21.569451Z",
          "shell.execute_reply": "2023-12-13T16:21:21.568398Z"
        },
        "papermill": {
          "duration": 0.047317,
          "end_time": "2023-12-13T16:21:21.572833",
          "exception": false,
          "start_time": "2023-12-13T16:21:21.525516",
          "status": "completed"
        },
        "tags": [],
        "id": "7f62c95f",
        "outputId": "47619609-2529-4ebc-aa9d-d4e5325159b2",
        "colab": {
          "base_uri": "https://localhost:8080/"
        }
      },
      "outputs": [
        {
          "output_type": "execute_result",
          "data": {
            "text/plain": [
              "(8523, 12)"
            ]
          },
          "metadata": {},
          "execution_count": 10
        }
      ],
      "source": [
        "#Lets look at the shape of your dataset\n",
        "train.shape"
      ]
    },
    {
      "cell_type": "code",
      "execution_count": 11,
      "id": "671f2f0c",
      "metadata": {
        "execution": {
          "iopub.execute_input": "2023-12-13T16:21:21.646134Z",
          "iopub.status.busy": "2023-12-13T16:21:21.645271Z",
          "iopub.status.idle": "2023-12-13T16:21:21.682577Z",
          "shell.execute_reply": "2023-12-13T16:21:21.681465Z"
        },
        "papermill": {
          "duration": 0.078547,
          "end_time": "2023-12-13T16:21:21.685927",
          "exception": false,
          "start_time": "2023-12-13T16:21:21.607380",
          "status": "completed"
        },
        "tags": [],
        "id": "671f2f0c",
        "outputId": "8b1f913a-866a-4cc8-eadf-8085e95e944b",
        "colab": {
          "base_uri": "https://localhost:8080/"
        }
      },
      "outputs": [
        {
          "output_type": "stream",
          "name": "stdout",
          "text": [
            "<class 'pandas.core.frame.DataFrame'>\n",
            "RangeIndex: 8523 entries, 0 to 8522\n",
            "Data columns (total 12 columns):\n",
            " #   Column                     Non-Null Count  Dtype  \n",
            "---  ------                     --------------  -----  \n",
            " 0   Item_Identifier            8523 non-null   object \n",
            " 1   Item_Weight                7060 non-null   float64\n",
            " 2   Item_Fat_Content           8523 non-null   object \n",
            " 3   Item_Visibility            8523 non-null   float64\n",
            " 4   Item_Type                  8523 non-null   object \n",
            " 5   Item_MRP                   8523 non-null   float64\n",
            " 6   Outlet_Identifier          8523 non-null   object \n",
            " 7   Outlet_Establishment_Year  8523 non-null   int64  \n",
            " 8   Outlet_Size                6113 non-null   object \n",
            " 9   Outlet_Location_Type       8523 non-null   object \n",
            " 10  Outlet_Type                8523 non-null   object \n",
            " 11  Item_Outlet_Sales          8523 non-null   float64\n",
            "dtypes: float64(4), int64(1), object(7)\n",
            "memory usage: 799.2+ KB\n"
          ]
        }
      ],
      "source": [
        "# Lets look at the train.info()\n",
        "train.info()"
      ]
    },
    {
      "cell_type": "code",
      "execution_count": 12,
      "id": "b5546c5a",
      "metadata": {
        "execution": {
          "iopub.execute_input": "2023-12-13T16:21:21.760130Z",
          "iopub.status.busy": "2023-12-13T16:21:21.759339Z",
          "iopub.status.idle": "2023-12-13T16:21:21.776006Z",
          "shell.execute_reply": "2023-12-13T16:21:21.774516Z"
        },
        "papermill": {
          "duration": 0.056385,
          "end_time": "2023-12-13T16:21:21.779210",
          "exception": false,
          "start_time": "2023-12-13T16:21:21.722825",
          "status": "completed"
        },
        "tags": [],
        "id": "b5546c5a",
        "outputId": "b6dd9244-09f1-4a97-829e-847d91bfeae9",
        "colab": {
          "base_uri": "https://localhost:8080/"
        }
      },
      "outputs": [
        {
          "output_type": "execute_result",
          "data": {
            "text/plain": [
              "Outlet_Size                  2410\n",
              "Item_Weight                  1463\n",
              "Item_Identifier                 0\n",
              "Item_Fat_Content                0\n",
              "Item_Visibility                 0\n",
              "Item_Type                       0\n",
              "Item_MRP                        0\n",
              "Outlet_Identifier               0\n",
              "Outlet_Establishment_Year       0\n",
              "Outlet_Location_Type            0\n",
              "Outlet_Type                     0\n",
              "Item_Outlet_Sales               0\n",
              "dtype: int64"
            ]
          },
          "metadata": {},
          "execution_count": 12
        }
      ],
      "source": [
        "# Check for missing values\n",
        "train.isna().sum().sort_values(ascending=False)#to find the number of missing value in the data in decending order"
      ]
    },
    {
      "cell_type": "code",
      "execution_count": 13,
      "id": "252e0af9",
      "metadata": {
        "execution": {
          "iopub.execute_input": "2023-12-13T16:21:21.850639Z",
          "iopub.status.busy": "2023-12-13T16:21:21.850074Z",
          "iopub.status.idle": "2023-12-13T16:21:21.885076Z",
          "shell.execute_reply": "2023-12-13T16:21:21.883689Z"
        },
        "papermill": {
          "duration": 0.074674,
          "end_time": "2023-12-13T16:21:21.888254",
          "exception": false,
          "start_time": "2023-12-13T16:21:21.813580",
          "status": "completed"
        },
        "tags": [],
        "id": "252e0af9",
        "outputId": "b1ff4e71-f2e3-4dfd-bbbf-e20e43ce414c",
        "colab": {
          "base_uri": "https://localhost:8080/",
          "height": 301
        }
      },
      "outputs": [
        {
          "output_type": "execute_result",
          "data": {
            "text/plain": [
              "       Item_Weight  Item_Visibility     Item_MRP  Outlet_Establishment_Year  \\\n",
              "count  7060.000000      8523.000000  8523.000000                8523.000000   \n",
              "mean     12.857645         0.066132   140.992782                1997.831867   \n",
              "std       4.643456         0.051598    62.275067                   8.371760   \n",
              "min       4.555000         0.000000    31.290000                1985.000000   \n",
              "25%       8.773750         0.026989    93.826500                1987.000000   \n",
              "50%      12.600000         0.053931   143.012800                1999.000000   \n",
              "75%      16.850000         0.094585   185.643700                2004.000000   \n",
              "max      21.350000         0.328391   266.888400                2009.000000   \n",
              "\n",
              "       Item_Outlet_Sales  \n",
              "count        8523.000000  \n",
              "mean         2181.288914  \n",
              "std          1706.499616  \n",
              "min            33.290000  \n",
              "25%           834.247400  \n",
              "50%          1794.331000  \n",
              "75%          3101.296400  \n",
              "max         13086.964800  "
            ],
            "text/html": [
              "\n",
              "  <div id=\"df-a3f81e94-a3d7-40b4-946c-c21e507a7b9c\" class=\"colab-df-container\">\n",
              "    <div>\n",
              "<style scoped>\n",
              "    .dataframe tbody tr th:only-of-type {\n",
              "        vertical-align: middle;\n",
              "    }\n",
              "\n",
              "    .dataframe tbody tr th {\n",
              "        vertical-align: top;\n",
              "    }\n",
              "\n",
              "    .dataframe thead th {\n",
              "        text-align: right;\n",
              "    }\n",
              "</style>\n",
              "<table border=\"1\" class=\"dataframe\">\n",
              "  <thead>\n",
              "    <tr style=\"text-align: right;\">\n",
              "      <th></th>\n",
              "      <th>Item_Weight</th>\n",
              "      <th>Item_Visibility</th>\n",
              "      <th>Item_MRP</th>\n",
              "      <th>Outlet_Establishment_Year</th>\n",
              "      <th>Item_Outlet_Sales</th>\n",
              "    </tr>\n",
              "  </thead>\n",
              "  <tbody>\n",
              "    <tr>\n",
              "      <th>count</th>\n",
              "      <td>7060.000000</td>\n",
              "      <td>8523.000000</td>\n",
              "      <td>8523.000000</td>\n",
              "      <td>8523.000000</td>\n",
              "      <td>8523.000000</td>\n",
              "    </tr>\n",
              "    <tr>\n",
              "      <th>mean</th>\n",
              "      <td>12.857645</td>\n",
              "      <td>0.066132</td>\n",
              "      <td>140.992782</td>\n",
              "      <td>1997.831867</td>\n",
              "      <td>2181.288914</td>\n",
              "    </tr>\n",
              "    <tr>\n",
              "      <th>std</th>\n",
              "      <td>4.643456</td>\n",
              "      <td>0.051598</td>\n",
              "      <td>62.275067</td>\n",
              "      <td>8.371760</td>\n",
              "      <td>1706.499616</td>\n",
              "    </tr>\n",
              "    <tr>\n",
              "      <th>min</th>\n",
              "      <td>4.555000</td>\n",
              "      <td>0.000000</td>\n",
              "      <td>31.290000</td>\n",
              "      <td>1985.000000</td>\n",
              "      <td>33.290000</td>\n",
              "    </tr>\n",
              "    <tr>\n",
              "      <th>25%</th>\n",
              "      <td>8.773750</td>\n",
              "      <td>0.026989</td>\n",
              "      <td>93.826500</td>\n",
              "      <td>1987.000000</td>\n",
              "      <td>834.247400</td>\n",
              "    </tr>\n",
              "    <tr>\n",
              "      <th>50%</th>\n",
              "      <td>12.600000</td>\n",
              "      <td>0.053931</td>\n",
              "      <td>143.012800</td>\n",
              "      <td>1999.000000</td>\n",
              "      <td>1794.331000</td>\n",
              "    </tr>\n",
              "    <tr>\n",
              "      <th>75%</th>\n",
              "      <td>16.850000</td>\n",
              "      <td>0.094585</td>\n",
              "      <td>185.643700</td>\n",
              "      <td>2004.000000</td>\n",
              "      <td>3101.296400</td>\n",
              "    </tr>\n",
              "    <tr>\n",
              "      <th>max</th>\n",
              "      <td>21.350000</td>\n",
              "      <td>0.328391</td>\n",
              "      <td>266.888400</td>\n",
              "      <td>2009.000000</td>\n",
              "      <td>13086.964800</td>\n",
              "    </tr>\n",
              "  </tbody>\n",
              "</table>\n",
              "</div>\n",
              "    <div class=\"colab-df-buttons\">\n",
              "\n",
              "  <div class=\"colab-df-container\">\n",
              "    <button class=\"colab-df-convert\" onclick=\"convertToInteractive('df-a3f81e94-a3d7-40b4-946c-c21e507a7b9c')\"\n",
              "            title=\"Convert this dataframe to an interactive table.\"\n",
              "            style=\"display:none;\">\n",
              "\n",
              "  <svg xmlns=\"http://www.w3.org/2000/svg\" height=\"24px\" viewBox=\"0 -960 960 960\">\n",
              "    <path d=\"M120-120v-720h720v720H120Zm60-500h600v-160H180v160Zm220 220h160v-160H400v160Zm0 220h160v-160H400v160ZM180-400h160v-160H180v160Zm440 0h160v-160H620v160ZM180-180h160v-160H180v160Zm440 0h160v-160H620v160Z\"/>\n",
              "  </svg>\n",
              "    </button>\n",
              "\n",
              "  <style>\n",
              "    .colab-df-container {\n",
              "      display:flex;\n",
              "      gap: 12px;\n",
              "    }\n",
              "\n",
              "    .colab-df-convert {\n",
              "      background-color: #E8F0FE;\n",
              "      border: none;\n",
              "      border-radius: 50%;\n",
              "      cursor: pointer;\n",
              "      display: none;\n",
              "      fill: #1967D2;\n",
              "      height: 32px;\n",
              "      padding: 0 0 0 0;\n",
              "      width: 32px;\n",
              "    }\n",
              "\n",
              "    .colab-df-convert:hover {\n",
              "      background-color: #E2EBFA;\n",
              "      box-shadow: 0px 1px 2px rgba(60, 64, 67, 0.3), 0px 1px 3px 1px rgba(60, 64, 67, 0.15);\n",
              "      fill: #174EA6;\n",
              "    }\n",
              "\n",
              "    .colab-df-buttons div {\n",
              "      margin-bottom: 4px;\n",
              "    }\n",
              "\n",
              "    [theme=dark] .colab-df-convert {\n",
              "      background-color: #3B4455;\n",
              "      fill: #D2E3FC;\n",
              "    }\n",
              "\n",
              "    [theme=dark] .colab-df-convert:hover {\n",
              "      background-color: #434B5C;\n",
              "      box-shadow: 0px 1px 3px 1px rgba(0, 0, 0, 0.15);\n",
              "      filter: drop-shadow(0px 1px 2px rgba(0, 0, 0, 0.3));\n",
              "      fill: #FFFFFF;\n",
              "    }\n",
              "  </style>\n",
              "\n",
              "    <script>\n",
              "      const buttonEl =\n",
              "        document.querySelector('#df-a3f81e94-a3d7-40b4-946c-c21e507a7b9c button.colab-df-convert');\n",
              "      buttonEl.style.display =\n",
              "        google.colab.kernel.accessAllowed ? 'block' : 'none';\n",
              "\n",
              "      async function convertToInteractive(key) {\n",
              "        const element = document.querySelector('#df-a3f81e94-a3d7-40b4-946c-c21e507a7b9c');\n",
              "        const dataTable =\n",
              "          await google.colab.kernel.invokeFunction('convertToInteractive',\n",
              "                                                    [key], {});\n",
              "        if (!dataTable) return;\n",
              "\n",
              "        const docLinkHtml = 'Like what you see? Visit the ' +\n",
              "          '<a target=\"_blank\" href=https://colab.research.google.com/notebooks/data_table.ipynb>data table notebook</a>'\n",
              "          + ' to learn more about interactive tables.';\n",
              "        element.innerHTML = '';\n",
              "        dataTable['output_type'] = 'display_data';\n",
              "        await google.colab.output.renderOutput(dataTable, element);\n",
              "        const docLink = document.createElement('div');\n",
              "        docLink.innerHTML = docLinkHtml;\n",
              "        element.appendChild(docLink);\n",
              "      }\n",
              "    </script>\n",
              "  </div>\n",
              "\n",
              "\n",
              "<div id=\"df-18f4c574-e726-49aa-9e18-97a67430aca4\">\n",
              "  <button class=\"colab-df-quickchart\" onclick=\"quickchart('df-18f4c574-e726-49aa-9e18-97a67430aca4')\"\n",
              "            title=\"Suggest charts\"\n",
              "            style=\"display:none;\">\n",
              "\n",
              "<svg xmlns=\"http://www.w3.org/2000/svg\" height=\"24px\"viewBox=\"0 0 24 24\"\n",
              "     width=\"24px\">\n",
              "    <g>\n",
              "        <path d=\"M19 3H5c-1.1 0-2 .9-2 2v14c0 1.1.9 2 2 2h14c1.1 0 2-.9 2-2V5c0-1.1-.9-2-2-2zM9 17H7v-7h2v7zm4 0h-2V7h2v10zm4 0h-2v-4h2v4z\"/>\n",
              "    </g>\n",
              "</svg>\n",
              "  </button>\n",
              "\n",
              "<style>\n",
              "  .colab-df-quickchart {\n",
              "      --bg-color: #E8F0FE;\n",
              "      --fill-color: #1967D2;\n",
              "      --hover-bg-color: #E2EBFA;\n",
              "      --hover-fill-color: #174EA6;\n",
              "      --disabled-fill-color: #AAA;\n",
              "      --disabled-bg-color: #DDD;\n",
              "  }\n",
              "\n",
              "  [theme=dark] .colab-df-quickchart {\n",
              "      --bg-color: #3B4455;\n",
              "      --fill-color: #D2E3FC;\n",
              "      --hover-bg-color: #434B5C;\n",
              "      --hover-fill-color: #FFFFFF;\n",
              "      --disabled-bg-color: #3B4455;\n",
              "      --disabled-fill-color: #666;\n",
              "  }\n",
              "\n",
              "  .colab-df-quickchart {\n",
              "    background-color: var(--bg-color);\n",
              "    border: none;\n",
              "    border-radius: 50%;\n",
              "    cursor: pointer;\n",
              "    display: none;\n",
              "    fill: var(--fill-color);\n",
              "    height: 32px;\n",
              "    padding: 0;\n",
              "    width: 32px;\n",
              "  }\n",
              "\n",
              "  .colab-df-quickchart:hover {\n",
              "    background-color: var(--hover-bg-color);\n",
              "    box-shadow: 0 1px 2px rgba(60, 64, 67, 0.3), 0 1px 3px 1px rgba(60, 64, 67, 0.15);\n",
              "    fill: var(--button-hover-fill-color);\n",
              "  }\n",
              "\n",
              "  .colab-df-quickchart-complete:disabled,\n",
              "  .colab-df-quickchart-complete:disabled:hover {\n",
              "    background-color: var(--disabled-bg-color);\n",
              "    fill: var(--disabled-fill-color);\n",
              "    box-shadow: none;\n",
              "  }\n",
              "\n",
              "  .colab-df-spinner {\n",
              "    border: 2px solid var(--fill-color);\n",
              "    border-color: transparent;\n",
              "    border-bottom-color: var(--fill-color);\n",
              "    animation:\n",
              "      spin 1s steps(1) infinite;\n",
              "  }\n",
              "\n",
              "  @keyframes spin {\n",
              "    0% {\n",
              "      border-color: transparent;\n",
              "      border-bottom-color: var(--fill-color);\n",
              "      border-left-color: var(--fill-color);\n",
              "    }\n",
              "    20% {\n",
              "      border-color: transparent;\n",
              "      border-left-color: var(--fill-color);\n",
              "      border-top-color: var(--fill-color);\n",
              "    }\n",
              "    30% {\n",
              "      border-color: transparent;\n",
              "      border-left-color: var(--fill-color);\n",
              "      border-top-color: var(--fill-color);\n",
              "      border-right-color: var(--fill-color);\n",
              "    }\n",
              "    40% {\n",
              "      border-color: transparent;\n",
              "      border-right-color: var(--fill-color);\n",
              "      border-top-color: var(--fill-color);\n",
              "    }\n",
              "    60% {\n",
              "      border-color: transparent;\n",
              "      border-right-color: var(--fill-color);\n",
              "    }\n",
              "    80% {\n",
              "      border-color: transparent;\n",
              "      border-right-color: var(--fill-color);\n",
              "      border-bottom-color: var(--fill-color);\n",
              "    }\n",
              "    90% {\n",
              "      border-color: transparent;\n",
              "      border-bottom-color: var(--fill-color);\n",
              "    }\n",
              "  }\n",
              "</style>\n",
              "\n",
              "  <script>\n",
              "    async function quickchart(key) {\n",
              "      const quickchartButtonEl =\n",
              "        document.querySelector('#' + key + ' button');\n",
              "      quickchartButtonEl.disabled = true;  // To prevent multiple clicks.\n",
              "      quickchartButtonEl.classList.add('colab-df-spinner');\n",
              "      try {\n",
              "        const charts = await google.colab.kernel.invokeFunction(\n",
              "            'suggestCharts', [key], {});\n",
              "      } catch (error) {\n",
              "        console.error('Error during call to suggestCharts:', error);\n",
              "      }\n",
              "      quickchartButtonEl.classList.remove('colab-df-spinner');\n",
              "      quickchartButtonEl.classList.add('colab-df-quickchart-complete');\n",
              "    }\n",
              "    (() => {\n",
              "      let quickchartButtonEl =\n",
              "        document.querySelector('#df-18f4c574-e726-49aa-9e18-97a67430aca4 button');\n",
              "      quickchartButtonEl.style.display =\n",
              "        google.colab.kernel.accessAllowed ? 'block' : 'none';\n",
              "    })();\n",
              "  </script>\n",
              "</div>\n",
              "\n",
              "    </div>\n",
              "  </div>\n"
            ],
            "application/vnd.google.colaboratory.intrinsic+json": {
              "type": "dataframe",
              "summary": "{\n  \"name\": \"train\",\n  \"rows\": 8,\n  \"fields\": [\n    {\n      \"column\": \"Item_Weight\",\n      \"properties\": {\n        \"dtype\": \"number\",\n        \"std\": 2491.9706342896925,\n        \"min\": 4.555,\n        \"max\": 7060.0,\n        \"num_unique_values\": 8,\n        \"samples\": [\n          12.857645184135976,\n          12.6,\n          7060.0\n        ],\n        \"semantic_type\": \"\",\n        \"description\": \"\"\n      }\n    },\n    {\n      \"column\": \"Item_Visibility\",\n      \"properties\": {\n        \"dtype\": \"number\",\n        \"std\": 3013.304152859587,\n        \"min\": 0.0,\n        \"max\": 8523.0,\n        \"num_unique_values\": 8,\n        \"samples\": [\n          0.06613202877895108,\n          0.053930934,\n          8523.0\n        ],\n        \"semantic_type\": \"\",\n        \"description\": \"\"\n      }\n    },\n    {\n      \"column\": \"Item_MRP\",\n      \"properties\": {\n        \"dtype\": \"number\",\n        \"std\": 2967.5785044087356,\n        \"min\": 31.29,\n        \"max\": 8523.0,\n        \"num_unique_values\": 8,\n        \"samples\": [\n          140.9927819781767,\n          143.0128,\n          8523.0\n        ],\n        \"semantic_type\": \"\",\n        \"description\": \"\"\n      }\n    },\n    {\n      \"column\": \"Outlet_Establishment_Year\",\n      \"properties\": {\n        \"dtype\": \"number\",\n        \"std\": 2506.291593828245,\n        \"min\": 8.371760408092655,\n        \"max\": 8523.0,\n        \"num_unique_values\": 8,\n        \"samples\": [\n          1997.8318667135984,\n          1999.0,\n          8523.0\n        ],\n        \"semantic_type\": \"\",\n        \"description\": \"\"\n      }\n    },\n    {\n      \"column\": \"Item_Outlet_Sales\",\n      \"properties\": {\n        \"dtype\": \"number\",\n        \"std\": 4519.156901462071,\n        \"min\": 33.29,\n        \"max\": 13086.9648,\n        \"num_unique_values\": 8,\n        \"samples\": [\n          2181.288913575032,\n          1794.331,\n          8523.0\n        ],\n        \"semantic_type\": \"\",\n        \"description\": \"\"\n      }\n    }\n  ]\n}"
            }
          },
          "metadata": {},
          "execution_count": 13
        }
      ],
      "source": [
        "#Lets look at the discription also\n",
        "train.describe()"
      ]
    },
    {
      "cell_type": "code",
      "execution_count": 18,
      "id": "0974b9da",
      "metadata": {
        "execution": {
          "iopub.execute_input": "2023-12-13T16:21:21.960598Z",
          "iopub.status.busy": "2023-12-13T16:21:21.960015Z",
          "iopub.status.idle": "2023-12-13T16:21:21.974177Z",
          "shell.execute_reply": "2023-12-13T16:21:21.972324Z"
        },
        "papermill": {
          "duration": 0.053183,
          "end_time": "2023-12-13T16:21:21.976799",
          "exception": false,
          "start_time": "2023-12-13T16:21:21.923616",
          "status": "completed"
        },
        "tags": [],
        "id": "0974b9da",
        "outputId": "72e8de0c-2346-41b1-b44e-a3d829bcf6c9",
        "colab": {
          "base_uri": "https://localhost:8080/"
        }
      },
      "outputs": [
        {
          "output_type": "stream",
          "name": "stdout",
          "text": [
            "Skewness of the numerical columns: \n",
            " Item_Weight                  0.082426\n",
            "Item_Visibility              1.167091\n",
            "Item_MRP                     0.127202\n",
            "Outlet_Establishment_Year   -0.396641\n",
            "Item_Outlet_Sales            1.177531\n",
            "dtype: float64\n"
          ]
        }
      ],
      "source": [
        "# Lets look at the skewness of the numerical columns\n",
        "num_columns = train.select_dtypes(include=['float64','int64'])\n",
        "#print(num_columns) #optional\n",
        "skewness = num_columns.apply(lambda x:x.skew())\n",
        "print('Skewness of the numerical columns: \\n',skewness)\n",
        "#skewness is to find the statistical mesure of the assymmentric distribution of the data"
      ]
    },
    {
      "cell_type": "code",
      "execution_count": 19,
      "id": "0fa8e84b",
      "metadata": {
        "execution": {
          "iopub.execute_input": "2023-12-13T16:21:22.070350Z",
          "iopub.status.busy": "2023-12-13T16:21:22.069722Z",
          "iopub.status.idle": "2023-12-13T16:21:22.096942Z",
          "shell.execute_reply": "2023-12-13T16:21:22.095531Z"
        },
        "papermill": {
          "duration": 0.086624,
          "end_time": "2023-12-13T16:21:22.100733",
          "exception": false,
          "start_time": "2023-12-13T16:21:22.014109",
          "status": "completed"
        },
        "tags": [],
        "id": "0fa8e84b",
        "outputId": "39324926-1641-420d-df4b-1bd002004e8d",
        "colab": {
          "base_uri": "https://localhost:8080/"
        }
      },
      "outputs": [
        {
          "output_type": "execute_result",
          "data": {
            "text/plain": [
              "False"
            ]
          },
          "metadata": {},
          "execution_count": 19
        }
      ],
      "source": [
        "#Lets check for duplicate rows of data\n",
        "train.duplicated().any()"
      ]
    },
    {
      "cell_type": "code",
      "execution_count": 20,
      "id": "37d1b343",
      "metadata": {
        "execution": {
          "iopub.execute_input": "2023-12-13T16:21:22.192479Z",
          "iopub.status.busy": "2023-12-13T16:21:22.191808Z",
          "iopub.status.idle": "2023-12-13T16:21:22.216913Z",
          "shell.execute_reply": "2023-12-13T16:21:22.215306Z"
        },
        "papermill": {
          "duration": 0.069252,
          "end_time": "2023-12-13T16:21:22.220239",
          "exception": false,
          "start_time": "2023-12-13T16:21:22.150987",
          "status": "completed"
        },
        "tags": [],
        "id": "37d1b343",
        "outputId": "7558d04c-cbbd-4554-c7d1-712972624d61",
        "colab": {
          "base_uri": "https://localhost:8080/"
        }
      },
      "outputs": [
        {
          "output_type": "execute_result",
          "data": {
            "text/plain": [
              "Item_Identifier              1559\n",
              "Item_Weight                   415\n",
              "Item_Fat_Content                5\n",
              "Item_Visibility              7880\n",
              "Item_Type                      16\n",
              "Item_MRP                     5938\n",
              "Outlet_Identifier              10\n",
              "Outlet_Establishment_Year       9\n",
              "Outlet_Size                     3\n",
              "Outlet_Location_Type            3\n",
              "Outlet_Type                     4\n",
              "Item_Outlet_Sales            3493\n",
              "dtype: int64"
            ]
          },
          "metadata": {},
          "execution_count": 20
        }
      ],
      "source": [
        "#Lets check for Cardinality(unique values in the column)\n",
        "train.nunique()"
      ]
    },
    {
      "cell_type": "markdown",
      "id": "3f147db5",
      "metadata": {
        "papermill": {
          "duration": 0.035683,
          "end_time": "2023-12-13T16:21:22.292763",
          "exception": false,
          "start_time": "2023-12-13T16:21:22.257080",
          "status": "completed"
        },
        "tags": [],
        "id": "3f147db5"
      },
      "source": [
        "**Observations**:\n",
        "- Shape of our Dataset is : (8523, 12)\n",
        "- We have missing values in : Outlet_Size & Item_Weight .\n",
        "- **Item_Outlet_Sales** is our target column.\n",
        "- Few of the features have very less skewness. Data is almost normally distributed. No column with very high skewness.\n",
        "- We don't have any duplicate rows.\n",
        "- Few features have very high cardinality like **Item_Visibility,Item_MRP,Item_Outlet_Sales**.\n",
        "- dtype of all the columns looks fine.\n"
      ]
    },
    {
      "cell_type": "markdown",
      "id": "ea5fe1c9",
      "metadata": {
        "papermill": {
          "duration": 0.035742,
          "end_time": "2023-12-13T16:21:22.370557",
          "exception": false,
          "start_time": "2023-12-13T16:21:22.334815",
          "status": "completed"
        },
        "tags": [],
        "id": "ea5fe1c9"
      },
      "source": [
        "### 3.Exploratory Data Analysis"
      ]
    },
    {
      "cell_type": "code",
      "execution_count": 21,
      "id": "07d008da",
      "metadata": {
        "execution": {
          "iopub.execute_input": "2023-12-13T16:21:22.445187Z",
          "iopub.status.busy": "2023-12-13T16:21:22.444564Z",
          "iopub.status.idle": "2023-12-13T16:21:22.451092Z",
          "shell.execute_reply": "2023-12-13T16:21:22.449622Z"
        },
        "papermill": {
          "duration": 0.047189,
          "end_time": "2023-12-13T16:21:22.453923",
          "exception": false,
          "start_time": "2023-12-13T16:21:22.406734",
          "status": "completed"
        },
        "tags": [],
        "id": "07d008da"
      },
      "outputs": [],
      "source": [
        "# Before imputing the missing values let's do a simple EDA to check any inconsistency or outliers in our dataset\n"
      ]
    },
    {
      "cell_type": "code",
      "execution_count": 23,
      "id": "c5ab732e",
      "metadata": {
        "execution": {
          "iopub.execute_input": "2023-12-13T16:21:22.541414Z",
          "iopub.status.busy": "2023-12-13T16:21:22.540426Z",
          "iopub.status.idle": "2023-12-13T16:21:22.953263Z",
          "shell.execute_reply": "2023-12-13T16:21:22.951787Z"
        },
        "papermill": {
          "duration": 0.460499,
          "end_time": "2023-12-13T16:21:22.956572",
          "exception": false,
          "start_time": "2023-12-13T16:21:22.496073",
          "status": "completed"
        },
        "tags": [],
        "id": "c5ab732e",
        "outputId": "f8f78d8d-233f-4f2b-a47c-3c9d6375edc9",
        "colab": {
          "base_uri": "https://localhost:8080/",
          "height": 450
        }
      },
      "outputs": [
        {
          "output_type": "display_data",
          "data": {
            "text/plain": [
              "<Figure size 640x480 with 1 Axes>"
            ],
            "image/png": "[encoded data removed]"
          },
          "metadata": {}
        }
      ],
      "source": [
        "# Lets look at the columns Item_Visibility and Item_Fat_Content\n",
        "sns.boxplot(x = train['Item_Visibility'], y = train['Item_Fat_Content'])\n",
        "plt.show()\n",
        "#commit vannakm da mapla"
      ]
    },
    {
      "cell_type": "code",
      "execution_count": null,
      "id": "06d7bf23",
      "metadata": {
        "execution": {
          "iopub.execute_input": "2023-12-13T16:21:23.034008Z",
          "iopub.status.busy": "2023-12-13T16:21:23.033461Z",
          "iopub.status.idle": "2023-12-13T16:21:23.325785Z",
          "shell.execute_reply": "2023-12-13T16:21:23.324214Z"
        },
        "papermill": {
          "duration": 0.33661,
          "end_time": "2023-12-13T16:21:23.330126",
          "exception": false,
          "start_time": "2023-12-13T16:21:22.993516",
          "status": "completed"
        },
        "tags": [],
        "id": "06d7bf23",
        "outputId": "998c3b5a-4429-4f4f-f64c-cb7eb2896ece"
      },
      "outputs": [
        {
          "data": {
            "image/png": "[encoded data removed]",
            "text/plain": [
              "<Figure size 640x480 with 1 Axes>"
            ]
          },
          "metadata": {},
          "output_type": "display_data"
        }
      ],
      "source": [
        "# Lets look at the column Item_Fat_Content\n",
        "train['Item_Fat_Content'].value_counts().plot(kind='barh')\n",
        "plt.show()"
      ]
    },
    {
      "cell_type": "code",
      "execution_count": null,
      "id": "493f14e0",
      "metadata": {
        "execution": {
          "iopub.execute_input": "2023-12-13T16:21:23.410857Z",
          "iopub.status.busy": "2023-12-13T16:21:23.409285Z",
          "iopub.status.idle": "2023-12-13T16:21:23.712234Z",
          "shell.execute_reply": "2023-12-13T16:21:23.710873Z"
        },
        "papermill": {
          "duration": 0.345453,
          "end_time": "2023-12-13T16:21:23.716805",
          "exception": false,
          "start_time": "2023-12-13T16:21:23.371352",
          "status": "completed"
        },
        "tags": [],
        "id": "493f14e0",
        "outputId": "1373ad0a-5a4b-435b-8337-e2cc088e84b7"
      },
      "outputs": [
        {
          "data": {
            "image/png": "[encoded data removed]",
            "text/plain": [
              "<Figure size 640x480 with 1 Axes>"
            ]
          },
          "metadata": {},
          "output_type": "display_data"
        }
      ],
      "source": [
        "# Lets look at Item_Type column\n",
        "train['Item_Type'].value_counts().plot(kind='barh')\n",
        "plt.show()"
      ]
    },
    {
      "cell_type": "code",
      "execution_count": null,
      "id": "eadc720a",
      "metadata": {
        "execution": {
          "iopub.execute_input": "2023-12-13T16:21:23.793908Z",
          "iopub.status.busy": "2023-12-13T16:21:23.793315Z",
          "iopub.status.idle": "2023-12-13T16:21:24.235525Z",
          "shell.execute_reply": "2023-12-13T16:21:24.234010Z"
        },
        "papermill": {
          "duration": 0.484853,
          "end_time": "2023-12-13T16:21:24.238620",
          "exception": false,
          "start_time": "2023-12-13T16:21:23.753767",
          "status": "completed"
        },
        "tags": [],
        "id": "eadc720a",
        "outputId": "529ed1a6-c5aa-4a5b-8369-149a989610e1"
      },
      "outputs": [
        {
          "data": {
            "image/png": "[encoded data removed]",
            "text/plain": [
              "<Figure size 640x480 with 2 Axes>"
            ]
          },
          "metadata": {},
          "output_type": "display_data"
        }
      ],
      "source": [
        "# Lets look at the heatmap for the co-relation\n",
        "sns.heatmap(num_columns.corr(),annot=True)\n",
        "plt.show()"
      ]
    },
    {
      "cell_type": "markdown",
      "id": "6aad468b",
      "metadata": {
        "papermill": {
          "duration": 0.037044,
          "end_time": "2023-12-13T16:21:24.313112",
          "exception": false,
          "start_time": "2023-12-13T16:21:24.276068",
          "status": "completed"
        },
        "tags": [],
        "id": "6aad468b"
      },
      "source": [
        "**Observations**:\n",
        "- We have few inconsistencies in Item_Fat_Content\n",
        "- Few columns have some amount of co-relation like Item_MRP and Item_Outlet_Sales."
      ]
    },
    {
      "cell_type": "markdown",
      "id": "54da6dde",
      "metadata": {
        "papermill": {
          "duration": 0.037243,
          "end_time": "2023-12-13T16:21:24.388380",
          "exception": false,
          "start_time": "2023-12-13T16:21:24.351137",
          "status": "completed"
        },
        "tags": [],
        "id": "54da6dde"
      },
      "source": [
        "### 4.Data Preprocessing"
      ]
    },
    {
      "cell_type": "code",
      "execution_count": null,
      "id": "40aa0468",
      "metadata": {
        "execution": {
          "iopub.execute_input": "2023-12-13T16:21:24.465396Z",
          "iopub.status.busy": "2023-12-13T16:21:24.464872Z",
          "iopub.status.idle": "2023-12-13T16:21:24.469989Z",
          "shell.execute_reply": "2023-12-13T16:21:24.468872Z"
        },
        "papermill": {
          "duration": 0.046469,
          "end_time": "2023-12-13T16:21:24.472301",
          "exception": false,
          "start_time": "2023-12-13T16:21:24.425832",
          "status": "completed"
        },
        "tags": [],
        "id": "40aa0468"
      },
      "outputs": [],
      "source": [
        "#Now lets prepare our Data for Modeling"
      ]
    },
    {
      "cell_type": "code",
      "execution_count": null,
      "id": "00d7f6b5",
      "metadata": {
        "execution": {
          "iopub.execute_input": "2023-12-13T16:21:24.551582Z",
          "iopub.status.busy": "2023-12-13T16:21:24.550826Z",
          "iopub.status.idle": "2023-12-13T16:21:24.555043Z",
          "shell.execute_reply": "2023-12-13T16:21:24.554211Z"
        },
        "papermill": {
          "duration": 0.046342,
          "end_time": "2023-12-13T16:21:24.557460",
          "exception": false,
          "start_time": "2023-12-13T16:21:24.511118",
          "status": "completed"
        },
        "tags": [],
        "id": "00d7f6b5"
      },
      "outputs": [],
      "source": [
        "# I have made a User defined function to impute the missing values\n",
        "# and remove isconsistencies in 'Item_Fat_Content'\n",
        "# Lets also make a new column to check the Years of Service"
      ]
    },
    {
      "cell_type": "code",
      "execution_count": null,
      "id": "8d75d21c",
      "metadata": {
        "execution": {
          "iopub.execute_input": "2023-12-13T16:21:24.635391Z",
          "iopub.status.busy": "2023-12-13T16:21:24.634850Z",
          "iopub.status.idle": "2023-12-13T16:21:24.643253Z",
          "shell.execute_reply": "2023-12-13T16:21:24.641898Z"
        },
        "papermill": {
          "duration": 0.051269,
          "end_time": "2023-12-13T16:21:24.646210",
          "exception": false,
          "start_time": "2023-12-13T16:21:24.594941",
          "status": "completed"
        },
        "tags": [],
        "id": "8d75d21c"
      },
      "outputs": [],
      "source": [
        "def data_prep(train):\n",
        "  train['Item_Weight'] = np.where(train['Item_Weight'].isna(),train['Item_Weight'].median(skipna = True),train['Item_Weight'])\n",
        "  train['Outlet_Size'] = np.where(train['Outlet_Size'].isna(),train['Outlet_Size'].mode()[0], train['Outlet_Size'])\n",
        "  train['Item_Fat_Content'] = train['Item_Fat_Content'].replace('low fat', 'Low Fat')\n",
        "  train['Item_Fat_Content'] = train['Item_Fat_Content'].replace('LF', 'Low Fat')\n",
        "  train['Item_Fat_Content'] = train['Item_Fat_Content'].replace('reg', 'Regular')\n",
        "  train['YOB'] = 2023 - train['Outlet_Establishment_Year']\n",
        "  return train"
      ]
    },
    {
      "cell_type": "code",
      "execution_count": null,
      "id": "d1db7e9a",
      "metadata": {
        "execution": {
          "iopub.execute_input": "2023-12-13T16:21:24.727627Z",
          "iopub.status.busy": "2023-12-13T16:21:24.726376Z",
          "iopub.status.idle": "2023-12-13T16:21:24.749862Z",
          "shell.execute_reply": "2023-12-13T16:21:24.748511Z"
        },
        "papermill": {
          "duration": 0.068045,
          "end_time": "2023-12-13T16:21:24.753125",
          "exception": false,
          "start_time": "2023-12-13T16:21:24.685080",
          "status": "completed"
        },
        "tags": [],
        "id": "d1db7e9a"
      },
      "outputs": [],
      "source": [
        "train_new = data_prep(train)"
      ]
    },
    {
      "cell_type": "code",
      "execution_count": null,
      "id": "12ffe4ec",
      "metadata": {
        "execution": {
          "iopub.execute_input": "2023-12-13T16:21:24.831753Z",
          "iopub.status.busy": "2023-12-13T16:21:24.831243Z",
          "iopub.status.idle": "2023-12-13T16:21:24.854604Z",
          "shell.execute_reply": "2023-12-13T16:21:24.852889Z"
        },
        "papermill": {
          "duration": 0.065467,
          "end_time": "2023-12-13T16:21:24.857529",
          "exception": false,
          "start_time": "2023-12-13T16:21:24.792062",
          "status": "completed"
        },
        "tags": [],
        "id": "12ffe4ec",
        "outputId": "834fc8a3-0fc7-47bf-8d8e-daf6681d4b2b"
      },
      "outputs": [
        {
          "name": "stdout",
          "output_type": "stream",
          "text": [
            "<class 'pandas.core.frame.DataFrame'>\n",
            "RangeIndex: 8523 entries, 0 to 8522\n",
            "Data columns (total 13 columns):\n",
            " #   Column                     Non-Null Count  Dtype  \n",
            "---  ------                     --------------  -----  \n",
            " 0   Item_Identifier            8523 non-null   object \n",
            " 1   Item_Weight                8523 non-null   float64\n",
            " 2   Item_Fat_Content           8523 non-null   object \n",
            " 3   Item_Visibility            8523 non-null   float64\n",
            " 4   Item_Type                  8523 non-null   object \n",
            " 5   Item_MRP                   8523 non-null   float64\n",
            " 6   Outlet_Identifier          8523 non-null   object \n",
            " 7   Outlet_Establishment_Year  8523 non-null   int64  \n",
            " 8   Outlet_Size                8523 non-null   object \n",
            " 9   Outlet_Location_Type       8523 non-null   object \n",
            " 10  Outlet_Type                8523 non-null   object \n",
            " 11  Item_Outlet_Sales          8523 non-null   float64\n",
            " 12  YOB                        8523 non-null   int64  \n",
            "dtypes: float64(4), int64(2), object(7)\n",
            "memory usage: 865.7+ KB\n"
          ]
        }
      ],
      "source": [
        "train_new.info()"
      ]
    },
    {
      "cell_type": "code",
      "execution_count": null,
      "id": "d84d721f",
      "metadata": {
        "execution": {
          "iopub.execute_input": "2023-12-13T16:21:24.937095Z",
          "iopub.status.busy": "2023-12-13T16:21:24.935924Z",
          "iopub.status.idle": "2023-12-13T16:21:24.947373Z",
          "shell.execute_reply": "2023-12-13T16:21:24.946088Z"
        },
        "papermill": {
          "duration": 0.054667,
          "end_time": "2023-12-13T16:21:24.950166",
          "exception": false,
          "start_time": "2023-12-13T16:21:24.895499",
          "status": "completed"
        },
        "tags": [],
        "id": "d84d721f",
        "outputId": "87d2632e-87da-4b36-c768-06f35bdb313f"
      },
      "outputs": [
        {
          "data": {
            "text/plain": [
              "Item_Fat_Content\n",
              "Low Fat    5517\n",
              "Regular    3006\n",
              "Name: count, dtype: int64"
            ]
          },
          "execution_count": 24,
          "metadata": {},
          "output_type": "execute_result"
        }
      ],
      "source": [
        "#Lets look at the 'Item_Fat_Content'\n",
        "train['Item_Fat_Content'].value_counts()"
      ]
    },
    {
      "cell_type": "code",
      "execution_count": null,
      "id": "15990bfa",
      "metadata": {
        "execution": {
          "iopub.execute_input": "2023-12-13T16:21:25.029890Z",
          "iopub.status.busy": "2023-12-13T16:21:25.029333Z",
          "iopub.status.idle": "2023-12-13T16:21:25.034962Z",
          "shell.execute_reply": "2023-12-13T16:21:25.033695Z"
        },
        "papermill": {
          "duration": 0.049103,
          "end_time": "2023-12-13T16:21:25.037637",
          "exception": false,
          "start_time": "2023-12-13T16:21:24.988534",
          "status": "completed"
        },
        "tags": [],
        "id": "15990bfa"
      },
      "outputs": [],
      "source": [
        "# Lets do a chi-square test to check the co-relation"
      ]
    },
    {
      "cell_type": "code",
      "execution_count": null,
      "id": "9061ea82",
      "metadata": {
        "execution": {
          "iopub.execute_input": "2023-12-13T16:21:25.117410Z",
          "iopub.status.busy": "2023-12-13T16:21:25.116823Z",
          "iopub.status.idle": "2023-12-13T16:21:25.129756Z",
          "shell.execute_reply": "2023-12-13T16:21:25.128301Z"
        },
        "papermill": {
          "duration": 0.056343,
          "end_time": "2023-12-13T16:21:25.132712",
          "exception": false,
          "start_time": "2023-12-13T16:21:25.076369",
          "status": "completed"
        },
        "tags": [],
        "id": "9061ea82",
        "outputId": "890fda7c-e44d-40d3-cb8b-9126fac8aee2"
      },
      "outputs": [
        {
          "data": {
            "text/plain": [
              "Item_Fat_Content\n",
              "Low Fat    5517\n",
              "Regular    3006\n",
              "Name: count, dtype: int64"
            ]
          },
          "execution_count": 26,
          "metadata": {},
          "output_type": "execute_result"
        }
      ],
      "source": [
        "train['Item_Fat_Content'].value_counts()"
      ]
    },
    {
      "cell_type": "code",
      "execution_count": null,
      "id": "96878932",
      "metadata": {
        "execution": {
          "iopub.execute_input": "2023-12-13T16:21:25.211409Z",
          "iopub.status.busy": "2023-12-13T16:21:25.210910Z",
          "iopub.status.idle": "2023-12-13T16:21:25.223105Z",
          "shell.execute_reply": "2023-12-13T16:21:25.221941Z"
        },
        "papermill": {
          "duration": 0.054354,
          "end_time": "2023-12-13T16:21:25.225489",
          "exception": false,
          "start_time": "2023-12-13T16:21:25.171135",
          "status": "completed"
        },
        "tags": [],
        "id": "96878932",
        "outputId": "fe20953a-668b-4e6a-bd28-4f9fa1ccdb6e"
      },
      "outputs": [
        {
          "data": {
            "text/plain": [
              "Outlet_Size\n",
              "Medium    5203\n",
              "Small     2388\n",
              "High       932\n",
              "Name: count, dtype: int64"
            ]
          },
          "execution_count": 27,
          "metadata": {},
          "output_type": "execute_result"
        }
      ],
      "source": [
        "train_new['Outlet_Size'].value_counts()"
      ]
    },
    {
      "cell_type": "code",
      "execution_count": null,
      "id": "ae5c036d",
      "metadata": {
        "execution": {
          "iopub.execute_input": "2023-12-13T16:21:25.304857Z",
          "iopub.status.busy": "2023-12-13T16:21:25.304281Z",
          "iopub.status.idle": "2023-12-13T16:21:25.316585Z",
          "shell.execute_reply": "2023-12-13T16:21:25.315349Z"
        },
        "papermill": {
          "duration": 0.054836,
          "end_time": "2023-12-13T16:21:25.319177",
          "exception": false,
          "start_time": "2023-12-13T16:21:25.264341",
          "status": "completed"
        },
        "tags": [],
        "id": "ae5c036d",
        "outputId": "cbabad13-10e6-46fc-e164-6694aa7ede74"
      },
      "outputs": [
        {
          "data": {
            "text/plain": [
              "Outlet_Location_Type\n",
              "Tier 3    3350\n",
              "Tier 2    2785\n",
              "Tier 1    2388\n",
              "Name: count, dtype: int64"
            ]
          },
          "execution_count": 28,
          "metadata": {},
          "output_type": "execute_result"
        }
      ],
      "source": [
        "train_new['Outlet_Location_Type'].value_counts()"
      ]
    },
    {
      "cell_type": "code",
      "execution_count": null,
      "id": "8c6e4f3d",
      "metadata": {
        "execution": {
          "iopub.execute_input": "2023-12-13T16:21:25.398502Z",
          "iopub.status.busy": "2023-12-13T16:21:25.397461Z",
          "iopub.status.idle": "2023-12-13T16:21:25.428489Z",
          "shell.execute_reply": "2023-12-13T16:21:25.427162Z"
        },
        "papermill": {
          "duration": 0.073946,
          "end_time": "2023-12-13T16:21:25.431526",
          "exception": false,
          "start_time": "2023-12-13T16:21:25.357580",
          "status": "completed"
        },
        "tags": [],
        "id": "8c6e4f3d",
        "outputId": "3dabb6c2-6fd8-4f2b-d352-1bbf08712e8d"
      },
      "outputs": [
        {
          "data": {
            "text/html": [
              "<div>\n",
              "<style scoped>\n",
              "    .dataframe tbody tr th:only-of-type {\n",
              "        vertical-align: middle;\n",
              "    }\n",
              "\n",
              "    .dataframe tbody tr th {\n",
              "        vertical-align: top;\n",
              "    }\n",
              "\n",
              "    .dataframe thead th {\n",
              "        text-align: right;\n",
              "    }\n",
              "</style>\n",
              "<table border=\"1\" class=\"dataframe\">\n",
              "  <thead>\n",
              "    <tr style=\"text-align: right;\">\n",
              "      <th>Outlet_Location_Type</th>\n",
              "      <th>Tier 1</th>\n",
              "      <th>Tier 2</th>\n",
              "      <th>Tier 3</th>\n",
              "    </tr>\n",
              "    <tr>\n",
              "      <th>Outlet_Size</th>\n",
              "      <th></th>\n",
              "      <th></th>\n",
              "      <th></th>\n",
              "    </tr>\n",
              "  </thead>\n",
              "  <tbody>\n",
              "    <tr>\n",
              "      <th>High</th>\n",
              "      <td>0</td>\n",
              "      <td>0</td>\n",
              "      <td>932</td>\n",
              "    </tr>\n",
              "    <tr>\n",
              "      <th>Medium</th>\n",
              "      <td>930</td>\n",
              "      <td>1855</td>\n",
              "      <td>2418</td>\n",
              "    </tr>\n",
              "    <tr>\n",
              "      <th>Small</th>\n",
              "      <td>1458</td>\n",
              "      <td>930</td>\n",
              "      <td>0</td>\n",
              "    </tr>\n",
              "  </tbody>\n",
              "</table>\n",
              "</div>"
            ],
            "text/plain": [
              "Outlet_Location_Type  Tier 1  Tier 2  Tier 3\n",
              "Outlet_Size                                 \n",
              "High                       0       0     932\n",
              "Medium                   930    1855    2418\n",
              "Small                   1458     930       0"
            ]
          },
          "execution_count": 29,
          "metadata": {},
          "output_type": "execute_result"
        }
      ],
      "source": [
        "pd.crosstab(train_new['Outlet_Size'], train_new['Outlet_Location_Type'])"
      ]
    },
    {
      "cell_type": "code",
      "execution_count": null,
      "id": "c45b2f0a",
      "metadata": {
        "execution": {
          "iopub.execute_input": "2023-12-13T16:21:25.512395Z",
          "iopub.status.busy": "2023-12-13T16:21:25.511851Z",
          "iopub.status.idle": "2023-12-13T16:21:25.518068Z",
          "shell.execute_reply": "2023-12-13T16:21:25.516681Z"
        },
        "papermill": {
          "duration": 0.050576,
          "end_time": "2023-12-13T16:21:25.520819",
          "exception": false,
          "start_time": "2023-12-13T16:21:25.470243",
          "status": "completed"
        },
        "tags": [],
        "id": "c45b2f0a"
      },
      "outputs": [],
      "source": [
        "# Lets import chi2 contingency\n",
        "from scipy.stats import chi2_contingency"
      ]
    },
    {
      "cell_type": "code",
      "execution_count": null,
      "id": "e7ab954a",
      "metadata": {
        "execution": {
          "iopub.execute_input": "2023-12-13T16:21:25.600617Z",
          "iopub.status.busy": "2023-12-13T16:21:25.600008Z",
          "iopub.status.idle": "2023-12-13T16:21:25.607455Z",
          "shell.execute_reply": "2023-12-13T16:21:25.606284Z"
        },
        "papermill": {
          "duration": 0.050656,
          "end_time": "2023-12-13T16:21:25.610464",
          "exception": false,
          "start_time": "2023-12-13T16:21:25.559808",
          "status": "completed"
        },
        "tags": [],
        "id": "e7ab954a"
      },
      "outputs": [],
      "source": [
        "# Lets define a function for chi square test\n",
        "def chi_sq_test(var1, var2):\n",
        "  cont_table = pd.crosstab(var1, var2)\n",
        "  _,p,_,_ = chi2_contingency(cont_table)\n",
        "  if p < 0.05:\n",
        "    print('Accept the Alternate Hypothesis (There is a realation between var1 and var2)', round(p, 2))\n",
        "  else:\n",
        "    print('Failed to Reject Null Hypothesis (There is no relation between var1 and var2)', round(p, 2))\n",
        "  return cont_table"
      ]
    },
    {
      "cell_type": "code",
      "execution_count": null,
      "id": "585751a2",
      "metadata": {
        "execution": {
          "iopub.execute_input": "2023-12-13T16:21:25.693029Z",
          "iopub.status.busy": "2023-12-13T16:21:25.692460Z",
          "iopub.status.idle": "2023-12-13T16:21:25.724324Z",
          "shell.execute_reply": "2023-12-13T16:21:25.720788Z"
        },
        "papermill": {
          "duration": 0.076353,
          "end_time": "2023-12-13T16:21:25.727299",
          "exception": false,
          "start_time": "2023-12-13T16:21:25.650946",
          "status": "completed"
        },
        "tags": [],
        "id": "585751a2",
        "outputId": "99bdbd49-f954-4243-9c89-6da980bf953b"
      },
      "outputs": [
        {
          "name": "stdout",
          "output_type": "stream",
          "text": [
            "Accept the Alternate Hypothesis (There is a realation between var1 and var2) 0.0\n"
          ]
        },
        {
          "data": {
            "text/html": [
              "<div>\n",
              "<style scoped>\n",
              "    .dataframe tbody tr th:only-of-type {\n",
              "        vertical-align: middle;\n",
              "    }\n",
              "\n",
              "    .dataframe tbody tr th {\n",
              "        vertical-align: top;\n",
              "    }\n",
              "\n",
              "    .dataframe thead th {\n",
              "        text-align: right;\n",
              "    }\n",
              "</style>\n",
              "<table border=\"1\" class=\"dataframe\">\n",
              "  <thead>\n",
              "    <tr style=\"text-align: right;\">\n",
              "      <th>Outlet_Location_Type</th>\n",
              "      <th>Tier 1</th>\n",
              "      <th>Tier 2</th>\n",
              "      <th>Tier 3</th>\n",
              "    </tr>\n",
              "    <tr>\n",
              "      <th>Outlet_Size</th>\n",
              "      <th></th>\n",
              "      <th></th>\n",
              "      <th></th>\n",
              "    </tr>\n",
              "  </thead>\n",
              "  <tbody>\n",
              "    <tr>\n",
              "      <th>High</th>\n",
              "      <td>0</td>\n",
              "      <td>0</td>\n",
              "      <td>932</td>\n",
              "    </tr>\n",
              "    <tr>\n",
              "      <th>Medium</th>\n",
              "      <td>930</td>\n",
              "      <td>1855</td>\n",
              "      <td>2418</td>\n",
              "    </tr>\n",
              "    <tr>\n",
              "      <th>Small</th>\n",
              "      <td>1458</td>\n",
              "      <td>930</td>\n",
              "      <td>0</td>\n",
              "    </tr>\n",
              "  </tbody>\n",
              "</table>\n",
              "</div>"
            ],
            "text/plain": [
              "Outlet_Location_Type  Tier 1  Tier 2  Tier 3\n",
              "Outlet_Size                                 \n",
              "High                       0       0     932\n",
              "Medium                   930    1855    2418\n",
              "Small                   1458     930       0"
            ]
          },
          "execution_count": 32,
          "metadata": {},
          "output_type": "execute_result"
        }
      ],
      "source": [
        "chi_sq_test(train_new['Outlet_Size'], train_new['Outlet_Location_Type'])"
      ]
    },
    {
      "cell_type": "code",
      "execution_count": null,
      "id": "e4079f66",
      "metadata": {
        "execution": {
          "iopub.execute_input": "2023-12-13T16:21:25.808704Z",
          "iopub.status.busy": "2023-12-13T16:21:25.807184Z",
          "iopub.status.idle": "2023-12-13T16:21:25.842730Z",
          "shell.execute_reply": "2023-12-13T16:21:25.841707Z"
        },
        "papermill": {
          "duration": 0.080009,
          "end_time": "2023-12-13T16:21:25.846165",
          "exception": false,
          "start_time": "2023-12-13T16:21:25.766156",
          "status": "completed"
        },
        "tags": [],
        "id": "e4079f66",
        "outputId": "2c0e2030-bb38-43b4-ca55-b6fa9380138c"
      },
      "outputs": [
        {
          "name": "stdout",
          "output_type": "stream",
          "text": [
            "Accept the Alternate Hypothesis (There is a realation between var1 and var2) 0.0\n"
          ]
        },
        {
          "data": {
            "text/html": [
              "<div>\n",
              "<style scoped>\n",
              "    .dataframe tbody tr th:only-of-type {\n",
              "        vertical-align: middle;\n",
              "    }\n",
              "\n",
              "    .dataframe tbody tr th {\n",
              "        vertical-align: top;\n",
              "    }\n",
              "\n",
              "    .dataframe thead th {\n",
              "        text-align: right;\n",
              "    }\n",
              "</style>\n",
              "<table border=\"1\" class=\"dataframe\">\n",
              "  <thead>\n",
              "    <tr style=\"text-align: right;\">\n",
              "      <th>Item_Type</th>\n",
              "      <th>Baking Goods</th>\n",
              "      <th>Breads</th>\n",
              "      <th>Breakfast</th>\n",
              "      <th>Canned</th>\n",
              "      <th>Dairy</th>\n",
              "      <th>Frozen Foods</th>\n",
              "      <th>Fruits and Vegetables</th>\n",
              "      <th>Hard Drinks</th>\n",
              "      <th>Health and Hygiene</th>\n",
              "      <th>Household</th>\n",
              "      <th>Meat</th>\n",
              "      <th>Others</th>\n",
              "      <th>Seafood</th>\n",
              "      <th>Snack Foods</th>\n",
              "      <th>Soft Drinks</th>\n",
              "      <th>Starchy Foods</th>\n",
              "    </tr>\n",
              "    <tr>\n",
              "      <th>Item_Fat_Content</th>\n",
              "      <th></th>\n",
              "      <th></th>\n",
              "      <th></th>\n",
              "      <th></th>\n",
              "      <th></th>\n",
              "      <th></th>\n",
              "      <th></th>\n",
              "      <th></th>\n",
              "      <th></th>\n",
              "      <th></th>\n",
              "      <th></th>\n",
              "      <th></th>\n",
              "      <th></th>\n",
              "      <th></th>\n",
              "      <th></th>\n",
              "      <th></th>\n",
              "    </tr>\n",
              "  </thead>\n",
              "  <tbody>\n",
              "    <tr>\n",
              "      <th>Low Fat</th>\n",
              "      <td>329</td>\n",
              "      <td>140</td>\n",
              "      <td>41</td>\n",
              "      <td>341</td>\n",
              "      <td>418</td>\n",
              "      <td>450</td>\n",
              "      <td>630</td>\n",
              "      <td>214</td>\n",
              "      <td>520</td>\n",
              "      <td>910</td>\n",
              "      <td>170</td>\n",
              "      <td>169</td>\n",
              "      <td>37</td>\n",
              "      <td>692</td>\n",
              "      <td>374</td>\n",
              "      <td>82</td>\n",
              "    </tr>\n",
              "    <tr>\n",
              "      <th>Regular</th>\n",
              "      <td>319</td>\n",
              "      <td>111</td>\n",
              "      <td>69</td>\n",
              "      <td>308</td>\n",
              "      <td>264</td>\n",
              "      <td>406</td>\n",
              "      <td>602</td>\n",
              "      <td>0</td>\n",
              "      <td>0</td>\n",
              "      <td>0</td>\n",
              "      <td>255</td>\n",
              "      <td>0</td>\n",
              "      <td>27</td>\n",
              "      <td>508</td>\n",
              "      <td>71</td>\n",
              "      <td>66</td>\n",
              "    </tr>\n",
              "  </tbody>\n",
              "</table>\n",
              "</div>"
            ],
            "text/plain": [
              "Item_Type         Baking Goods  Breads  Breakfast  Canned  Dairy  \\\n",
              "Item_Fat_Content                                                   \n",
              "Low Fat                    329     140         41     341    418   \n",
              "Regular                    319     111         69     308    264   \n",
              "\n",
              "Item_Type         Frozen Foods  Fruits and Vegetables  Hard Drinks  \\\n",
              "Item_Fat_Content                                                     \n",
              "Low Fat                    450                    630          214   \n",
              "Regular                    406                    602            0   \n",
              "\n",
              "Item_Type         Health and Hygiene  Household  Meat  Others  Seafood  \\\n",
              "Item_Fat_Content                                                         \n",
              "Low Fat                          520        910   170     169       37   \n",
              "Regular                            0          0   255       0       27   \n",
              "\n",
              "Item_Type         Snack Foods  Soft Drinks  Starchy Foods  \n",
              "Item_Fat_Content                                           \n",
              "Low Fat                   692          374             82  \n",
              "Regular                   508           71             66  "
            ]
          },
          "execution_count": 33,
          "metadata": {},
          "output_type": "execute_result"
        }
      ],
      "source": [
        "chi_sq_test(train_new['Item_Fat_Content'], train_new['Item_Type'])"
      ]
    },
    {
      "cell_type": "markdown",
      "id": "3feff204",
      "metadata": {
        "papermill": {
          "duration": 0.03924,
          "end_time": "2023-12-13T16:21:25.924591",
          "exception": false,
          "start_time": "2023-12-13T16:21:25.885351",
          "status": "completed"
        },
        "tags": [],
        "id": "3feff204"
      },
      "source": [
        "### 5.Data Preparation"
      ]
    },
    {
      "cell_type": "code",
      "execution_count": null,
      "id": "dcb5027c",
      "metadata": {
        "execution": {
          "iopub.execute_input": "2023-12-13T16:21:26.006762Z",
          "iopub.status.busy": "2023-12-13T16:21:26.006205Z",
          "iopub.status.idle": "2023-12-13T16:21:26.011497Z",
          "shell.execute_reply": "2023-12-13T16:21:26.010508Z"
        },
        "papermill": {
          "duration": 0.049697,
          "end_time": "2023-12-13T16:21:26.014067",
          "exception": false,
          "start_time": "2023-12-13T16:21:25.964370",
          "status": "completed"
        },
        "tags": [],
        "id": "dcb5027c"
      },
      "outputs": [],
      "source": [
        "# Lets prepare our Data for Modelling"
      ]
    },
    {
      "cell_type": "code",
      "execution_count": null,
      "id": "72ea34db",
      "metadata": {
        "execution": {
          "iopub.execute_input": "2023-12-13T16:21:26.097430Z",
          "iopub.status.busy": "2023-12-13T16:21:26.096365Z",
          "iopub.status.idle": "2023-12-13T16:21:26.120921Z",
          "shell.execute_reply": "2023-12-13T16:21:26.117984Z"
        },
        "papermill": {
          "duration": 0.069302,
          "end_time": "2023-12-13T16:21:26.124084",
          "exception": false,
          "start_time": "2023-12-13T16:21:26.054782",
          "status": "completed"
        },
        "tags": [],
        "id": "72ea34db",
        "outputId": "e37ff144-641b-4299-9ccf-54a09dc13984"
      },
      "outputs": [
        {
          "name": "stdout",
          "output_type": "stream",
          "text": [
            "<class 'pandas.core.frame.DataFrame'>\n",
            "RangeIndex: 8523 entries, 0 to 8522\n",
            "Data columns (total 13 columns):\n",
            " #   Column                     Non-Null Count  Dtype  \n",
            "---  ------                     --------------  -----  \n",
            " 0   Item_Identifier            8523 non-null   object \n",
            " 1   Item_Weight                8523 non-null   float64\n",
            " 2   Item_Fat_Content           8523 non-null   object \n",
            " 3   Item_Visibility            8523 non-null   float64\n",
            " 4   Item_Type                  8523 non-null   object \n",
            " 5   Item_MRP                   8523 non-null   float64\n",
            " 6   Outlet_Identifier          8523 non-null   object \n",
            " 7   Outlet_Establishment_Year  8523 non-null   int64  \n",
            " 8   Outlet_Size                8523 non-null   object \n",
            " 9   Outlet_Location_Type       8523 non-null   object \n",
            " 10  Outlet_Type                8523 non-null   object \n",
            " 11  Item_Outlet_Sales          8523 non-null   float64\n",
            " 12  YOB                        8523 non-null   int64  \n",
            "dtypes: float64(4), int64(2), object(7)\n",
            "memory usage: 865.7+ KB\n"
          ]
        }
      ],
      "source": [
        "train.info()"
      ]
    },
    {
      "cell_type": "code",
      "execution_count": null,
      "id": "e0422de0",
      "metadata": {
        "execution": {
          "iopub.execute_input": "2023-12-13T16:21:26.207139Z",
          "iopub.status.busy": "2023-12-13T16:21:26.206274Z",
          "iopub.status.idle": "2023-12-13T16:21:26.214234Z",
          "shell.execute_reply": "2023-12-13T16:21:26.213151Z"
        },
        "papermill": {
          "duration": 0.052815,
          "end_time": "2023-12-13T16:21:26.216967",
          "exception": false,
          "start_time": "2023-12-13T16:21:26.164152",
          "status": "completed"
        },
        "tags": [],
        "id": "e0422de0"
      },
      "outputs": [],
      "source": [
        "train_new.drop(['Item_Identifier', 'Outlet_Identifier', 'Outlet_Establishment_Year'], inplace = True, axis = 1)"
      ]
    },
    {
      "cell_type": "code",
      "execution_count": null,
      "id": "404aa70c",
      "metadata": {
        "execution": {
          "iopub.execute_input": "2023-12-13T16:21:26.297933Z",
          "iopub.status.busy": "2023-12-13T16:21:26.297395Z",
          "iopub.status.idle": "2023-12-13T16:21:26.305786Z",
          "shell.execute_reply": "2023-12-13T16:21:26.304569Z"
        },
        "papermill": {
          "duration": 0.052111,
          "end_time": "2023-12-13T16:21:26.308594",
          "exception": false,
          "start_time": "2023-12-13T16:21:26.256483",
          "status": "completed"
        },
        "tags": [],
        "id": "404aa70c",
        "outputId": "e939cf64-ba93-44f0-a27b-99e9b8c1e8e7"
      },
      "outputs": [
        {
          "data": {
            "text/plain": [
              "Index(['Item_Weight', 'Item_Fat_Content', 'Item_Visibility', 'Item_Type',\n",
              "       'Item_MRP', 'Outlet_Size', 'Outlet_Location_Type', 'Outlet_Type',\n",
              "       'Item_Outlet_Sales', 'YOB'],\n",
              "      dtype='object')"
            ]
          },
          "execution_count": 37,
          "metadata": {},
          "output_type": "execute_result"
        }
      ],
      "source": [
        "train_new.columns"
      ]
    },
    {
      "cell_type": "code",
      "execution_count": null,
      "id": "05d9ffa7",
      "metadata": {
        "execution": {
          "iopub.execute_input": "2023-12-13T16:21:26.390911Z",
          "iopub.status.busy": "2023-12-13T16:21:26.389279Z",
          "iopub.status.idle": "2023-12-13T16:21:26.409421Z",
          "shell.execute_reply": "2023-12-13T16:21:26.408175Z"
        },
        "papermill": {
          "duration": 0.064192,
          "end_time": "2023-12-13T16:21:26.412237",
          "exception": false,
          "start_time": "2023-12-13T16:21:26.348045",
          "status": "completed"
        },
        "tags": [],
        "id": "05d9ffa7",
        "outputId": "98c06111-d8b1-4cb5-8d1c-381722d816d1"
      },
      "outputs": [
        {
          "name": "stdout",
          "output_type": "stream",
          "text": [
            "<class 'pandas.core.frame.DataFrame'>\n",
            "RangeIndex: 8523 entries, 0 to 8522\n",
            "Data columns (total 10 columns):\n",
            " #   Column                Non-Null Count  Dtype  \n",
            "---  ------                --------------  -----  \n",
            " 0   Item_Weight           8523 non-null   float64\n",
            " 1   Item_Fat_Content      8523 non-null   object \n",
            " 2   Item_Visibility       8523 non-null   float64\n",
            " 3   Item_Type             8523 non-null   object \n",
            " 4   Item_MRP              8523 non-null   float64\n",
            " 5   Outlet_Size           8523 non-null   object \n",
            " 6   Outlet_Location_Type  8523 non-null   object \n",
            " 7   Outlet_Type           8523 non-null   object \n",
            " 8   Item_Outlet_Sales     8523 non-null   float64\n",
            " 9   YOB                   8523 non-null   int64  \n",
            "dtypes: float64(4), int64(1), object(5)\n",
            "memory usage: 666.0+ KB\n"
          ]
        }
      ],
      "source": [
        "train_new.info()"
      ]
    },
    {
      "cell_type": "code",
      "execution_count": null,
      "id": "04dded04",
      "metadata": {
        "execution": {
          "iopub.execute_input": "2023-12-13T16:21:26.495943Z",
          "iopub.status.busy": "2023-12-13T16:21:26.494594Z",
          "iopub.status.idle": "2023-12-13T16:21:26.515833Z",
          "shell.execute_reply": "2023-12-13T16:21:26.514263Z"
        },
        "papermill": {
          "duration": 0.0667,
          "end_time": "2023-12-13T16:21:26.519067",
          "exception": false,
          "start_time": "2023-12-13T16:21:26.452367",
          "status": "completed"
        },
        "tags": [],
        "id": "04dded04"
      },
      "outputs": [],
      "source": [
        "train_new = pd.get_dummies(train_new, columns = ['Item_Fat_Content', 'Item_Type', 'Outlet_Size','Outlet_Location_Type','Outlet_Type'])"
      ]
    },
    {
      "cell_type": "code",
      "execution_count": null,
      "id": "13542cc2",
      "metadata": {
        "execution": {
          "iopub.execute_input": "2023-12-13T16:21:26.601478Z",
          "iopub.status.busy": "2023-12-13T16:21:26.600927Z",
          "iopub.status.idle": "2023-12-13T16:21:26.631775Z",
          "shell.execute_reply": "2023-12-13T16:21:26.630729Z"
        },
        "papermill": {
          "duration": 0.075236,
          "end_time": "2023-12-13T16:21:26.634456",
          "exception": false,
          "start_time": "2023-12-13T16:21:26.559220",
          "status": "completed"
        },
        "tags": [],
        "id": "13542cc2",
        "outputId": "d3560dc1-2950-49af-afa0-f20d6ac1d6f0"
      },
      "outputs": [
        {
          "data": {
            "text/html": [
              "<div>\n",
              "<style scoped>\n",
              "    .dataframe tbody tr th:only-of-type {\n",
              "        vertical-align: middle;\n",
              "    }\n",
              "\n",
              "    .dataframe tbody tr th {\n",
              "        vertical-align: top;\n",
              "    }\n",
              "\n",
              "    .dataframe thead th {\n",
              "        text-align: right;\n",
              "    }\n",
              "</style>\n",
              "<table border=\"1\" class=\"dataframe\">\n",
              "  <thead>\n",
              "    <tr style=\"text-align: right;\">\n",
              "      <th></th>\n",
              "      <th>Item_Weight</th>\n",
              "      <th>Item_Visibility</th>\n",
              "      <th>Item_MRP</th>\n",
              "      <th>Item_Outlet_Sales</th>\n",
              "      <th>YOB</th>\n",
              "      <th>Item_Fat_Content_Low Fat</th>\n",
              "      <th>Item_Fat_Content_Regular</th>\n",
              "      <th>Item_Type_Baking Goods</th>\n",
              "      <th>Item_Type_Breads</th>\n",
              "      <th>Item_Type_Breakfast</th>\n",
              "      <th>...</th>\n",
              "      <th>Outlet_Size_High</th>\n",
              "      <th>Outlet_Size_Medium</th>\n",
              "      <th>Outlet_Size_Small</th>\n",
              "      <th>Outlet_Location_Type_Tier 1</th>\n",
              "      <th>Outlet_Location_Type_Tier 2</th>\n",
              "      <th>Outlet_Location_Type_Tier 3</th>\n",
              "      <th>Outlet_Type_Grocery Store</th>\n",
              "      <th>Outlet_Type_Supermarket Type1</th>\n",
              "      <th>Outlet_Type_Supermarket Type2</th>\n",
              "      <th>Outlet_Type_Supermarket Type3</th>\n",
              "    </tr>\n",
              "  </thead>\n",
              "  <tbody>\n",
              "    <tr>\n",
              "      <th>0</th>\n",
              "      <td>9.30</td>\n",
              "      <td>0.016047</td>\n",
              "      <td>249.8092</td>\n",
              "      <td>3735.1380</td>\n",
              "      <td>24</td>\n",
              "      <td>True</td>\n",
              "      <td>False</td>\n",
              "      <td>False</td>\n",
              "      <td>False</td>\n",
              "      <td>False</td>\n",
              "      <td>...</td>\n",
              "      <td>False</td>\n",
              "      <td>True</td>\n",
              "      <td>False</td>\n",
              "      <td>True</td>\n",
              "      <td>False</td>\n",
              "      <td>False</td>\n",
              "      <td>False</td>\n",
              "      <td>True</td>\n",
              "      <td>False</td>\n",
              "      <td>False</td>\n",
              "    </tr>\n",
              "    <tr>\n",
              "      <th>1</th>\n",
              "      <td>5.92</td>\n",
              "      <td>0.019278</td>\n",
              "      <td>48.2692</td>\n",
              "      <td>443.4228</td>\n",
              "      <td>14</td>\n",
              "      <td>False</td>\n",
              "      <td>True</td>\n",
              "      <td>False</td>\n",
              "      <td>False</td>\n",
              "      <td>False</td>\n",
              "      <td>...</td>\n",
              "      <td>False</td>\n",
              "      <td>True</td>\n",
              "      <td>False</td>\n",
              "      <td>False</td>\n",
              "      <td>False</td>\n",
              "      <td>True</td>\n",
              "      <td>False</td>\n",
              "      <td>False</td>\n",
              "      <td>True</td>\n",
              "      <td>False</td>\n",
              "    </tr>\n",
              "    <tr>\n",
              "      <th>2</th>\n",
              "      <td>17.50</td>\n",
              "      <td>0.016760</td>\n",
              "      <td>141.6180</td>\n",
              "      <td>2097.2700</td>\n",
              "      <td>24</td>\n",
              "      <td>True</td>\n",
              "      <td>False</td>\n",
              "      <td>False</td>\n",
              "      <td>False</td>\n",
              "      <td>False</td>\n",
              "      <td>...</td>\n",
              "      <td>False</td>\n",
              "      <td>True</td>\n",
              "      <td>False</td>\n",
              "      <td>True</td>\n",
              "      <td>False</td>\n",
              "      <td>False</td>\n",
              "      <td>False</td>\n",
              "      <td>True</td>\n",
              "      <td>False</td>\n",
              "      <td>False</td>\n",
              "    </tr>\n",
              "    <tr>\n",
              "      <th>3</th>\n",
              "      <td>19.20</td>\n",
              "      <td>0.000000</td>\n",
              "      <td>182.0950</td>\n",
              "      <td>732.3800</td>\n",
              "      <td>25</td>\n",
              "      <td>False</td>\n",
              "      <td>True</td>\n",
              "      <td>False</td>\n",
              "      <td>False</td>\n",
              "      <td>False</td>\n",
              "      <td>...</td>\n",
              "      <td>False</td>\n",
              "      <td>True</td>\n",
              "      <td>False</td>\n",
              "      <td>False</td>\n",
              "      <td>False</td>\n",
              "      <td>True</td>\n",
              "      <td>True</td>\n",
              "      <td>False</td>\n",
              "      <td>False</td>\n",
              "      <td>False</td>\n",
              "    </tr>\n",
              "    <tr>\n",
              "      <th>4</th>\n",
              "      <td>8.93</td>\n",
              "      <td>0.000000</td>\n",
              "      <td>53.8614</td>\n",
              "      <td>994.7052</td>\n",
              "      <td>36</td>\n",
              "      <td>True</td>\n",
              "      <td>False</td>\n",
              "      <td>False</td>\n",
              "      <td>False</td>\n",
              "      <td>False</td>\n",
              "      <td>...</td>\n",
              "      <td>True</td>\n",
              "      <td>False</td>\n",
              "      <td>False</td>\n",
              "      <td>False</td>\n",
              "      <td>False</td>\n",
              "      <td>True</td>\n",
              "      <td>False</td>\n",
              "      <td>True</td>\n",
              "      <td>False</td>\n",
              "      <td>False</td>\n",
              "    </tr>\n",
              "  </tbody>\n",
              "</table>\n",
              "<p>5 rows × 33 columns</p>\n",
              "</div>"
            ],
            "text/plain": [
              "   Item_Weight  Item_Visibility  Item_MRP  Item_Outlet_Sales  YOB  \\\n",
              "0         9.30         0.016047  249.8092          3735.1380   24   \n",
              "1         5.92         0.019278   48.2692           443.4228   14   \n",
              "2        17.50         0.016760  141.6180          2097.2700   24   \n",
              "3        19.20         0.000000  182.0950           732.3800   25   \n",
              "4         8.93         0.000000   53.8614           994.7052   36   \n",
              "\n",
              "   Item_Fat_Content_Low Fat  Item_Fat_Content_Regular  Item_Type_Baking Goods  \\\n",
              "0                      True                     False                   False   \n",
              "1                     False                      True                   False   \n",
              "2                      True                     False                   False   \n",
              "3                     False                      True                   False   \n",
              "4                      True                     False                   False   \n",
              "\n",
              "   Item_Type_Breads  Item_Type_Breakfast  ...  Outlet_Size_High  \\\n",
              "0             False                False  ...             False   \n",
              "1             False                False  ...             False   \n",
              "2             False                False  ...             False   \n",
              "3             False                False  ...             False   \n",
              "4             False                False  ...              True   \n",
              "\n",
              "   Outlet_Size_Medium  Outlet_Size_Small  Outlet_Location_Type_Tier 1  \\\n",
              "0                True              False                         True   \n",
              "1                True              False                        False   \n",
              "2                True              False                         True   \n",
              "3                True              False                        False   \n",
              "4               False              False                        False   \n",
              "\n",
              "   Outlet_Location_Type_Tier 2  Outlet_Location_Type_Tier 3  \\\n",
              "0                        False                        False   \n",
              "1                        False                         True   \n",
              "2                        False                        False   \n",
              "3                        False                         True   \n",
              "4                        False                         True   \n",
              "\n",
              "   Outlet_Type_Grocery Store  Outlet_Type_Supermarket Type1  \\\n",
              "0                      False                           True   \n",
              "1                      False                          False   \n",
              "2                      False                           True   \n",
              "3                       True                          False   \n",
              "4                      False                           True   \n",
              "\n",
              "   Outlet_Type_Supermarket Type2  Outlet_Type_Supermarket Type3  \n",
              "0                          False                          False  \n",
              "1                           True                          False  \n",
              "2                          False                          False  \n",
              "3                          False                          False  \n",
              "4                          False                          False  \n",
              "\n",
              "[5 rows x 33 columns]"
            ]
          },
          "execution_count": 40,
          "metadata": {},
          "output_type": "execute_result"
        }
      ],
      "source": [
        "train_new.head()"
      ]
    },
    {
      "cell_type": "code",
      "execution_count": null,
      "id": "4c7eeade",
      "metadata": {
        "execution": {
          "iopub.execute_input": "2023-12-13T16:21:26.722005Z",
          "iopub.status.busy": "2023-12-13T16:21:26.721067Z",
          "iopub.status.idle": "2023-12-13T16:21:26.739822Z",
          "shell.execute_reply": "2023-12-13T16:21:26.738774Z"
        },
        "papermill": {
          "duration": 0.065032,
          "end_time": "2023-12-13T16:21:26.742961",
          "exception": false,
          "start_time": "2023-12-13T16:21:26.677929",
          "status": "completed"
        },
        "tags": [],
        "id": "4c7eeade",
        "outputId": "6bb64e1d-d802-4c94-ff9d-5d15ca452283"
      },
      "outputs": [
        {
          "name": "stdout",
          "output_type": "stream",
          "text": [
            "<class 'pandas.core.frame.DataFrame'>\n",
            "RangeIndex: 8523 entries, 0 to 8522\n",
            "Data columns (total 33 columns):\n",
            " #   Column                           Non-Null Count  Dtype  \n",
            "---  ------                           --------------  -----  \n",
            " 0   Item_Weight                      8523 non-null   float64\n",
            " 1   Item_Visibility                  8523 non-null   float64\n",
            " 2   Item_MRP                         8523 non-null   float64\n",
            " 3   Item_Outlet_Sales                8523 non-null   float64\n",
            " 4   YOB                              8523 non-null   int64  \n",
            " 5   Item_Fat_Content_Low Fat         8523 non-null   bool   \n",
            " 6   Item_Fat_Content_Regular         8523 non-null   bool   \n",
            " 7   Item_Type_Baking Goods           8523 non-null   bool   \n",
            " 8   Item_Type_Breads                 8523 non-null   bool   \n",
            " 9   Item_Type_Breakfast              8523 non-null   bool   \n",
            " 10  Item_Type_Canned                 8523 non-null   bool   \n",
            " 11  Item_Type_Dairy                  8523 non-null   bool   \n",
            " 12  Item_Type_Frozen Foods           8523 non-null   bool   \n",
            " 13  Item_Type_Fruits and Vegetables  8523 non-null   bool   \n",
            " 14  Item_Type_Hard Drinks            8523 non-null   bool   \n",
            " 15  Item_Type_Health and Hygiene     8523 non-null   bool   \n",
            " 16  Item_Type_Household              8523 non-null   bool   \n",
            " 17  Item_Type_Meat                   8523 non-null   bool   \n",
            " 18  Item_Type_Others                 8523 non-null   bool   \n",
            " 19  Item_Type_Seafood                8523 non-null   bool   \n",
            " 20  Item_Type_Snack Foods            8523 non-null   bool   \n",
            " 21  Item_Type_Soft Drinks            8523 non-null   bool   \n",
            " 22  Item_Type_Starchy Foods          8523 non-null   bool   \n",
            " 23  Outlet_Size_High                 8523 non-null   bool   \n",
            " 24  Outlet_Size_Medium               8523 non-null   bool   \n",
            " 25  Outlet_Size_Small                8523 non-null   bool   \n",
            " 26  Outlet_Location_Type_Tier 1      8523 non-null   bool   \n",
            " 27  Outlet_Location_Type_Tier 2      8523 non-null   bool   \n",
            " 28  Outlet_Location_Type_Tier 3      8523 non-null   bool   \n",
            " 29  Outlet_Type_Grocery Store        8523 non-null   bool   \n",
            " 30  Outlet_Type_Supermarket Type1    8523 non-null   bool   \n",
            " 31  Outlet_Type_Supermarket Type2    8523 non-null   bool   \n",
            " 32  Outlet_Type_Supermarket Type3    8523 non-null   bool   \n",
            "dtypes: bool(28), float64(4), int64(1)\n",
            "memory usage: 566.1 KB\n"
          ]
        }
      ],
      "source": [
        "train_new.info()"
      ]
    },
    {
      "cell_type": "markdown",
      "id": "7beeb1c2",
      "metadata": {
        "papermill": {
          "duration": 0.040959,
          "end_time": "2023-12-13T16:21:26.825195",
          "exception": false,
          "start_time": "2023-12-13T16:21:26.784236",
          "status": "completed"
        },
        "tags": [],
        "id": "7beeb1c2"
      },
      "source": [
        "### 6.Data Modelling"
      ]
    },
    {
      "cell_type": "code",
      "execution_count": null,
      "id": "3e3fb7ea",
      "metadata": {
        "execution": {
          "iopub.execute_input": "2023-12-13T16:21:26.910915Z",
          "iopub.status.busy": "2023-12-13T16:21:26.909984Z",
          "iopub.status.idle": "2023-12-13T16:21:26.914461Z",
          "shell.execute_reply": "2023-12-13T16:21:26.913594Z"
        },
        "papermill": {
          "duration": 0.050387,
          "end_time": "2023-12-13T16:21:26.917017",
          "exception": false,
          "start_time": "2023-12-13T16:21:26.866630",
          "status": "completed"
        },
        "tags": [],
        "id": "3e3fb7ea"
      },
      "outputs": [],
      "source": [
        "#First things first\n",
        "# Lets devide our Dataset in X and y"
      ]
    },
    {
      "cell_type": "code",
      "execution_count": null,
      "id": "6834ab5e",
      "metadata": {
        "execution": {
          "iopub.execute_input": "2023-12-13T16:21:27.003571Z",
          "iopub.status.busy": "2023-12-13T16:21:27.003025Z",
          "iopub.status.idle": "2023-12-13T16:21:27.011025Z",
          "shell.execute_reply": "2023-12-13T16:21:27.009610Z"
        },
        "papermill": {
          "duration": 0.055882,
          "end_time": "2023-12-13T16:21:27.013886",
          "exception": false,
          "start_time": "2023-12-13T16:21:26.958004",
          "status": "completed"
        },
        "tags": [],
        "id": "6834ab5e"
      },
      "outputs": [],
      "source": [
        "y = train_new['Item_Outlet_Sales']\n",
        "x = train_new.drop(['Item_Outlet_Sales'], axis = 1)"
      ]
    },
    {
      "cell_type": "code",
      "execution_count": null,
      "id": "649791d5",
      "metadata": {
        "execution": {
          "iopub.execute_input": "2023-12-13T16:21:27.098782Z",
          "iopub.status.busy": "2023-12-13T16:21:27.098199Z",
          "iopub.status.idle": "2023-12-13T16:21:27.110052Z",
          "shell.execute_reply": "2023-12-13T16:21:27.108759Z"
        },
        "papermill": {
          "duration": 0.057689,
          "end_time": "2023-12-13T16:21:27.112874",
          "exception": false,
          "start_time": "2023-12-13T16:21:27.055185",
          "status": "completed"
        },
        "tags": [],
        "id": "649791d5"
      },
      "outputs": [],
      "source": [
        "x_train, x_test, y_train, y_test = train_test_split(x, y, test_size = 0.25, random_state = 15)"
      ]
    },
    {
      "cell_type": "code",
      "execution_count": null,
      "id": "a6c836db",
      "metadata": {
        "execution": {
          "iopub.execute_input": "2023-12-13T16:21:27.196631Z",
          "iopub.status.busy": "2023-12-13T16:21:27.196110Z",
          "iopub.status.idle": "2023-12-13T16:21:27.202687Z",
          "shell.execute_reply": "2023-12-13T16:21:27.201754Z"
        },
        "papermill": {
          "duration": 0.051943,
          "end_time": "2023-12-13T16:21:27.205244",
          "exception": false,
          "start_time": "2023-12-13T16:21:27.153301",
          "status": "completed"
        },
        "tags": [],
        "id": "a6c836db",
        "outputId": "1e7ccccb-8e9b-4a61-c8c9-58fa27150d49"
      },
      "outputs": [
        {
          "name": "stdout",
          "output_type": "stream",
          "text": [
            "(6392, 32)\n",
            "(2131, 32)\n",
            "(6392,)\n",
            "(2131,)\n"
          ]
        }
      ],
      "source": [
        "print(x_train.shape)\n",
        "print(x_test.shape)\n",
        "print(y_train.shape)\n",
        "print(y_test.shape)"
      ]
    },
    {
      "cell_type": "markdown",
      "id": "995f6abb",
      "metadata": {
        "papermill": {
          "duration": 0.040903,
          "end_time": "2023-12-13T16:21:27.287529",
          "exception": false,
          "start_time": "2023-12-13T16:21:27.246626",
          "status": "completed"
        },
        "tags": [],
        "id": "995f6abb"
      },
      "source": [
        "#### 6.1 Linear Regression"
      ]
    },
    {
      "cell_type": "code",
      "execution_count": null,
      "id": "4bb82015",
      "metadata": {
        "execution": {
          "iopub.execute_input": "2023-12-13T16:21:27.371139Z",
          "iopub.status.busy": "2023-12-13T16:21:27.370599Z",
          "iopub.status.idle": "2023-12-13T16:21:27.453281Z",
          "shell.execute_reply": "2023-12-13T16:21:27.450872Z"
        },
        "papermill": {
          "duration": 0.130637,
          "end_time": "2023-12-13T16:21:27.458790",
          "exception": false,
          "start_time": "2023-12-13T16:21:27.328153",
          "status": "completed"
        },
        "tags": [],
        "id": "4bb82015"
      },
      "outputs": [],
      "source": [
        "lr = LinearRegression()\n",
        "lr.fit(x_train, y_train)\n",
        "lr_train = lr.predict(x_train)\n",
        "lr_test = lr.predict(x_test)"
      ]
    },
    {
      "cell_type": "code",
      "execution_count": null,
      "id": "92a66466",
      "metadata": {
        "execution": {
          "iopub.execute_input": "2023-12-13T16:21:27.616767Z",
          "iopub.status.busy": "2023-12-13T16:21:27.616230Z",
          "iopub.status.idle": "2023-12-13T16:21:27.623304Z",
          "shell.execute_reply": "2023-12-13T16:21:27.621925Z"
        },
        "papermill": {
          "duration": 0.051972,
          "end_time": "2023-12-13T16:21:27.625819",
          "exception": false,
          "start_time": "2023-12-13T16:21:27.573847",
          "status": "completed"
        },
        "tags": [],
        "id": "92a66466"
      },
      "outputs": [],
      "source": [
        "#Lets define a function for Model Evaluation\n",
        "def model_eval(actual, predicted):\n",
        "  rmse = np.sqrt(mean_squared_error(actual, predicted))\n",
        "  r2 = r2_score(actual, predicted)\n",
        "  print('The RMSE value for the model is: ', round(rmse,2))\n",
        "  print('The R2 Score for the model is: ', round(r2, 2))"
      ]
    },
    {
      "cell_type": "code",
      "execution_count": null,
      "id": "796f1360",
      "metadata": {
        "execution": {
          "iopub.execute_input": "2023-12-13T16:21:27.709373Z",
          "iopub.status.busy": "2023-12-13T16:21:27.708891Z",
          "iopub.status.idle": "2023-12-13T16:21:27.718138Z",
          "shell.execute_reply": "2023-12-13T16:21:27.716646Z"
        },
        "papermill": {
          "duration": 0.05401,
          "end_time": "2023-12-13T16:21:27.720580",
          "exception": false,
          "start_time": "2023-12-13T16:21:27.666570",
          "status": "completed"
        },
        "tags": [],
        "id": "796f1360",
        "outputId": "7c4da6bc-d1f8-49b2-d96f-f3a19d478e21"
      },
      "outputs": [
        {
          "name": "stdout",
          "output_type": "stream",
          "text": [
            "The RMSE value for the model is:  1114.72\n",
            "The R2 Score for the model is:  0.56\n"
          ]
        }
      ],
      "source": [
        "model_eval(y_train, lr_train)"
      ]
    },
    {
      "cell_type": "code",
      "execution_count": null,
      "id": "49641aa1",
      "metadata": {
        "execution": {
          "iopub.execute_input": "2023-12-13T16:21:27.806140Z",
          "iopub.status.busy": "2023-12-13T16:21:27.805605Z",
          "iopub.status.idle": "2023-12-13T16:21:27.813765Z",
          "shell.execute_reply": "2023-12-13T16:21:27.812781Z"
        },
        "papermill": {
          "duration": 0.053326,
          "end_time": "2023-12-13T16:21:27.816690",
          "exception": false,
          "start_time": "2023-12-13T16:21:27.763364",
          "status": "completed"
        },
        "tags": [],
        "id": "49641aa1",
        "outputId": "9f39785a-13af-4495-d921-f7947e0fbf90"
      },
      "outputs": [
        {
          "name": "stdout",
          "output_type": "stream",
          "text": [
            "The RMSE value for the model is:  1169.02\n",
            "The R2 Score for the model is:  0.57\n"
          ]
        }
      ],
      "source": [
        "model_eval(y_test, lr_test)"
      ]
    },
    {
      "cell_type": "markdown",
      "id": "a8ae0e2c",
      "metadata": {
        "papermill": {
          "duration": 0.041533,
          "end_time": "2023-12-13T16:21:27.899441",
          "exception": false,
          "start_time": "2023-12-13T16:21:27.857908",
          "status": "completed"
        },
        "tags": [],
        "id": "a8ae0e2c"
      },
      "source": [
        "#### 6.2 Random Forest Regressor"
      ]
    },
    {
      "cell_type": "code",
      "execution_count": null,
      "id": "151399ad",
      "metadata": {
        "execution": {
          "iopub.execute_input": "2023-12-13T16:21:27.984235Z",
          "iopub.status.busy": "2023-12-13T16:21:27.983658Z",
          "iopub.status.idle": "2023-12-13T16:21:32.126214Z",
          "shell.execute_reply": "2023-12-13T16:21:32.124792Z"
        },
        "papermill": {
          "duration": 4.188891,
          "end_time": "2023-12-13T16:21:32.129385",
          "exception": false,
          "start_time": "2023-12-13T16:21:27.940494",
          "status": "completed"
        },
        "tags": [],
        "id": "151399ad",
        "outputId": "f49502bb-4a95-4cc2-c149-40810b247d8e"
      },
      "outputs": [
        {
          "data": {
            "text/html": [
              "<style>#sk-container-id-1 {color: black;background-color: white;}#sk-container-id-1 pre{padding: 0;}#sk-container-id-1 div.sk-toggleable {background-color: white;}#sk-container-id-1 label.sk-toggleable__label {cursor: pointer;display: block;width: 100%;margin-bottom: 0;padding: 0.3em;box-sizing: border-box;text-align: center;}#sk-container-id-1 label.sk-toggleable__label-arrow:before {content: \"▸\";float: left;margin-right: 0.25em;color: #696969;}#sk-container-id-1 label.sk-toggleable__label-arrow:hover:before {color: black;}#sk-container-id-1 div.sk-estimator:hover label.sk-toggleable__label-arrow:before {color: black;}#sk-container-id-1 div.sk-toggleable__content {max-height: 0;max-width: 0;overflow: hidden;text-align: left;background-color: #f0f8ff;}#sk-container-id-1 div.sk-toggleable__content pre {margin: 0.2em;color: black;border-radius: 0.25em;background-color: #f0f8ff;}#sk-container-id-1 input.sk-toggleable__control:checked~div.sk-toggleable__content {max-height: 200px;max-width: 100%;overflow: auto;}#sk-container-id-1 input.sk-toggleable__control:checked~label.sk-toggleable__label-arrow:before {content: \"▾\";}#sk-container-id-1 div.sk-estimator input.sk-toggleable__control:checked~label.sk-toggleable__label {background-color: #d4ebff;}#sk-container-id-1 div.sk-label input.sk-toggleable__control:checked~label.sk-toggleable__label {background-color: #d4ebff;}#sk-container-id-1 input.sk-hidden--visually {border: 0;clip: rect(1px 1px 1px 1px);clip: rect(1px, 1px, 1px, 1px);height: 1px;margin: -1px;overflow: hidden;padding: 0;position: absolute;width: 1px;}#sk-container-id-1 div.sk-estimator {font-family: monospace;background-color: #f0f8ff;border: 1px dotted black;border-radius: 0.25em;box-sizing: border-box;margin-bottom: 0.5em;}#sk-container-id-1 div.sk-estimator:hover {background-color: #d4ebff;}#sk-container-id-1 div.sk-parallel-item::after {content: \"\";width: 100%;border-bottom: 1px solid gray;flex-grow: 1;}#sk-container-id-1 div.sk-label:hover label.sk-toggleable__label {background-color: #d4ebff;}#sk-container-id-1 div.sk-serial::before {content: \"\";position: absolute;border-left: 1px solid gray;box-sizing: border-box;top: 0;bottom: 0;left: 50%;z-index: 0;}#sk-container-id-1 div.sk-serial {display: flex;flex-direction: column;align-items: center;background-color: white;padding-right: 0.2em;padding-left: 0.2em;position: relative;}#sk-container-id-1 div.sk-item {position: relative;z-index: 1;}#sk-container-id-1 div.sk-parallel {display: flex;align-items: stretch;justify-content: center;background-color: white;position: relative;}#sk-container-id-1 div.sk-item::before, #sk-container-id-1 div.sk-parallel-item::before {content: \"\";position: absolute;border-left: 1px solid gray;box-sizing: border-box;top: 0;bottom: 0;left: 50%;z-index: -1;}#sk-container-id-1 div.sk-parallel-item {display: flex;flex-direction: column;z-index: 1;position: relative;background-color: white;}#sk-container-id-1 div.sk-parallel-item:first-child::after {align-self: flex-end;width: 50%;}#sk-container-id-1 div.sk-parallel-item:last-child::after {align-self: flex-start;width: 50%;}#sk-container-id-1 div.sk-parallel-item:only-child::after {width: 0;}#sk-container-id-1 div.sk-dashed-wrapped {border: 1px dashed gray;margin: 0 0.4em 0.5em 0.4em;box-sizing: border-box;padding-bottom: 0.4em;background-color: white;}#sk-container-id-1 div.sk-label label {font-family: monospace;font-weight: bold;display: inline-block;line-height: 1.2em;}#sk-container-id-1 div.sk-label-container {text-align: center;}#sk-container-id-1 div.sk-container {/* jupyter's `normalize.less` sets `[hidden] { display: none; }` but bootstrap.min.css set `[hidden] { display: none !important; }` so we also need the `!important` here to be able to override the default hidden behavior on the sphinx rendered scikit-learn.org. See: https://github.com/scikit-learn/scikit-learn/issues/21755 */display: inline-block !important;position: relative;}#sk-container-id-1 div.sk-text-repr-fallback {display: none;}</style><div id=\"sk-container-id-1\" class=\"sk-top-container\"><div class=\"sk-text-repr-fallback\"><pre>RandomForestRegressor()</pre><b>In a Jupyter environment, please rerun this cell to show the HTML representation or trust the notebook. <br />On GitHub, the HTML representation is unable to render, please try loading this page with nbviewer.org.</b></div><div class=\"sk-container\" hidden><div class=\"sk-item\"><div class=\"sk-estimator sk-toggleable\"><input class=\"sk-toggleable__control sk-hidden--visually\" id=\"sk-estimator-id-1\" type=\"checkbox\" checked><label for=\"sk-estimator-id-1\" class=\"sk-toggleable__label sk-toggleable__label-arrow\">RandomForestRegressor</label><div class=\"sk-toggleable__content\"><pre>RandomForestRegressor()</pre></div></div></div></div></div>"
            ],
            "text/plain": [
              "RandomForestRegressor()"
            ]
          },
          "execution_count": 50,
          "metadata": {},
          "output_type": "execute_result"
        }
      ],
      "source": [
        "rf = RandomForestRegressor()\n",
        "rf.fit(x_train, y_train)"
      ]
    },
    {
      "cell_type": "code",
      "execution_count": null,
      "id": "2941fc5c",
      "metadata": {
        "execution": {
          "iopub.execute_input": "2023-12-13T16:21:32.219230Z",
          "iopub.status.busy": "2023-12-13T16:21:32.218729Z",
          "iopub.status.idle": "2023-12-13T16:21:32.498984Z",
          "shell.execute_reply": "2023-12-13T16:21:32.497564Z"
        },
        "papermill": {
          "duration": 0.329015,
          "end_time": "2023-12-13T16:21:32.502203",
          "exception": false,
          "start_time": "2023-12-13T16:21:32.173188",
          "status": "completed"
        },
        "tags": [],
        "id": "2941fc5c"
      },
      "outputs": [],
      "source": [
        "rf_preds_train = rf.predict(x_train)\n",
        "rf_preds_test = rf.predict(x_test)"
      ]
    },
    {
      "cell_type": "code",
      "execution_count": null,
      "id": "f01b7e94",
      "metadata": {
        "execution": {
          "iopub.execute_input": "2023-12-13T16:21:32.588447Z",
          "iopub.status.busy": "2023-12-13T16:21:32.587972Z",
          "iopub.status.idle": "2023-12-13T16:21:32.596987Z",
          "shell.execute_reply": "2023-12-13T16:21:32.595662Z"
        },
        "papermill": {
          "duration": 0.055362,
          "end_time": "2023-12-13T16:21:32.600026",
          "exception": false,
          "start_time": "2023-12-13T16:21:32.544664",
          "status": "completed"
        },
        "tags": [],
        "id": "f01b7e94",
        "outputId": "43b339bf-bb14-4203-f4e2-196423ebd7a9"
      },
      "outputs": [
        {
          "name": "stdout",
          "output_type": "stream",
          "text": [
            "The RMSE value for the model is:  421.84\n",
            "The R2 Score for the model is:  0.94\n"
          ]
        }
      ],
      "source": [
        "model_eval(y_train, rf_preds_train)"
      ]
    },
    {
      "cell_type": "code",
      "execution_count": null,
      "id": "665ddc03",
      "metadata": {
        "execution": {
          "iopub.execute_input": "2023-12-13T16:21:32.690788Z",
          "iopub.status.busy": "2023-12-13T16:21:32.690226Z",
          "iopub.status.idle": "2023-12-13T16:21:32.698190Z",
          "shell.execute_reply": "2023-12-13T16:21:32.697089Z"
        },
        "papermill": {
          "duration": 0.059304,
          "end_time": "2023-12-13T16:21:32.701717",
          "exception": false,
          "start_time": "2023-12-13T16:21:32.642413",
          "status": "completed"
        },
        "tags": [],
        "id": "665ddc03",
        "outputId": "865947ac-0683-4838-951b-8a6b3ee3eced"
      },
      "outputs": [
        {
          "name": "stdout",
          "output_type": "stream",
          "text": [
            "The RMSE value for the model is:  1177.54\n",
            "The R2 Score for the model is:  0.56\n"
          ]
        }
      ],
      "source": [
        "model_eval(y_test, rf_preds_test)"
      ]
    },
    {
      "cell_type": "markdown",
      "id": "ce9dcbeb",
      "metadata": {
        "papermill": {
          "duration": 0.046106,
          "end_time": "2023-12-13T16:21:32.789983",
          "exception": false,
          "start_time": "2023-12-13T16:21:32.743877",
          "status": "completed"
        },
        "tags": [],
        "id": "ce9dcbeb"
      },
      "source": [
        "#### 6.3Ada Boost Regressor\n"
      ]
    },
    {
      "cell_type": "code",
      "execution_count": null,
      "id": "e6bf0996",
      "metadata": {
        "execution": {
          "iopub.execute_input": "2023-12-13T16:21:32.888978Z",
          "iopub.status.busy": "2023-12-13T16:21:32.888439Z",
          "iopub.status.idle": "2023-12-13T16:21:32.895022Z",
          "shell.execute_reply": "2023-12-13T16:21:32.893476Z"
        },
        "papermill": {
          "duration": 0.05409,
          "end_time": "2023-12-13T16:21:32.898197",
          "exception": false,
          "start_time": "2023-12-13T16:21:32.844107",
          "status": "completed"
        },
        "tags": [],
        "id": "e6bf0996"
      },
      "outputs": [],
      "source": [
        "from sklearn.ensemble import AdaBoostRegressor"
      ]
    },
    {
      "cell_type": "code",
      "execution_count": null,
      "id": "a6ca7f26",
      "metadata": {
        "execution": {
          "iopub.execute_input": "2023-12-13T16:21:32.984934Z",
          "iopub.status.busy": "2023-12-13T16:21:32.984318Z",
          "iopub.status.idle": "2023-12-13T16:21:33.348339Z",
          "shell.execute_reply": "2023-12-13T16:21:33.347007Z"
        },
        "papermill": {
          "duration": 0.411803,
          "end_time": "2023-12-13T16:21:33.352056",
          "exception": false,
          "start_time": "2023-12-13T16:21:32.940253",
          "status": "completed"
        },
        "tags": [],
        "id": "a6ca7f26"
      },
      "outputs": [],
      "source": [
        "ada = AdaBoostRegressor()\n",
        "ada.fit(x_train, y_train)\n",
        "preds_ada_train = ada.predict(x_train)\n",
        "preds_ada_test = ada.predict(x_test)"
      ]
    },
    {
      "cell_type": "code",
      "execution_count": null,
      "id": "423c4d9a",
      "metadata": {
        "execution": {
          "iopub.execute_input": "2023-12-13T16:21:33.440222Z",
          "iopub.status.busy": "2023-12-13T16:21:33.439290Z",
          "iopub.status.idle": "2023-12-13T16:21:33.448645Z",
          "shell.execute_reply": "2023-12-13T16:21:33.446871Z"
        },
        "papermill": {
          "duration": 0.057199,
          "end_time": "2023-12-13T16:21:33.451449",
          "exception": false,
          "start_time": "2023-12-13T16:21:33.394250",
          "status": "completed"
        },
        "tags": [],
        "id": "423c4d9a",
        "outputId": "cfa72bfe-562f-4892-ef1f-e209d7135758"
      },
      "outputs": [
        {
          "name": "stdout",
          "output_type": "stream",
          "text": [
            "The RMSE value for the model is:  1177.03\n",
            "The R2 Score for the model is:  0.51\n"
          ]
        }
      ],
      "source": [
        "model_eval(y_train, preds_ada_train)"
      ]
    },
    {
      "cell_type": "code",
      "execution_count": null,
      "id": "f483fb03",
      "metadata": {
        "execution": {
          "iopub.execute_input": "2023-12-13T16:21:33.539509Z",
          "iopub.status.busy": "2023-12-13T16:21:33.538056Z",
          "iopub.status.idle": "2023-12-13T16:21:33.548248Z",
          "shell.execute_reply": "2023-12-13T16:21:33.546758Z"
        },
        "papermill": {
          "duration": 0.056737,
          "end_time": "2023-12-13T16:21:33.550917",
          "exception": false,
          "start_time": "2023-12-13T16:21:33.494180",
          "status": "completed"
        },
        "tags": [],
        "id": "f483fb03",
        "outputId": "9d5f91cd-48a2-447b-e78b-5545b79aca24"
      },
      "outputs": [
        {
          "name": "stdout",
          "output_type": "stream",
          "text": [
            "The RMSE value for the model is:  1226.14\n",
            "The R2 Score for the model is:  0.53\n"
          ]
        }
      ],
      "source": [
        "model_eval(y_test, preds_ada_test)"
      ]
    },
    {
      "cell_type": "code",
      "execution_count": null,
      "id": "07b818cc",
      "metadata": {
        "execution": {
          "iopub.execute_input": "2023-12-13T16:21:33.637886Z",
          "iopub.status.busy": "2023-12-13T16:21:33.636874Z",
          "iopub.status.idle": "2023-12-13T16:21:33.644752Z",
          "shell.execute_reply": "2023-12-13T16:21:33.643294Z"
        },
        "papermill": {
          "duration": 0.05484,
          "end_time": "2023-12-13T16:21:33.647605",
          "exception": false,
          "start_time": "2023-12-13T16:21:33.592765",
          "status": "completed"
        },
        "tags": [],
        "id": "07b818cc"
      },
      "outputs": [],
      "source": [
        "# Lets look at the feature importance\n",
        "feats = {} # a dict to hold feature_name: feature_importance\n",
        "for feature, importance in zip(x_train.columns, ada.feature_importances_):\n",
        "    feats[feature] = importance"
      ]
    },
    {
      "cell_type": "code",
      "execution_count": null,
      "id": "d3bc1e67",
      "metadata": {
        "execution": {
          "iopub.execute_input": "2023-12-13T16:21:33.737876Z",
          "iopub.status.busy": "2023-12-13T16:21:33.737295Z",
          "iopub.status.idle": "2023-12-13T16:21:33.746330Z",
          "shell.execute_reply": "2023-12-13T16:21:33.744892Z"
        },
        "papermill": {
          "duration": 0.055739,
          "end_time": "2023-12-13T16:21:33.748991",
          "exception": false,
          "start_time": "2023-12-13T16:21:33.693252",
          "status": "completed"
        },
        "tags": [],
        "id": "d3bc1e67",
        "outputId": "a722465e-e06e-4818-9689-16966a5a2992"
      },
      "outputs": [
        {
          "data": {
            "text/plain": [
              "{'Item_Weight': 0.026081177162710256,\n",
              " 'Item_Visibility': 0.05459371759238731,\n",
              " 'Item_MRP': 0.58589624732365,\n",
              " 'YOB': 0.010475039719901024,\n",
              " 'Item_Fat_Content_Low Fat': 0.0064210485017779685,\n",
              " 'Item_Fat_Content_Regular': 0.0,\n",
              " 'Item_Type_Baking Goods': 0.0,\n",
              " 'Item_Type_Breads': 0.0,\n",
              " 'Item_Type_Breakfast': 0.0,\n",
              " 'Item_Type_Canned': 0.0023557060651082044,\n",
              " 'Item_Type_Dairy': 0.015278072891690048,\n",
              " 'Item_Type_Frozen Foods': 0.0,\n",
              " 'Item_Type_Fruits and Vegetables': 0.0,\n",
              " 'Item_Type_Hard Drinks': 0.0,\n",
              " 'Item_Type_Health and Hygiene': 0.0,\n",
              " 'Item_Type_Household': 0.006298335797523094,\n",
              " 'Item_Type_Meat': 1.4443176462274294e-05,\n",
              " 'Item_Type_Others': 0.0,\n",
              " 'Item_Type_Seafood': 0.0,\n",
              " 'Item_Type_Snack Foods': 0.0,\n",
              " 'Item_Type_Soft Drinks': 0.0,\n",
              " 'Item_Type_Starchy Foods': 0.0,\n",
              " 'Outlet_Size_High': 0.0,\n",
              " 'Outlet_Size_Medium': 0.0,\n",
              " 'Outlet_Size_Small': 9.964723635275443e-05,\n",
              " 'Outlet_Location_Type_Tier 1': 0.014846468078321294,\n",
              " 'Outlet_Location_Type_Tier 2': 0.012530017116605677,\n",
              " 'Outlet_Location_Type_Tier 3': 0.0,\n",
              " 'Outlet_Type_Grocery Store': 0.11722959777169266,\n",
              " 'Outlet_Type_Supermarket Type1': 0.016287137566004643,\n",
              " 'Outlet_Type_Supermarket Type2': 0.0,\n",
              " 'Outlet_Type_Supermarket Type3': 0.13159334399981268}"
            ]
          },
          "execution_count": 59,
          "metadata": {},
          "output_type": "execute_result"
        }
      ],
      "source": [
        "feats"
      ]
    },
    {
      "cell_type": "markdown",
      "id": "b8477aaa",
      "metadata": {
        "papermill": {
          "duration": 0.042501,
          "end_time": "2023-12-13T16:21:33.836062",
          "exception": false,
          "start_time": "2023-12-13T16:21:33.793561",
          "status": "completed"
        },
        "tags": [],
        "id": "b8477aaa"
      },
      "source": [
        "#### 6.4 Gradient Boosting Regressor"
      ]
    },
    {
      "cell_type": "code",
      "execution_count": null,
      "id": "82c62b1f",
      "metadata": {
        "execution": {
          "iopub.execute_input": "2023-12-13T16:21:33.922280Z",
          "iopub.status.busy": "2023-12-13T16:21:33.921770Z",
          "iopub.status.idle": "2023-12-13T16:21:33.927137Z",
          "shell.execute_reply": "2023-12-13T16:21:33.925774Z"
        },
        "papermill": {
          "duration": 0.051725,
          "end_time": "2023-12-13T16:21:33.929742",
          "exception": false,
          "start_time": "2023-12-13T16:21:33.878017",
          "status": "completed"
        },
        "tags": [],
        "id": "82c62b1f"
      },
      "outputs": [],
      "source": [
        "from sklearn.ensemble import GradientBoostingRegressor"
      ]
    },
    {
      "cell_type": "code",
      "execution_count": null,
      "id": "2d3aa623",
      "metadata": {
        "execution": {
          "iopub.execute_input": "2023-12-13T16:21:34.016618Z",
          "iopub.status.busy": "2023-12-13T16:21:34.016125Z",
          "iopub.status.idle": "2023-12-13T16:21:35.156420Z",
          "shell.execute_reply": "2023-12-13T16:21:35.154607Z"
        },
        "papermill": {
          "duration": 1.188137,
          "end_time": "2023-12-13T16:21:35.160326",
          "exception": false,
          "start_time": "2023-12-13T16:21:33.972189",
          "status": "completed"
        },
        "tags": [],
        "id": "2d3aa623"
      },
      "outputs": [],
      "source": [
        "gb = GradientBoostingRegressor()\n",
        "gb.fit(x_train, y_train)\n",
        "preds_gb_train = gb.predict(x_train)\n",
        "preds_gb_test = gb.predict(x_test)"
      ]
    },
    {
      "cell_type": "code",
      "execution_count": null,
      "id": "7890c58c",
      "metadata": {
        "execution": {
          "iopub.execute_input": "2023-12-13T16:21:35.248576Z",
          "iopub.status.busy": "2023-12-13T16:21:35.247750Z",
          "iopub.status.idle": "2023-12-13T16:21:35.256889Z",
          "shell.execute_reply": "2023-12-13T16:21:35.255503Z"
        },
        "papermill": {
          "duration": 0.05648,
          "end_time": "2023-12-13T16:21:35.259822",
          "exception": false,
          "start_time": "2023-12-13T16:21:35.203342",
          "status": "completed"
        },
        "tags": [],
        "id": "7890c58c",
        "outputId": "215def19-b724-4f40-b96e-f3fdbbb9a378"
      },
      "outputs": [
        {
          "name": "stdout",
          "output_type": "stream",
          "text": [
            "The RMSE value for the model is:  1018.99\n",
            "The R2 Score for the model is:  0.63\n"
          ]
        }
      ],
      "source": [
        "model_eval(y_train, preds_gb_train)"
      ]
    },
    {
      "cell_type": "code",
      "execution_count": null,
      "id": "d6c602dd",
      "metadata": {
        "execution": {
          "iopub.execute_input": "2023-12-13T16:21:35.348354Z",
          "iopub.status.busy": "2023-12-13T16:21:35.347849Z",
          "iopub.status.idle": "2023-12-13T16:21:35.356620Z",
          "shell.execute_reply": "2023-12-13T16:21:35.355244Z"
        },
        "papermill": {
          "duration": 0.056264,
          "end_time": "2023-12-13T16:21:35.359449",
          "exception": false,
          "start_time": "2023-12-13T16:21:35.303185",
          "status": "completed"
        },
        "tags": [],
        "id": "d6c602dd",
        "outputId": "d051c482-ad98-4fe9-f9bd-20f70b2cb0d6"
      },
      "outputs": [
        {
          "name": "stdout",
          "output_type": "stream",
          "text": [
            "The RMSE value for the model is:  1118.09\n",
            "The R2 Score for the model is:  0.61\n"
          ]
        }
      ],
      "source": [
        "model_eval(y_test,preds_gb_test )"
      ]
    },
    {
      "cell_type": "markdown",
      "id": "df96b9ca",
      "metadata": {
        "papermill": {
          "duration": 0.042773,
          "end_time": "2023-12-13T16:21:35.445195",
          "exception": false,
          "start_time": "2023-12-13T16:21:35.402422",
          "status": "completed"
        },
        "tags": [],
        "id": "df96b9ca"
      },
      "source": [
        "#### 6.5 XG Boost Regressor"
      ]
    },
    {
      "cell_type": "code",
      "execution_count": null,
      "id": "a5479398",
      "metadata": {
        "execution": {
          "iopub.execute_input": "2023-12-13T16:21:35.534590Z",
          "iopub.status.busy": "2023-12-13T16:21:35.534030Z",
          "iopub.status.idle": "2023-12-13T16:21:35.780266Z",
          "shell.execute_reply": "2023-12-13T16:21:35.778731Z"
        },
        "papermill": {
          "duration": 0.293968,
          "end_time": "2023-12-13T16:21:35.783571",
          "exception": false,
          "start_time": "2023-12-13T16:21:35.489603",
          "status": "completed"
        },
        "tags": [],
        "id": "a5479398"
      },
      "outputs": [],
      "source": [
        "import xgboost as xg"
      ]
    },
    {
      "cell_type": "code",
      "execution_count": null,
      "id": "4b8279da",
      "metadata": {
        "execution": {
          "iopub.execute_input": "2023-12-13T16:21:35.871205Z",
          "iopub.status.busy": "2023-12-13T16:21:35.870691Z",
          "iopub.status.idle": "2023-12-13T16:21:35.876623Z",
          "shell.execute_reply": "2023-12-13T16:21:35.875344Z"
        },
        "papermill": {
          "duration": 0.052604,
          "end_time": "2023-12-13T16:21:35.879291",
          "exception": false,
          "start_time": "2023-12-13T16:21:35.826687",
          "status": "completed"
        },
        "tags": [],
        "id": "4b8279da"
      },
      "outputs": [],
      "source": [
        "xgb = xg.XGBRegressor()"
      ]
    },
    {
      "cell_type": "code",
      "execution_count": null,
      "id": "e6054247",
      "metadata": {
        "execution": {
          "iopub.execute_input": "2023-12-13T16:21:35.966690Z",
          "iopub.status.busy": "2023-12-13T16:21:35.966129Z",
          "iopub.status.idle": "2023-12-13T16:21:36.329770Z",
          "shell.execute_reply": "2023-12-13T16:21:36.328305Z"
        },
        "papermill": {
          "duration": 0.410952,
          "end_time": "2023-12-13T16:21:36.332888",
          "exception": false,
          "start_time": "2023-12-13T16:21:35.921936",
          "status": "completed"
        },
        "tags": [],
        "id": "e6054247"
      },
      "outputs": [],
      "source": [
        "xgb.fit(x_train, y_train)\n",
        "preds_xgb_train = xgb.predict(x_train)\n",
        "preds_xgb_test = xgb.predict(x_test)"
      ]
    },
    {
      "cell_type": "code",
      "execution_count": null,
      "id": "1e6f0d04",
      "metadata": {
        "execution": {
          "iopub.execute_input": "2023-12-13T16:21:36.421136Z",
          "iopub.status.busy": "2023-12-13T16:21:36.420577Z",
          "iopub.status.idle": "2023-12-13T16:21:36.431022Z",
          "shell.execute_reply": "2023-12-13T16:21:36.429018Z"
        },
        "papermill": {
          "duration": 0.057733,
          "end_time": "2023-12-13T16:21:36.434219",
          "exception": false,
          "start_time": "2023-12-13T16:21:36.376486",
          "status": "completed"
        },
        "tags": [],
        "id": "1e6f0d04",
        "outputId": "21c16087-433a-43e0-f625-74ebe1537fb0"
      },
      "outputs": [
        {
          "name": "stdout",
          "output_type": "stream",
          "text": [
            "The RMSE value for the model is:  612.41\n",
            "The R2 Score for the model is:  0.87\n"
          ]
        }
      ],
      "source": [
        "model_eval(y_train, preds_xgb_train)"
      ]
    },
    {
      "cell_type": "code",
      "execution_count": null,
      "id": "5db7661d",
      "metadata": {
        "execution": {
          "iopub.execute_input": "2023-12-13T16:21:36.521598Z",
          "iopub.status.busy": "2023-12-13T16:21:36.521075Z",
          "iopub.status.idle": "2023-12-13T16:21:36.530862Z",
          "shell.execute_reply": "2023-12-13T16:21:36.529296Z"
        },
        "papermill": {
          "duration": 0.056679,
          "end_time": "2023-12-13T16:21:36.533620",
          "exception": false,
          "start_time": "2023-12-13T16:21:36.476941",
          "status": "completed"
        },
        "tags": [],
        "id": "5db7661d",
        "outputId": "23126ccc-d460-4f2c-fb49-9050edd5169b"
      },
      "outputs": [
        {
          "name": "stdout",
          "output_type": "stream",
          "text": [
            "The RMSE value for the model is:  1226.4\n",
            "The R2 Score for the model is:  0.53\n"
          ]
        }
      ],
      "source": [
        "model_eval(y_test, preds_xgb_test)"
      ]
    },
    {
      "cell_type": "markdown",
      "id": "1ec22a2a",
      "metadata": {
        "papermill": {
          "duration": 0.041851,
          "end_time": "2023-12-13T16:21:36.619472",
          "exception": false,
          "start_time": "2023-12-13T16:21:36.577621",
          "status": "completed"
        },
        "tags": [],
        "id": "1ec22a2a"
      },
      "source": [
        "#### 6.5 SGD Regressor"
      ]
    },
    {
      "cell_type": "code",
      "execution_count": null,
      "id": "563f42a7",
      "metadata": {
        "execution": {
          "iopub.execute_input": "2023-12-13T16:21:36.706431Z",
          "iopub.status.busy": "2023-12-13T16:21:36.705878Z",
          "iopub.status.idle": "2023-12-13T16:21:36.711619Z",
          "shell.execute_reply": "2023-12-13T16:21:36.710574Z"
        },
        "papermill": {
          "duration": 0.052044,
          "end_time": "2023-12-13T16:21:36.713987",
          "exception": false,
          "start_time": "2023-12-13T16:21:36.661943",
          "status": "completed"
        },
        "tags": [],
        "id": "563f42a7"
      },
      "outputs": [],
      "source": [
        "from sklearn.linear_model import SGDRegressor"
      ]
    },
    {
      "cell_type": "code",
      "execution_count": null,
      "id": "617b0b90",
      "metadata": {
        "execution": {
          "iopub.execute_input": "2023-12-13T16:21:36.803056Z",
          "iopub.status.busy": "2023-12-13T16:21:36.801902Z",
          "iopub.status.idle": "2023-12-13T16:21:37.088351Z",
          "shell.execute_reply": "2023-12-13T16:21:37.086542Z"
        },
        "papermill": {
          "duration": 0.336563,
          "end_time": "2023-12-13T16:21:37.093296",
          "exception": false,
          "start_time": "2023-12-13T16:21:36.756733",
          "status": "completed"
        },
        "tags": [],
        "id": "617b0b90"
      },
      "outputs": [],
      "source": [
        "sgd = SGDRegressor()\n",
        "sgd.fit(x_train, y_train)\n",
        "preds_train_sgd = sgd.predict(x_train)\n",
        "preds_test_sgd = sgd.predict(x_test)"
      ]
    },
    {
      "cell_type": "code",
      "execution_count": null,
      "id": "65422d95",
      "metadata": {
        "execution": {
          "iopub.execute_input": "2023-12-13T16:21:37.247139Z",
          "iopub.status.busy": "2023-12-13T16:21:37.246620Z",
          "iopub.status.idle": "2023-12-13T16:21:37.256390Z",
          "shell.execute_reply": "2023-12-13T16:21:37.254985Z"
        },
        "papermill": {
          "duration": 0.073093,
          "end_time": "2023-12-13T16:21:37.259174",
          "exception": false,
          "start_time": "2023-12-13T16:21:37.186081",
          "status": "completed"
        },
        "tags": [],
        "id": "65422d95",
        "outputId": "c2473f00-d246-456e-d59d-3dceaf1132ea"
      },
      "outputs": [
        {
          "name": "stdout",
          "output_type": "stream",
          "text": [
            "The RMSE value for the model is:  2168710449635.89\n",
            "The R2 Score for the model is:  -1.6665699331960494e+18\n"
          ]
        }
      ],
      "source": [
        "model_eval(y_train,preds_train_sgd )"
      ]
    },
    {
      "cell_type": "code",
      "execution_count": null,
      "id": "dddf8df8",
      "metadata": {
        "execution": {
          "iopub.execute_input": "2023-12-13T16:21:37.348545Z",
          "iopub.status.busy": "2023-12-13T16:21:37.348003Z",
          "iopub.status.idle": "2023-12-13T16:21:37.357594Z",
          "shell.execute_reply": "2023-12-13T16:21:37.355782Z"
        },
        "papermill": {
          "duration": 0.057141,
          "end_time": "2023-12-13T16:21:37.360446",
          "exception": false,
          "start_time": "2023-12-13T16:21:37.303305",
          "status": "completed"
        },
        "tags": [],
        "id": "dddf8df8",
        "outputId": "37c10c53-fa49-4d28-8907-32d98ac176ef"
      },
      "outputs": [
        {
          "name": "stdout",
          "output_type": "stream",
          "text": [
            "The RMSE value for the model is:  2169484189345.37\n",
            "The R2 Score for the model is:  -1.4800767555581184e+18\n"
          ]
        }
      ],
      "source": [
        "model_eval(y_test, preds_test_sgd)"
      ]
    },
    {
      "cell_type": "markdown",
      "id": "1bb9ca10",
      "metadata": {
        "papermill": {
          "duration": 0.043076,
          "end_time": "2023-12-13T16:21:37.446488",
          "exception": false,
          "start_time": "2023-12-13T16:21:37.403412",
          "status": "completed"
        },
        "tags": [],
        "id": "1bb9ca10"
      },
      "source": [
        "### 7.Hypertuning"
      ]
    },
    {
      "cell_type": "code",
      "execution_count": null,
      "id": "810d98d6",
      "metadata": {
        "execution": {
          "iopub.execute_input": "2023-12-13T16:21:37.534440Z",
          "iopub.status.busy": "2023-12-13T16:21:37.533939Z",
          "iopub.status.idle": "2023-12-13T16:21:37.539716Z",
          "shell.execute_reply": "2023-12-13T16:21:37.538164Z"
        },
        "papermill": {
          "duration": 0.053289,
          "end_time": "2023-12-13T16:21:37.542710",
          "exception": false,
          "start_time": "2023-12-13T16:21:37.489421",
          "status": "completed"
        },
        "tags": [],
        "id": "810d98d6"
      },
      "outputs": [],
      "source": [
        "# Lets try and hypertune our model and see if we can further improve the RMSE and R2 Score"
      ]
    },
    {
      "cell_type": "code",
      "execution_count": null,
      "id": "c3f564f5",
      "metadata": {
        "execution": {
          "iopub.execute_input": "2023-12-13T16:21:37.632842Z",
          "iopub.status.busy": "2023-12-13T16:21:37.632293Z",
          "iopub.status.idle": "2023-12-13T16:21:37.637454Z",
          "shell.execute_reply": "2023-12-13T16:21:37.636453Z"
        },
        "papermill": {
          "duration": 0.052328,
          "end_time": "2023-12-13T16:21:37.639817",
          "exception": false,
          "start_time": "2023-12-13T16:21:37.587489",
          "status": "completed"
        },
        "tags": [],
        "id": "c3f564f5"
      },
      "outputs": [],
      "source": [
        "#Based on the bias variance trade off I have tried to hypertune Gradient Boosting Regressor using RandomizedSearchCV"
      ]
    },
    {
      "cell_type": "code",
      "execution_count": null,
      "id": "36dfa631",
      "metadata": {
        "execution": {
          "iopub.execute_input": "2023-12-13T16:21:37.729434Z",
          "iopub.status.busy": "2023-12-13T16:21:37.728881Z",
          "iopub.status.idle": "2023-12-13T16:21:37.735217Z",
          "shell.execute_reply": "2023-12-13T16:21:37.733797Z"
        },
        "papermill": {
          "duration": 0.05353,
          "end_time": "2023-12-13T16:21:37.737908",
          "exception": false,
          "start_time": "2023-12-13T16:21:37.684378",
          "status": "completed"
        },
        "tags": [],
        "id": "36dfa631"
      },
      "outputs": [],
      "source": [
        "from sklearn.model_selection import RandomizedSearchCV"
      ]
    },
    {
      "cell_type": "code",
      "execution_count": null,
      "id": "4475c9ec",
      "metadata": {
        "execution": {
          "iopub.execute_input": "2023-12-13T16:21:37.827975Z",
          "iopub.status.busy": "2023-12-13T16:21:37.827419Z",
          "iopub.status.idle": "2023-12-13T16:21:37.836173Z",
          "shell.execute_reply": "2023-12-13T16:21:37.834785Z"
        },
        "papermill": {
          "duration": 0.056555,
          "end_time": "2023-12-13T16:21:37.838994",
          "exception": false,
          "start_time": "2023-12-13T16:21:37.782439",
          "status": "completed"
        },
        "tags": [],
        "id": "4475c9ec"
      },
      "outputs": [],
      "source": [
        "# Number of estimators\n",
        "n_estimators = [int(x) for x in np.linspace(start=50, stop=300, num=10)]\n",
        "\n",
        "# Number of features to consider at every split\n",
        "max_features = ['log2', 'sqrt']\n",
        "\n",
        "# Maximum number of levels\n",
        "max_depth = [int(x) for x in np.linspace(3, 15, num=5)] + [None]\n",
        "\n",
        "# Minimum number of samples required to split a node\n",
        "min_samples_split = [2, 5, 10]\n",
        "\n",
        "# Minimum number of samples required at each leaf node\n",
        "min_samples_leaf = [1, 2, 4]\n",
        "\n",
        "# Learning Rate\n",
        "l_rate = [0.01, 0.05, 0.1, 0.5]"
      ]
    },
    {
      "cell_type": "code",
      "execution_count": null,
      "id": "ef52d9ca",
      "metadata": {
        "execution": {
          "iopub.execute_input": "2023-12-13T16:21:37.927808Z",
          "iopub.status.busy": "2023-12-13T16:21:37.926927Z",
          "iopub.status.idle": "2023-12-13T16:21:37.933949Z",
          "shell.execute_reply": "2023-12-13T16:21:37.932612Z"
        },
        "papermill": {
          "duration": 0.054214,
          "end_time": "2023-12-13T16:21:37.936687",
          "exception": false,
          "start_time": "2023-12-13T16:21:37.882473",
          "status": "completed"
        },
        "tags": [],
        "id": "ef52d9ca"
      },
      "outputs": [],
      "source": [
        "# Create the random grid\n",
        "random_grid = {\n",
        "    'n_estimators': n_estimators,\n",
        "    'max_features': max_features,\n",
        "    'max_depth': max_depth,\n",
        "    'min_samples_split': min_samples_split,\n",
        "    'min_samples_leaf': min_samples_leaf,\n",
        "    'learning_rate': l_rate\n",
        "}\n"
      ]
    },
    {
      "cell_type": "code",
      "execution_count": null,
      "id": "ef138ac8",
      "metadata": {
        "execution": {
          "iopub.execute_input": "2023-12-13T16:21:38.025492Z",
          "iopub.status.busy": "2023-12-13T16:21:38.024985Z",
          "iopub.status.idle": "2023-12-13T16:21:38.031309Z",
          "shell.execute_reply": "2023-12-13T16:21:38.029965Z"
        },
        "papermill": {
          "duration": 0.054172,
          "end_time": "2023-12-13T16:21:38.033977",
          "exception": false,
          "start_time": "2023-12-13T16:21:37.979805",
          "status": "completed"
        },
        "tags": [],
        "id": "ef138ac8"
      },
      "outputs": [],
      "source": [
        "# Randomized Search CV setup\n",
        "gb_clf = RandomizedSearchCV(estimator=gb, param_distributions=random_grid, n_iter=100, cv=3, random_state=123, n_jobs=-1)"
      ]
    },
    {
      "cell_type": "code",
      "execution_count": null,
      "id": "9524af4d",
      "metadata": {
        "execution": {
          "iopub.execute_input": "2023-12-13T16:21:38.121906Z",
          "iopub.status.busy": "2023-12-13T16:21:38.121360Z",
          "iopub.status.idle": "2023-12-13T16:23:21.240484Z",
          "shell.execute_reply": "2023-12-13T16:23:21.237552Z"
        },
        "papermill": {
          "duration": 103.210387,
          "end_time": "2023-12-13T16:23:21.287116",
          "exception": false,
          "start_time": "2023-12-13T16:21:38.076729",
          "status": "completed"
        },
        "tags": [],
        "id": "9524af4d",
        "outputId": "801483b9-294a-4445-860f-a0c7b5e92f90"
      },
      "outputs": [
        {
          "data": {
            "text/html": [
              "<style>#sk-container-id-2 {color: black;background-color: white;}#sk-container-id-2 pre{padding: 0;}#sk-container-id-2 div.sk-toggleable {background-color: white;}#sk-container-id-2 label.sk-toggleable__label {cursor: pointer;display: block;width: 100%;margin-bottom: 0;padding: 0.3em;box-sizing: border-box;text-align: center;}#sk-container-id-2 label.sk-toggleable__label-arrow:before {content: \"▸\";float: left;margin-right: 0.25em;color: #696969;}#sk-container-id-2 label.sk-toggleable__label-arrow:hover:before {color: black;}#sk-container-id-2 div.sk-estimator:hover label.sk-toggleable__label-arrow:before {color: black;}#sk-container-id-2 div.sk-toggleable__content {max-height: 0;max-width: 0;overflow: hidden;text-align: left;background-color: #f0f8ff;}#sk-container-id-2 div.sk-toggleable__content pre {margin: 0.2em;color: black;border-radius: 0.25em;background-color: #f0f8ff;}#sk-container-id-2 input.sk-toggleable__control:checked~div.sk-toggleable__content {max-height: 200px;max-width: 100%;overflow: auto;}#sk-container-id-2 input.sk-toggleable__control:checked~label.sk-toggleable__label-arrow:before {content: \"▾\";}#sk-container-id-2 div.sk-estimator input.sk-toggleable__control:checked~label.sk-toggleable__label {background-color: #d4ebff;}#sk-container-id-2 div.sk-label input.sk-toggleable__control:checked~label.sk-toggleable__label {background-color: #d4ebff;}#sk-container-id-2 input.sk-hidden--visually {border: 0;clip: rect(1px 1px 1px 1px);clip: rect(1px, 1px, 1px, 1px);height: 1px;margin: -1px;overflow: hidden;padding: 0;position: absolute;width: 1px;}#sk-container-id-2 div.sk-estimator {font-family: monospace;background-color: #f0f8ff;border: 1px dotted black;border-radius: 0.25em;box-sizing: border-box;margin-bottom: 0.5em;}#sk-container-id-2 div.sk-estimator:hover {background-color: #d4ebff;}#sk-container-id-2 div.sk-parallel-item::after {content: \"\";width: 100%;border-bottom: 1px solid gray;flex-grow: 1;}#sk-container-id-2 div.sk-label:hover label.sk-toggleable__label {background-color: #d4ebff;}#sk-container-id-2 div.sk-serial::before {content: \"\";position: absolute;border-left: 1px solid gray;box-sizing: border-box;top: 0;bottom: 0;left: 50%;z-index: 0;}#sk-container-id-2 div.sk-serial {display: flex;flex-direction: column;align-items: center;background-color: white;padding-right: 0.2em;padding-left: 0.2em;position: relative;}#sk-container-id-2 div.sk-item {position: relative;z-index: 1;}#sk-container-id-2 div.sk-parallel {display: flex;align-items: stretch;justify-content: center;background-color: white;position: relative;}#sk-container-id-2 div.sk-item::before, #sk-container-id-2 div.sk-parallel-item::before {content: \"\";position: absolute;border-left: 1px solid gray;box-sizing: border-box;top: 0;bottom: 0;left: 50%;z-index: -1;}#sk-container-id-2 div.sk-parallel-item {display: flex;flex-direction: column;z-index: 1;position: relative;background-color: white;}#sk-container-id-2 div.sk-parallel-item:first-child::after {align-self: flex-end;width: 50%;}#sk-container-id-2 div.sk-parallel-item:last-child::after {align-self: flex-start;width: 50%;}#sk-container-id-2 div.sk-parallel-item:only-child::after {width: 0;}#sk-container-id-2 div.sk-dashed-wrapped {border: 1px dashed gray;margin: 0 0.4em 0.5em 0.4em;box-sizing: border-box;padding-bottom: 0.4em;background-color: white;}#sk-container-id-2 div.sk-label label {font-family: monospace;font-weight: bold;display: inline-block;line-height: 1.2em;}#sk-container-id-2 div.sk-label-container {text-align: center;}#sk-container-id-2 div.sk-container {/* jupyter's `normalize.less` sets `[hidden] { display: none; }` but bootstrap.min.css set `[hidden] { display: none !important; }` so we also need the `!important` here to be able to override the default hidden behavior on the sphinx rendered scikit-learn.org. See: https://github.com/scikit-learn/scikit-learn/issues/21755 */display: inline-block !important;position: relative;}#sk-container-id-2 div.sk-text-repr-fallback {display: none;}</style><div id=\"sk-container-id-2\" class=\"sk-top-container\"><div class=\"sk-text-repr-fallback\"><pre>RandomizedSearchCV(cv=3, estimator=GradientBoostingRegressor(), n_iter=100,\n",
              "                   n_jobs=-1,\n",
              "                   param_distributions={&#x27;learning_rate&#x27;: [0.01, 0.05, 0.1, 0.5],\n",
              "                                        &#x27;max_depth&#x27;: [3, 6, 9, 12, 15, None],\n",
              "                                        &#x27;max_features&#x27;: [&#x27;log2&#x27;, &#x27;sqrt&#x27;],\n",
              "                                        &#x27;min_samples_leaf&#x27;: [1, 2, 4],\n",
              "                                        &#x27;min_samples_split&#x27;: [2, 5, 10],\n",
              "                                        &#x27;n_estimators&#x27;: [50, 77, 105, 133, 161,\n",
              "                                                         188, 216, 244, 272,\n",
              "                                                         300]},\n",
              "                   random_state=123)</pre><b>In a Jupyter environment, please rerun this cell to show the HTML representation or trust the notebook. <br />On GitHub, the HTML representation is unable to render, please try loading this page with nbviewer.org.</b></div><div class=\"sk-container\" hidden><div class=\"sk-item sk-dashed-wrapped\"><div class=\"sk-label-container\"><div class=\"sk-label sk-toggleable\"><input class=\"sk-toggleable__control sk-hidden--visually\" id=\"sk-estimator-id-2\" type=\"checkbox\" ><label for=\"sk-estimator-id-2\" class=\"sk-toggleable__label sk-toggleable__label-arrow\">RandomizedSearchCV</label><div class=\"sk-toggleable__content\"><pre>RandomizedSearchCV(cv=3, estimator=GradientBoostingRegressor(), n_iter=100,\n",
              "                   n_jobs=-1,\n",
              "                   param_distributions={&#x27;learning_rate&#x27;: [0.01, 0.05, 0.1, 0.5],\n",
              "                                        &#x27;max_depth&#x27;: [3, 6, 9, 12, 15, None],\n",
              "                                        &#x27;max_features&#x27;: [&#x27;log2&#x27;, &#x27;sqrt&#x27;],\n",
              "                                        &#x27;min_samples_leaf&#x27;: [1, 2, 4],\n",
              "                                        &#x27;min_samples_split&#x27;: [2, 5, 10],\n",
              "                                        &#x27;n_estimators&#x27;: [50, 77, 105, 133, 161,\n",
              "                                                         188, 216, 244, 272,\n",
              "                                                         300]},\n",
              "                   random_state=123)</pre></div></div></div><div class=\"sk-parallel\"><div class=\"sk-parallel-item\"><div class=\"sk-item\"><div class=\"sk-label-container\"><div class=\"sk-label sk-toggleable\"><input class=\"sk-toggleable__control sk-hidden--visually\" id=\"sk-estimator-id-3\" type=\"checkbox\" ><label for=\"sk-estimator-id-3\" class=\"sk-toggleable__label sk-toggleable__label-arrow\">estimator: GradientBoostingRegressor</label><div class=\"sk-toggleable__content\"><pre>GradientBoostingRegressor()</pre></div></div></div><div class=\"sk-serial\"><div class=\"sk-item\"><div class=\"sk-estimator sk-toggleable\"><input class=\"sk-toggleable__control sk-hidden--visually\" id=\"sk-estimator-id-4\" type=\"checkbox\" ><label for=\"sk-estimator-id-4\" class=\"sk-toggleable__label sk-toggleable__label-arrow\">GradientBoostingRegressor</label><div class=\"sk-toggleable__content\"><pre>GradientBoostingRegressor()</pre></div></div></div></div></div></div></div></div></div></div>"
            ],
            "text/plain": [
              "RandomizedSearchCV(cv=3, estimator=GradientBoostingRegressor(), n_iter=100,\n",
              "                   n_jobs=-1,\n",
              "                   param_distributions={'learning_rate': [0.01, 0.05, 0.1, 0.5],\n",
              "                                        'max_depth': [3, 6, 9, 12, 15, None],\n",
              "                                        'max_features': ['log2', 'sqrt'],\n",
              "                                        'min_samples_leaf': [1, 2, 4],\n",
              "                                        'min_samples_split': [2, 5, 10],\n",
              "                                        'n_estimators': [50, 77, 105, 133, 161,\n",
              "                                                         188, 216, 244, 272,\n",
              "                                                         300]},\n",
              "                   random_state=123)"
            ]
          },
          "execution_count": 79,
          "metadata": {},
          "output_type": "execute_result"
        }
      ],
      "source": [
        "# Lets fit the Randomized Search CV to our data\n",
        "gb_clf.fit(x_train, y_train)"
      ]
    },
    {
      "cell_type": "code",
      "execution_count": null,
      "id": "e7d26361",
      "metadata": {
        "execution": {
          "iopub.execute_input": "2023-12-13T16:23:21.375719Z",
          "iopub.status.busy": "2023-12-13T16:23:21.374506Z",
          "iopub.status.idle": "2023-12-13T16:23:21.381059Z",
          "shell.execute_reply": "2023-12-13T16:23:21.379994Z"
        },
        "papermill": {
          "duration": 0.05381,
          "end_time": "2023-12-13T16:23:21.383380",
          "exception": false,
          "start_time": "2023-12-13T16:23:21.329570",
          "status": "completed"
        },
        "tags": [],
        "id": "e7d26361",
        "outputId": "2728c12e-0cd1-481a-ded0-9d8f60599337"
      },
      "outputs": [
        {
          "name": "stdout",
          "output_type": "stream",
          "text": [
            "Best Parameters: {'n_estimators': 244, 'min_samples_split': 10, 'min_samples_leaf': 2, 'max_features': 'log2', 'max_depth': 3, 'learning_rate': 0.05}\n",
            "Best Score: 0.5869645713629928\n"
          ]
        }
      ],
      "source": [
        "# Get the best parameters and best score\n",
        "print(\"Best Parameters:\", gb_clf.best_params_)\n",
        "print(\"Best Score:\", gb_clf.best_score_)"
      ]
    },
    {
      "cell_type": "code",
      "execution_count": null,
      "id": "0f9fb058",
      "metadata": {
        "execution": {
          "iopub.execute_input": "2023-12-13T16:23:21.473292Z",
          "iopub.status.busy": "2023-12-13T16:23:21.472779Z",
          "iopub.status.idle": "2023-12-13T16:23:21.780304Z",
          "shell.execute_reply": "2023-12-13T16:23:21.779136Z"
        },
        "papermill": {
          "duration": 0.355668,
          "end_time": "2023-12-13T16:23:21.783208",
          "exception": false,
          "start_time": "2023-12-13T16:23:21.427540",
          "status": "completed"
        },
        "tags": [],
        "id": "0f9fb058"
      },
      "outputs": [],
      "source": [
        "gb2 = GradientBoostingRegressor(n_estimators=105,min_samples_split= 2,min_samples_leaf= 1,\n",
        "                                max_features='sqrt',max_depth= 3,learning_rate= 0.1)\n",
        "gb2.fit(x_train, y_train)\n",
        "preds_gb2_train = gb2.predict(x_train)\n",
        "preds_gb2_test = gb2.predict(x_test)"
      ]
    },
    {
      "cell_type": "code",
      "execution_count": null,
      "id": "28b66421",
      "metadata": {
        "execution": {
          "iopub.execute_input": "2023-12-13T16:23:21.873172Z",
          "iopub.status.busy": "2023-12-13T16:23:21.872389Z",
          "iopub.status.idle": "2023-12-13T16:23:21.879258Z",
          "shell.execute_reply": "2023-12-13T16:23:21.878369Z"
        },
        "papermill": {
          "duration": 0.054229,
          "end_time": "2023-12-13T16:23:21.881649",
          "exception": false,
          "start_time": "2023-12-13T16:23:21.827420",
          "status": "completed"
        },
        "tags": [],
        "id": "28b66421",
        "outputId": "dd65533f-1d57-48bd-daed-ac34871ecdbf"
      },
      "outputs": [
        {
          "name": "stdout",
          "output_type": "stream",
          "text": [
            "The RMSE value for the model is:  1053.54\n",
            "The R2 Score for the model is:  0.61\n"
          ]
        }
      ],
      "source": [
        "model_eval(y_train, preds_gb2_train)"
      ]
    },
    {
      "cell_type": "code",
      "execution_count": null,
      "id": "850cfa46",
      "metadata": {
        "execution": {
          "iopub.execute_input": "2023-12-13T16:23:21.969344Z",
          "iopub.status.busy": "2023-12-13T16:23:21.968855Z",
          "iopub.status.idle": "2023-12-13T16:23:21.977475Z",
          "shell.execute_reply": "2023-12-13T16:23:21.976127Z"
        },
        "papermill": {
          "duration": 0.05592,
          "end_time": "2023-12-13T16:23:21.980205",
          "exception": false,
          "start_time": "2023-12-13T16:23:21.924285",
          "status": "completed"
        },
        "tags": [],
        "id": "850cfa46",
        "outputId": "1d51a05b-bd6d-451f-e017-c8e323fe820e"
      },
      "outputs": [
        {
          "name": "stdout",
          "output_type": "stream",
          "text": [
            "The RMSE value for the model is:  1143.02\n",
            "The R2 Score for the model is:  0.59\n"
          ]
        }
      ],
      "source": [
        "model_eval(y_test,preds_gb2_test )"
      ]
    },
    {
      "cell_type": "markdown",
      "id": "60b9853c",
      "metadata": {
        "papermill": {
          "duration": 0.042837,
          "end_time": "2023-12-13T16:23:22.067471",
          "exception": false,
          "start_time": "2023-12-13T16:23:22.024634",
          "status": "completed"
        },
        "tags": [],
        "id": "60b9853c"
      },
      "source": [
        "### 8.Test Data Application"
      ]
    },
    {
      "cell_type": "code",
      "execution_count": null,
      "id": "b155a638",
      "metadata": {
        "execution": {
          "iopub.execute_input": "2023-12-13T16:23:22.155553Z",
          "iopub.status.busy": "2023-12-13T16:23:22.155066Z",
          "iopub.status.idle": "2023-12-13T16:23:22.176040Z",
          "shell.execute_reply": "2023-12-13T16:23:22.173833Z"
        },
        "papermill": {
          "duration": 0.068461,
          "end_time": "2023-12-13T16:23:22.178917",
          "exception": false,
          "start_time": "2023-12-13T16:23:22.110456",
          "status": "completed"
        },
        "tags": [],
        "id": "b155a638",
        "outputId": "c5a9e48b-0e6f-48a0-d23a-7eb6f169f375"
      },
      "outputs": [
        {
          "name": "stdout",
          "output_type": "stream",
          "text": [
            "<class 'pandas.core.frame.DataFrame'>\n",
            "RangeIndex: 5681 entries, 0 to 5680\n",
            "Data columns (total 11 columns):\n",
            " #   Column                     Non-Null Count  Dtype  \n",
            "---  ------                     --------------  -----  \n",
            " 0   Item_Identifier            5681 non-null   object \n",
            " 1   Item_Weight                4705 non-null   float64\n",
            " 2   Item_Fat_Content           5681 non-null   object \n",
            " 3   Item_Visibility            5681 non-null   float64\n",
            " 4   Item_Type                  5681 non-null   object \n",
            " 5   Item_MRP                   5681 non-null   float64\n",
            " 6   Outlet_Identifier          5681 non-null   object \n",
            " 7   Outlet_Establishment_Year  5681 non-null   int64  \n",
            " 8   Outlet_Size                4075 non-null   object \n",
            " 9   Outlet_Location_Type       5681 non-null   object \n",
            " 10  Outlet_Type                5681 non-null   object \n",
            "dtypes: float64(3), int64(1), object(7)\n",
            "memory usage: 488.3+ KB\n"
          ]
        }
      ],
      "source": [
        "test.info()"
      ]
    },
    {
      "cell_type": "code",
      "execution_count": null,
      "id": "34e55b9c",
      "metadata": {
        "execution": {
          "iopub.execute_input": "2023-12-13T16:23:22.268894Z",
          "iopub.status.busy": "2023-12-13T16:23:22.268388Z",
          "iopub.status.idle": "2023-12-13T16:23:22.305098Z",
          "shell.execute_reply": "2023-12-13T16:23:22.303836Z"
        },
        "papermill": {
          "duration": 0.084889,
          "end_time": "2023-12-13T16:23:22.307862",
          "exception": false,
          "start_time": "2023-12-13T16:23:22.222973",
          "status": "completed"
        },
        "tags": [],
        "id": "34e55b9c",
        "outputId": "5c774e9a-0a83-488d-b756-4d8da767943b"
      },
      "outputs": [
        {
          "data": {
            "text/html": [
              "<div>\n",
              "<style scoped>\n",
              "    .dataframe tbody tr th:only-of-type {\n",
              "        vertical-align: middle;\n",
              "    }\n",
              "\n",
              "    .dataframe tbody tr th {\n",
              "        vertical-align: top;\n",
              "    }\n",
              "\n",
              "    .dataframe thead th {\n",
              "        text-align: right;\n",
              "    }\n",
              "</style>\n",
              "<table border=\"1\" class=\"dataframe\">\n",
              "  <thead>\n",
              "    <tr style=\"text-align: right;\">\n",
              "      <th></th>\n",
              "      <th>Item_Identifier</th>\n",
              "      <th>Item_Weight</th>\n",
              "      <th>Item_Fat_Content</th>\n",
              "      <th>Item_Visibility</th>\n",
              "      <th>Item_Type</th>\n",
              "      <th>Item_MRP</th>\n",
              "      <th>Outlet_Identifier</th>\n",
              "      <th>Outlet_Establishment_Year</th>\n",
              "      <th>Outlet_Size</th>\n",
              "      <th>Outlet_Location_Type</th>\n",
              "      <th>Outlet_Type</th>\n",
              "      <th>YOB</th>\n",
              "    </tr>\n",
              "  </thead>\n",
              "  <tbody>\n",
              "    <tr>\n",
              "      <th>0</th>\n",
              "      <td>FDW58</td>\n",
              "      <td>20.750</td>\n",
              "      <td>Low Fat</td>\n",
              "      <td>0.007565</td>\n",
              "      <td>Snack Foods</td>\n",
              "      <td>107.8622</td>\n",
              "      <td>OUT049</td>\n",
              "      <td>1999</td>\n",
              "      <td>Medium</td>\n",
              "      <td>Tier 1</td>\n",
              "      <td>Supermarket Type1</td>\n",
              "      <td>24</td>\n",
              "    </tr>\n",
              "    <tr>\n",
              "      <th>1</th>\n",
              "      <td>FDW14</td>\n",
              "      <td>8.300</td>\n",
              "      <td>Regular</td>\n",
              "      <td>0.038428</td>\n",
              "      <td>Dairy</td>\n",
              "      <td>87.3198</td>\n",
              "      <td>OUT017</td>\n",
              "      <td>2007</td>\n",
              "      <td>Medium</td>\n",
              "      <td>Tier 2</td>\n",
              "      <td>Supermarket Type1</td>\n",
              "      <td>16</td>\n",
              "    </tr>\n",
              "    <tr>\n",
              "      <th>2</th>\n",
              "      <td>NCN55</td>\n",
              "      <td>14.600</td>\n",
              "      <td>Low Fat</td>\n",
              "      <td>0.099575</td>\n",
              "      <td>Others</td>\n",
              "      <td>241.7538</td>\n",
              "      <td>OUT010</td>\n",
              "      <td>1998</td>\n",
              "      <td>Medium</td>\n",
              "      <td>Tier 3</td>\n",
              "      <td>Grocery Store</td>\n",
              "      <td>25</td>\n",
              "    </tr>\n",
              "    <tr>\n",
              "      <th>3</th>\n",
              "      <td>FDQ58</td>\n",
              "      <td>7.315</td>\n",
              "      <td>Low Fat</td>\n",
              "      <td>0.015388</td>\n",
              "      <td>Snack Foods</td>\n",
              "      <td>155.0340</td>\n",
              "      <td>OUT017</td>\n",
              "      <td>2007</td>\n",
              "      <td>Medium</td>\n",
              "      <td>Tier 2</td>\n",
              "      <td>Supermarket Type1</td>\n",
              "      <td>16</td>\n",
              "    </tr>\n",
              "    <tr>\n",
              "      <th>4</th>\n",
              "      <td>FDY38</td>\n",
              "      <td>12.500</td>\n",
              "      <td>Regular</td>\n",
              "      <td>0.118599</td>\n",
              "      <td>Dairy</td>\n",
              "      <td>234.2300</td>\n",
              "      <td>OUT027</td>\n",
              "      <td>1985</td>\n",
              "      <td>Medium</td>\n",
              "      <td>Tier 3</td>\n",
              "      <td>Supermarket Type3</td>\n",
              "      <td>38</td>\n",
              "    </tr>\n",
              "    <tr>\n",
              "      <th>...</th>\n",
              "      <td>...</td>\n",
              "      <td>...</td>\n",
              "      <td>...</td>\n",
              "      <td>...</td>\n",
              "      <td>...</td>\n",
              "      <td>...</td>\n",
              "      <td>...</td>\n",
              "      <td>...</td>\n",
              "      <td>...</td>\n",
              "      <td>...</td>\n",
              "      <td>...</td>\n",
              "      <td>...</td>\n",
              "    </tr>\n",
              "    <tr>\n",
              "      <th>5676</th>\n",
              "      <td>FDB58</td>\n",
              "      <td>10.500</td>\n",
              "      <td>Regular</td>\n",
              "      <td>0.013496</td>\n",
              "      <td>Snack Foods</td>\n",
              "      <td>141.3154</td>\n",
              "      <td>OUT046</td>\n",
              "      <td>1997</td>\n",
              "      <td>Small</td>\n",
              "      <td>Tier 1</td>\n",
              "      <td>Supermarket Type1</td>\n",
              "      <td>26</td>\n",
              "    </tr>\n",
              "    <tr>\n",
              "      <th>5677</th>\n",
              "      <td>FDD47</td>\n",
              "      <td>7.600</td>\n",
              "      <td>Regular</td>\n",
              "      <td>0.142991</td>\n",
              "      <td>Starchy Foods</td>\n",
              "      <td>169.1448</td>\n",
              "      <td>OUT018</td>\n",
              "      <td>2009</td>\n",
              "      <td>Medium</td>\n",
              "      <td>Tier 3</td>\n",
              "      <td>Supermarket Type2</td>\n",
              "      <td>14</td>\n",
              "    </tr>\n",
              "    <tr>\n",
              "      <th>5678</th>\n",
              "      <td>NCO17</td>\n",
              "      <td>10.000</td>\n",
              "      <td>Low Fat</td>\n",
              "      <td>0.073529</td>\n",
              "      <td>Health and Hygiene</td>\n",
              "      <td>118.7440</td>\n",
              "      <td>OUT045</td>\n",
              "      <td>2002</td>\n",
              "      <td>Medium</td>\n",
              "      <td>Tier 2</td>\n",
              "      <td>Supermarket Type1</td>\n",
              "      <td>21</td>\n",
              "    </tr>\n",
              "    <tr>\n",
              "      <th>5679</th>\n",
              "      <td>FDJ26</td>\n",
              "      <td>15.300</td>\n",
              "      <td>Regular</td>\n",
              "      <td>0.000000</td>\n",
              "      <td>Canned</td>\n",
              "      <td>214.6218</td>\n",
              "      <td>OUT017</td>\n",
              "      <td>2007</td>\n",
              "      <td>Medium</td>\n",
              "      <td>Tier 2</td>\n",
              "      <td>Supermarket Type1</td>\n",
              "      <td>16</td>\n",
              "    </tr>\n",
              "    <tr>\n",
              "      <th>5680</th>\n",
              "      <td>FDU37</td>\n",
              "      <td>9.500</td>\n",
              "      <td>Regular</td>\n",
              "      <td>0.104720</td>\n",
              "      <td>Canned</td>\n",
              "      <td>79.7960</td>\n",
              "      <td>OUT045</td>\n",
              "      <td>2002</td>\n",
              "      <td>Medium</td>\n",
              "      <td>Tier 2</td>\n",
              "      <td>Supermarket Type1</td>\n",
              "      <td>21</td>\n",
              "    </tr>\n",
              "  </tbody>\n",
              "</table>\n",
              "<p>5681 rows × 12 columns</p>\n",
              "</div>"
            ],
            "text/plain": [
              "     Item_Identifier  Item_Weight Item_Fat_Content  Item_Visibility  \\\n",
              "0              FDW58       20.750          Low Fat         0.007565   \n",
              "1              FDW14        8.300          Regular         0.038428   \n",
              "2              NCN55       14.600          Low Fat         0.099575   \n",
              "3              FDQ58        7.315          Low Fat         0.015388   \n",
              "4              FDY38       12.500          Regular         0.118599   \n",
              "...              ...          ...              ...              ...   \n",
              "5676           FDB58       10.500          Regular         0.013496   \n",
              "5677           FDD47        7.600          Regular         0.142991   \n",
              "5678           NCO17       10.000          Low Fat         0.073529   \n",
              "5679           FDJ26       15.300          Regular         0.000000   \n",
              "5680           FDU37        9.500          Regular         0.104720   \n",
              "\n",
              "               Item_Type  Item_MRP Outlet_Identifier  \\\n",
              "0            Snack Foods  107.8622            OUT049   \n",
              "1                  Dairy   87.3198            OUT017   \n",
              "2                 Others  241.7538            OUT010   \n",
              "3            Snack Foods  155.0340            OUT017   \n",
              "4                  Dairy  234.2300            OUT027   \n",
              "...                  ...       ...               ...   \n",
              "5676         Snack Foods  141.3154            OUT046   \n",
              "5677       Starchy Foods  169.1448            OUT018   \n",
              "5678  Health and Hygiene  118.7440            OUT045   \n",
              "5679              Canned  214.6218            OUT017   \n",
              "5680              Canned   79.7960            OUT045   \n",
              "\n",
              "      Outlet_Establishment_Year Outlet_Size Outlet_Location_Type  \\\n",
              "0                          1999      Medium               Tier 1   \n",
              "1                          2007      Medium               Tier 2   \n",
              "2                          1998      Medium               Tier 3   \n",
              "3                          2007      Medium               Tier 2   \n",
              "4                          1985      Medium               Tier 3   \n",
              "...                         ...         ...                  ...   \n",
              "5676                       1997       Small               Tier 1   \n",
              "5677                       2009      Medium               Tier 3   \n",
              "5678                       2002      Medium               Tier 2   \n",
              "5679                       2007      Medium               Tier 2   \n",
              "5680                       2002      Medium               Tier 2   \n",
              "\n",
              "            Outlet_Type  YOB  \n",
              "0     Supermarket Type1   24  \n",
              "1     Supermarket Type1   16  \n",
              "2         Grocery Store   25  \n",
              "3     Supermarket Type1   16  \n",
              "4     Supermarket Type3   38  \n",
              "...                 ...  ...  \n",
              "5676  Supermarket Type1   26  \n",
              "5677  Supermarket Type2   14  \n",
              "5678  Supermarket Type1   21  \n",
              "5679  Supermarket Type1   16  \n",
              "5680  Supermarket Type1   21  \n",
              "\n",
              "[5681 rows x 12 columns]"
            ]
          },
          "execution_count": 85,
          "metadata": {},
          "output_type": "execute_result"
        }
      ],
      "source": [
        "data_prep(test)"
      ]
    },
    {
      "cell_type": "code",
      "execution_count": null,
      "id": "52fed75f",
      "metadata": {
        "execution": {
          "iopub.execute_input": "2023-12-13T16:23:22.398983Z",
          "iopub.status.busy": "2023-12-13T16:23:22.398439Z",
          "iopub.status.idle": "2023-12-13T16:23:22.409624Z",
          "shell.execute_reply": "2023-12-13T16:23:22.408512Z"
        },
        "papermill": {
          "duration": 0.060343,
          "end_time": "2023-12-13T16:23:22.411959",
          "exception": false,
          "start_time": "2023-12-13T16:23:22.351616",
          "status": "completed"
        },
        "tags": [],
        "id": "52fed75f",
        "outputId": "4ba2f431-4230-4527-a7da-9c7b4c06bfa4"
      },
      "outputs": [
        {
          "data": {
            "text/plain": [
              "Item_Fat_Content\n",
              "Low Fat    3668\n",
              "Regular    2013\n",
              "Name: count, dtype: int64"
            ]
          },
          "execution_count": 86,
          "metadata": {},
          "output_type": "execute_result"
        }
      ],
      "source": [
        "test['Item_Fat_Content'].value_counts()"
      ]
    },
    {
      "cell_type": "code",
      "execution_count": null,
      "id": "b16598ae",
      "metadata": {
        "execution": {
          "iopub.execute_input": "2023-12-13T16:23:22.502472Z",
          "iopub.status.busy": "2023-12-13T16:23:22.501971Z",
          "iopub.status.idle": "2023-12-13T16:23:22.510389Z",
          "shell.execute_reply": "2023-12-13T16:23:22.509394Z"
        },
        "papermill": {
          "duration": 0.056465,
          "end_time": "2023-12-13T16:23:22.512813",
          "exception": false,
          "start_time": "2023-12-13T16:23:22.456348",
          "status": "completed"
        },
        "tags": [],
        "id": "b16598ae"
      },
      "outputs": [],
      "source": [
        "test.drop(['Item_Identifier', 'Outlet_Identifier', 'Outlet_Establishment_Year'], inplace = True, axis = 1)"
      ]
    },
    {
      "cell_type": "code",
      "execution_count": null,
      "id": "0ad5c5cb",
      "metadata": {
        "execution": {
          "iopub.execute_input": "2023-12-13T16:23:22.603360Z",
          "iopub.status.busy": "2023-12-13T16:23:22.601918Z",
          "iopub.status.idle": "2023-12-13T16:23:22.619606Z",
          "shell.execute_reply": "2023-12-13T16:23:22.618604Z"
        },
        "papermill": {
          "duration": 0.065466,
          "end_time": "2023-12-13T16:23:22.622334",
          "exception": false,
          "start_time": "2023-12-13T16:23:22.556868",
          "status": "completed"
        },
        "tags": [],
        "id": "0ad5c5cb"
      },
      "outputs": [],
      "source": [
        "test_new = pd.get_dummies(test, columns = ['Item_Fat_Content', 'Item_Type', 'Outlet_Size','Outlet_Location_Type','Outlet_Type'])"
      ]
    },
    {
      "cell_type": "code",
      "execution_count": null,
      "id": "7cb4a3a6",
      "metadata": {
        "execution": {
          "iopub.execute_input": "2023-12-13T16:23:22.716396Z",
          "iopub.status.busy": "2023-12-13T16:23:22.715476Z",
          "iopub.status.idle": "2023-12-13T16:23:22.730956Z",
          "shell.execute_reply": "2023-12-13T16:23:22.729573Z"
        },
        "papermill": {
          "duration": 0.066261,
          "end_time": "2023-12-13T16:23:22.734587",
          "exception": false,
          "start_time": "2023-12-13T16:23:22.668326",
          "status": "completed"
        },
        "tags": [],
        "id": "7cb4a3a6",
        "outputId": "cf7bb1f4-91d7-40f7-f3b0-55e644239869"
      },
      "outputs": [
        {
          "name": "stdout",
          "output_type": "stream",
          "text": [
            "<class 'pandas.core.frame.DataFrame'>\n",
            "RangeIndex: 5681 entries, 0 to 5680\n",
            "Data columns (total 32 columns):\n",
            " #   Column                           Non-Null Count  Dtype  \n",
            "---  ------                           --------------  -----  \n",
            " 0   Item_Weight                      5681 non-null   float64\n",
            " 1   Item_Visibility                  5681 non-null   float64\n",
            " 2   Item_MRP                         5681 non-null   float64\n",
            " 3   YOB                              5681 non-null   int64  \n",
            " 4   Item_Fat_Content_Low Fat         5681 non-null   bool   \n",
            " 5   Item_Fat_Content_Regular         5681 non-null   bool   \n",
            " 6   Item_Type_Baking Goods           5681 non-null   bool   \n",
            " 7   Item_Type_Breads                 5681 non-null   bool   \n",
            " 8   Item_Type_Breakfast              5681 non-null   bool   \n",
            " 9   Item_Type_Canned                 5681 non-null   bool   \n",
            " 10  Item_Type_Dairy                  5681 non-null   bool   \n",
            " 11  Item_Type_Frozen Foods           5681 non-null   bool   \n",
            " 12  Item_Type_Fruits and Vegetables  5681 non-null   bool   \n",
            " 13  Item_Type_Hard Drinks            5681 non-null   bool   \n",
            " 14  Item_Type_Health and Hygiene     5681 non-null   bool   \n",
            " 15  Item_Type_Household              5681 non-null   bool   \n",
            " 16  Item_Type_Meat                   5681 non-null   bool   \n",
            " 17  Item_Type_Others                 5681 non-null   bool   \n",
            " 18  Item_Type_Seafood                5681 non-null   bool   \n",
            " 19  Item_Type_Snack Foods            5681 non-null   bool   \n",
            " 20  Item_Type_Soft Drinks            5681 non-null   bool   \n",
            " 21  Item_Type_Starchy Foods          5681 non-null   bool   \n",
            " 22  Outlet_Size_High                 5681 non-null   bool   \n",
            " 23  Outlet_Size_Medium               5681 non-null   bool   \n",
            " 24  Outlet_Size_Small                5681 non-null   bool   \n",
            " 25  Outlet_Location_Type_Tier 1      5681 non-null   bool   \n",
            " 26  Outlet_Location_Type_Tier 2      5681 non-null   bool   \n",
            " 27  Outlet_Location_Type_Tier 3      5681 non-null   bool   \n",
            " 28  Outlet_Type_Grocery Store        5681 non-null   bool   \n",
            " 29  Outlet_Type_Supermarket Type1    5681 non-null   bool   \n",
            " 30  Outlet_Type_Supermarket Type2    5681 non-null   bool   \n",
            " 31  Outlet_Type_Supermarket Type3    5681 non-null   bool   \n",
            "dtypes: bool(28), float64(3), int64(1)\n",
            "memory usage: 333.0 KB\n"
          ]
        }
      ],
      "source": [
        "test_new.info()"
      ]
    },
    {
      "cell_type": "code",
      "execution_count": null,
      "id": "21742a7b",
      "metadata": {
        "execution": {
          "iopub.execute_input": "2023-12-13T16:23:22.845184Z",
          "iopub.status.busy": "2023-12-13T16:23:22.844309Z",
          "iopub.status.idle": "2023-12-13T16:23:22.866389Z",
          "shell.execute_reply": "2023-12-13T16:23:22.864977Z"
        },
        "papermill": {
          "duration": 0.087194,
          "end_time": "2023-12-13T16:23:22.869738",
          "exception": false,
          "start_time": "2023-12-13T16:23:22.782544",
          "status": "completed"
        },
        "tags": [],
        "id": "21742a7b"
      },
      "outputs": [],
      "source": [
        "test_new['Item_Outlet_Sales'] = gb2.predict(test_new)"
      ]
    },
    {
      "cell_type": "code",
      "execution_count": null,
      "id": "7086ad3c",
      "metadata": {
        "execution": {
          "iopub.execute_input": "2023-12-13T16:23:22.962241Z",
          "iopub.status.busy": "2023-12-13T16:23:22.961765Z",
          "iopub.status.idle": "2023-12-13T16:23:22.991732Z",
          "shell.execute_reply": "2023-12-13T16:23:22.990504Z"
        },
        "papermill": {
          "duration": 0.079363,
          "end_time": "2023-12-13T16:23:22.994491",
          "exception": false,
          "start_time": "2023-12-13T16:23:22.915128",
          "status": "completed"
        },
        "tags": [],
        "id": "7086ad3c",
        "outputId": "91e2b0a7-9460-473b-99b9-e8d02b594c91"
      },
      "outputs": [
        {
          "data": {
            "text/html": [
              "<div>\n",
              "<style scoped>\n",
              "    .dataframe tbody tr th:only-of-type {\n",
              "        vertical-align: middle;\n",
              "    }\n",
              "\n",
              "    .dataframe tbody tr th {\n",
              "        vertical-align: top;\n",
              "    }\n",
              "\n",
              "    .dataframe thead th {\n",
              "        text-align: right;\n",
              "    }\n",
              "</style>\n",
              "<table border=\"1\" class=\"dataframe\">\n",
              "  <thead>\n",
              "    <tr style=\"text-align: right;\">\n",
              "      <th></th>\n",
              "      <th>Item_Weight</th>\n",
              "      <th>Item_Visibility</th>\n",
              "      <th>Item_MRP</th>\n",
              "      <th>YOB</th>\n",
              "      <th>Item_Fat_Content_Low Fat</th>\n",
              "      <th>Item_Fat_Content_Regular</th>\n",
              "      <th>Item_Type_Baking Goods</th>\n",
              "      <th>Item_Type_Breads</th>\n",
              "      <th>Item_Type_Breakfast</th>\n",
              "      <th>Item_Type_Canned</th>\n",
              "      <th>...</th>\n",
              "      <th>Outlet_Size_Medium</th>\n",
              "      <th>Outlet_Size_Small</th>\n",
              "      <th>Outlet_Location_Type_Tier 1</th>\n",
              "      <th>Outlet_Location_Type_Tier 2</th>\n",
              "      <th>Outlet_Location_Type_Tier 3</th>\n",
              "      <th>Outlet_Type_Grocery Store</th>\n",
              "      <th>Outlet_Type_Supermarket Type1</th>\n",
              "      <th>Outlet_Type_Supermarket Type2</th>\n",
              "      <th>Outlet_Type_Supermarket Type3</th>\n",
              "      <th>Item_Outlet_Sales</th>\n",
              "    </tr>\n",
              "  </thead>\n",
              "  <tbody>\n",
              "    <tr>\n",
              "      <th>0</th>\n",
              "      <td>20.750</td>\n",
              "      <td>0.007565</td>\n",
              "      <td>107.8622</td>\n",
              "      <td>24</td>\n",
              "      <td>True</td>\n",
              "      <td>False</td>\n",
              "      <td>False</td>\n",
              "      <td>False</td>\n",
              "      <td>False</td>\n",
              "      <td>False</td>\n",
              "      <td>...</td>\n",
              "      <td>True</td>\n",
              "      <td>False</td>\n",
              "      <td>True</td>\n",
              "      <td>False</td>\n",
              "      <td>False</td>\n",
              "      <td>False</td>\n",
              "      <td>True</td>\n",
              "      <td>False</td>\n",
              "      <td>False</td>\n",
              "      <td>1629.212393</td>\n",
              "    </tr>\n",
              "    <tr>\n",
              "      <th>1</th>\n",
              "      <td>8.300</td>\n",
              "      <td>0.038428</td>\n",
              "      <td>87.3198</td>\n",
              "      <td>16</td>\n",
              "      <td>False</td>\n",
              "      <td>True</td>\n",
              "      <td>False</td>\n",
              "      <td>False</td>\n",
              "      <td>False</td>\n",
              "      <td>False</td>\n",
              "      <td>...</td>\n",
              "      <td>True</td>\n",
              "      <td>False</td>\n",
              "      <td>False</td>\n",
              "      <td>True</td>\n",
              "      <td>False</td>\n",
              "      <td>False</td>\n",
              "      <td>True</td>\n",
              "      <td>False</td>\n",
              "      <td>False</td>\n",
              "      <td>1412.868264</td>\n",
              "    </tr>\n",
              "    <tr>\n",
              "      <th>2</th>\n",
              "      <td>14.600</td>\n",
              "      <td>0.099575</td>\n",
              "      <td>241.7538</td>\n",
              "      <td>25</td>\n",
              "      <td>True</td>\n",
              "      <td>False</td>\n",
              "      <td>False</td>\n",
              "      <td>False</td>\n",
              "      <td>False</td>\n",
              "      <td>False</td>\n",
              "      <td>...</td>\n",
              "      <td>True</td>\n",
              "      <td>False</td>\n",
              "      <td>False</td>\n",
              "      <td>False</td>\n",
              "      <td>True</td>\n",
              "      <td>True</td>\n",
              "      <td>False</td>\n",
              "      <td>False</td>\n",
              "      <td>False</td>\n",
              "      <td>1248.060418</td>\n",
              "    </tr>\n",
              "    <tr>\n",
              "      <th>3</th>\n",
              "      <td>7.315</td>\n",
              "      <td>0.015388</td>\n",
              "      <td>155.0340</td>\n",
              "      <td>16</td>\n",
              "      <td>True</td>\n",
              "      <td>False</td>\n",
              "      <td>False</td>\n",
              "      <td>False</td>\n",
              "      <td>False</td>\n",
              "      <td>False</td>\n",
              "      <td>...</td>\n",
              "      <td>True</td>\n",
              "      <td>False</td>\n",
              "      <td>False</td>\n",
              "      <td>True</td>\n",
              "      <td>False</td>\n",
              "      <td>False</td>\n",
              "      <td>True</td>\n",
              "      <td>False</td>\n",
              "      <td>False</td>\n",
              "      <td>2681.648129</td>\n",
              "    </tr>\n",
              "    <tr>\n",
              "      <th>4</th>\n",
              "      <td>12.500</td>\n",
              "      <td>0.118599</td>\n",
              "      <td>234.2300</td>\n",
              "      <td>38</td>\n",
              "      <td>False</td>\n",
              "      <td>True</td>\n",
              "      <td>False</td>\n",
              "      <td>False</td>\n",
              "      <td>False</td>\n",
              "      <td>False</td>\n",
              "      <td>...</td>\n",
              "      <td>True</td>\n",
              "      <td>False</td>\n",
              "      <td>False</td>\n",
              "      <td>False</td>\n",
              "      <td>True</td>\n",
              "      <td>False</td>\n",
              "      <td>False</td>\n",
              "      <td>False</td>\n",
              "      <td>True</td>\n",
              "      <td>5177.760218</td>\n",
              "    </tr>\n",
              "  </tbody>\n",
              "</table>\n",
              "<p>5 rows × 33 columns</p>\n",
              "</div>"
            ],
            "text/plain": [
              "   Item_Weight  Item_Visibility  Item_MRP  YOB  Item_Fat_Content_Low Fat  \\\n",
              "0       20.750         0.007565  107.8622   24                      True   \n",
              "1        8.300         0.038428   87.3198   16                     False   \n",
              "2       14.600         0.099575  241.7538   25                      True   \n",
              "3        7.315         0.015388  155.0340   16                      True   \n",
              "4       12.500         0.118599  234.2300   38                     False   \n",
              "\n",
              "   Item_Fat_Content_Regular  Item_Type_Baking Goods  Item_Type_Breads  \\\n",
              "0                     False                   False             False   \n",
              "1                      True                   False             False   \n",
              "2                     False                   False             False   \n",
              "3                     False                   False             False   \n",
              "4                      True                   False             False   \n",
              "\n",
              "   Item_Type_Breakfast  Item_Type_Canned  ...  Outlet_Size_Medium  \\\n",
              "0                False             False  ...                True   \n",
              "1                False             False  ...                True   \n",
              "2                False             False  ...                True   \n",
              "3                False             False  ...                True   \n",
              "4                False             False  ...                True   \n",
              "\n",
              "   Outlet_Size_Small  Outlet_Location_Type_Tier 1  \\\n",
              "0              False                         True   \n",
              "1              False                        False   \n",
              "2              False                        False   \n",
              "3              False                        False   \n",
              "4              False                        False   \n",
              "\n",
              "   Outlet_Location_Type_Tier 2  Outlet_Location_Type_Tier 3  \\\n",
              "0                        False                        False   \n",
              "1                         True                        False   \n",
              "2                        False                         True   \n",
              "3                         True                        False   \n",
              "4                        False                         True   \n",
              "\n",
              "   Outlet_Type_Grocery Store  Outlet_Type_Supermarket Type1  \\\n",
              "0                      False                           True   \n",
              "1                      False                           True   \n",
              "2                       True                          False   \n",
              "3                      False                           True   \n",
              "4                      False                          False   \n",
              "\n",
              "   Outlet_Type_Supermarket Type2  Outlet_Type_Supermarket Type3  \\\n",
              "0                          False                          False   \n",
              "1                          False                          False   \n",
              "2                          False                          False   \n",
              "3                          False                          False   \n",
              "4                          False                           True   \n",
              "\n",
              "   Item_Outlet_Sales  \n",
              "0        1629.212393  \n",
              "1        1412.868264  \n",
              "2        1248.060418  \n",
              "3        2681.648129  \n",
              "4        5177.760218  \n",
              "\n",
              "[5 rows x 33 columns]"
            ]
          },
          "execution_count": 91,
          "metadata": {},
          "output_type": "execute_result"
        }
      ],
      "source": [
        "test_new.head()"
      ]
    },
    {
      "cell_type": "code",
      "execution_count": null,
      "id": "904c394c",
      "metadata": {
        "execution": {
          "iopub.execute_input": "2023-12-13T16:23:23.085923Z",
          "iopub.status.busy": "2023-12-13T16:23:23.084908Z",
          "iopub.status.idle": "2023-12-13T16:23:23.091190Z",
          "shell.execute_reply": "2023-12-13T16:23:23.090132Z"
        },
        "papermill": {
          "duration": 0.054538,
          "end_time": "2023-12-13T16:23:23.093444",
          "exception": false,
          "start_time": "2023-12-13T16:23:23.038906",
          "status": "completed"
        },
        "tags": [],
        "id": "904c394c"
      },
      "outputs": [],
      "source": [
        "test_new['Item_Outlet_Sales'] = abs(test_new['Item_Outlet_Sales'])"
      ]
    },
    {
      "cell_type": "code",
      "execution_count": null,
      "id": "17942f02",
      "metadata": {
        "execution": {
          "iopub.execute_input": "2023-12-13T16:23:23.183800Z",
          "iopub.status.busy": "2023-12-13T16:23:23.183276Z",
          "iopub.status.idle": "2023-12-13T16:23:23.195271Z",
          "shell.execute_reply": "2023-12-13T16:23:23.194245Z"
        },
        "papermill": {
          "duration": 0.061214,
          "end_time": "2023-12-13T16:23:23.198494",
          "exception": false,
          "start_time": "2023-12-13T16:23:23.137280",
          "status": "completed"
        },
        "tags": [],
        "id": "17942f02",
        "outputId": "0affa476-50ee-43d8-d728-93dd9fa9ec88"
      },
      "outputs": [
        {
          "data": {
            "text/html": [
              "<div>\n",
              "<style scoped>\n",
              "    .dataframe tbody tr th:only-of-type {\n",
              "        vertical-align: middle;\n",
              "    }\n",
              "\n",
              "    .dataframe tbody tr th {\n",
              "        vertical-align: top;\n",
              "    }\n",
              "\n",
              "    .dataframe thead th {\n",
              "        text-align: right;\n",
              "    }\n",
              "</style>\n",
              "<table border=\"1\" class=\"dataframe\">\n",
              "  <thead>\n",
              "    <tr style=\"text-align: right;\">\n",
              "      <th></th>\n",
              "      <th>Item_Identifier</th>\n",
              "      <th>Outlet_Identifier</th>\n",
              "      <th>Item_Outlet_Sales</th>\n",
              "    </tr>\n",
              "  </thead>\n",
              "  <tbody>\n",
              "    <tr>\n",
              "      <th>0</th>\n",
              "      <td>FDW58</td>\n",
              "      <td>OUT049</td>\n",
              "      <td>1000</td>\n",
              "    </tr>\n",
              "    <tr>\n",
              "      <th>1</th>\n",
              "      <td>FDW14</td>\n",
              "      <td>OUT017</td>\n",
              "      <td>1000</td>\n",
              "    </tr>\n",
              "    <tr>\n",
              "      <th>2</th>\n",
              "      <td>NCN55</td>\n",
              "      <td>OUT010</td>\n",
              "      <td>1000</td>\n",
              "    </tr>\n",
              "    <tr>\n",
              "      <th>3</th>\n",
              "      <td>FDQ58</td>\n",
              "      <td>OUT017</td>\n",
              "      <td>1000</td>\n",
              "    </tr>\n",
              "    <tr>\n",
              "      <th>4</th>\n",
              "      <td>FDY38</td>\n",
              "      <td>OUT027</td>\n",
              "      <td>1000</td>\n",
              "    </tr>\n",
              "  </tbody>\n",
              "</table>\n",
              "</div>"
            ],
            "text/plain": [
              "  Item_Identifier Outlet_Identifier  Item_Outlet_Sales\n",
              "0           FDW58            OUT049               1000\n",
              "1           FDW14            OUT017               1000\n",
              "2           NCN55            OUT010               1000\n",
              "3           FDQ58            OUT017               1000\n",
              "4           FDY38            OUT027               1000"
            ]
          },
          "execution_count": 93,
          "metadata": {},
          "output_type": "execute_result"
        }
      ],
      "source": [
        "sample_submission.head()"
      ]
    },
    {
      "cell_type": "code",
      "execution_count": null,
      "id": "c2c7f7d5",
      "metadata": {
        "execution": {
          "iopub.execute_input": "2023-12-13T16:23:23.295085Z",
          "iopub.status.busy": "2023-12-13T16:23:23.294196Z",
          "iopub.status.idle": "2023-12-13T16:23:23.299520Z",
          "shell.execute_reply": "2023-12-13T16:23:23.298688Z"
        },
        "papermill": {
          "duration": 0.056249,
          "end_time": "2023-12-13T16:23:23.301950",
          "exception": false,
          "start_time": "2023-12-13T16:23:23.245701",
          "status": "completed"
        },
        "tags": [],
        "id": "c2c7f7d5"
      },
      "outputs": [],
      "source": [
        "sample_submission['Item_Outlet_Sales'] = test_new['Item_Outlet_Sales']"
      ]
    },
    {
      "cell_type": "code",
      "execution_count": null,
      "id": "ddccef12",
      "metadata": {
        "execution": {
          "iopub.execute_input": "2023-12-13T16:23:23.393274Z",
          "iopub.status.busy": "2023-12-13T16:23:23.392767Z",
          "iopub.status.idle": "2023-12-13T16:23:23.406601Z",
          "shell.execute_reply": "2023-12-13T16:23:23.405383Z"
        },
        "papermill": {
          "duration": 0.062348,
          "end_time": "2023-12-13T16:23:23.409282",
          "exception": false,
          "start_time": "2023-12-13T16:23:23.346934",
          "status": "completed"
        },
        "tags": [],
        "id": "ddccef12",
        "outputId": "e235b349-de64-47d0-efab-b166bf2d9d76"
      },
      "outputs": [
        {
          "data": {
            "text/html": [
              "<div>\n",
              "<style scoped>\n",
              "    .dataframe tbody tr th:only-of-type {\n",
              "        vertical-align: middle;\n",
              "    }\n",
              "\n",
              "    .dataframe tbody tr th {\n",
              "        vertical-align: top;\n",
              "    }\n",
              "\n",
              "    .dataframe thead th {\n",
              "        text-align: right;\n",
              "    }\n",
              "</style>\n",
              "<table border=\"1\" class=\"dataframe\">\n",
              "  <thead>\n",
              "    <tr style=\"text-align: right;\">\n",
              "      <th></th>\n",
              "      <th>Item_Identifier</th>\n",
              "      <th>Outlet_Identifier</th>\n",
              "      <th>Item_Outlet_Sales</th>\n",
              "    </tr>\n",
              "  </thead>\n",
              "  <tbody>\n",
              "    <tr>\n",
              "      <th>0</th>\n",
              "      <td>FDW58</td>\n",
              "      <td>OUT049</td>\n",
              "      <td>1629.212393</td>\n",
              "    </tr>\n",
              "    <tr>\n",
              "      <th>1</th>\n",
              "      <td>FDW14</td>\n",
              "      <td>OUT017</td>\n",
              "      <td>1412.868264</td>\n",
              "    </tr>\n",
              "    <tr>\n",
              "      <th>2</th>\n",
              "      <td>NCN55</td>\n",
              "      <td>OUT010</td>\n",
              "      <td>1248.060418</td>\n",
              "    </tr>\n",
              "    <tr>\n",
              "      <th>3</th>\n",
              "      <td>FDQ58</td>\n",
              "      <td>OUT017</td>\n",
              "      <td>2681.648129</td>\n",
              "    </tr>\n",
              "    <tr>\n",
              "      <th>4</th>\n",
              "      <td>FDY38</td>\n",
              "      <td>OUT027</td>\n",
              "      <td>5177.760218</td>\n",
              "    </tr>\n",
              "  </tbody>\n",
              "</table>\n",
              "</div>"
            ],
            "text/plain": [
              "  Item_Identifier Outlet_Identifier  Item_Outlet_Sales\n",
              "0           FDW58            OUT049        1629.212393\n",
              "1           FDW14            OUT017        1412.868264\n",
              "2           NCN55            OUT010        1248.060418\n",
              "3           FDQ58            OUT017        2681.648129\n",
              "4           FDY38            OUT027        5177.760218"
            ]
          },
          "execution_count": 95,
          "metadata": {},
          "output_type": "execute_result"
        }
      ],
      "source": [
        "sample_submission.head()"
      ]
    },
    {
      "cell_type": "code",
      "execution_count": null,
      "id": "76614963",
      "metadata": {
        "execution": {
          "iopub.execute_input": "2023-12-13T16:23:23.502036Z",
          "iopub.status.busy": "2023-12-13T16:23:23.500817Z",
          "iopub.status.idle": "2023-12-13T16:23:23.538214Z",
          "shell.execute_reply": "2023-12-13T16:23:23.536894Z"
        },
        "papermill": {
          "duration": 0.087158,
          "end_time": "2023-12-13T16:23:23.541399",
          "exception": false,
          "start_time": "2023-12-13T16:23:23.454241",
          "status": "completed"
        },
        "tags": [],
        "id": "76614963"
      },
      "outputs": [],
      "source": [
        "sample_submission.to_csv('final_output.csv', index = False)"
      ]
    },
    {
      "cell_type": "code",
      "execution_count": null,
      "id": "ffb04eaf",
      "metadata": {
        "execution": {
          "iopub.execute_input": "2023-12-13T16:23:23.635054Z",
          "iopub.status.busy": "2023-12-13T16:23:23.634541Z",
          "iopub.status.idle": "2023-12-13T16:23:23.639694Z",
          "shell.execute_reply": "2023-12-13T16:23:23.638829Z"
        },
        "papermill": {
          "duration": 0.05466,
          "end_time": "2023-12-13T16:23:23.641884",
          "exception": false,
          "start_time": "2023-12-13T16:23:23.587224",
          "status": "completed"
        },
        "tags": [],
        "id": "ffb04eaf"
      },
      "outputs": [],
      "source": [
        "import pickle"
      ]
    },
    {
      "cell_type": "code",
      "execution_count": null,
      "id": "18247d27",
      "metadata": {
        "execution": {
          "iopub.execute_input": "2023-12-13T16:23:23.735472Z",
          "iopub.status.busy": "2023-12-13T16:23:23.734731Z",
          "iopub.status.idle": "2023-12-13T16:23:23.746488Z",
          "shell.execute_reply": "2023-12-13T16:23:23.745132Z"
        },
        "papermill": {
          "duration": 0.062541,
          "end_time": "2023-12-13T16:23:23.749440",
          "exception": false,
          "start_time": "2023-12-13T16:23:23.686899",
          "status": "completed"
        },
        "tags": [],
        "id": "18247d27"
      },
      "outputs": [],
      "source": [
        "filename = 'finalized_model.sav'\n",
        "pickle.dump(gb, open(filename, 'wb'))"
      ]
    },
    {
      "cell_type": "markdown",
      "id": "89a4ee3c",
      "metadata": {
        "papermill": {
          "duration": 0.044991,
          "end_time": "2023-12-13T16:23:23.840919",
          "exception": false,
          "start_time": "2023-12-13T16:23:23.795928",
          "status": "completed"
        },
        "tags": [],
        "id": "89a4ee3c"
      },
      "source": [
        "> **If you have any question please comment below.**\n"
      ]
    },
    {
      "cell_type": "markdown",
      "id": "74e261d6",
      "metadata": {
        "papermill": {
          "duration": 0.044642,
          "end_time": "2023-12-13T16:23:23.932004",
          "exception": false,
          "start_time": "2023-12-13T16:23:23.887362",
          "status": "completed"
        },
        "tags": [],
        "id": "74e261d6"
      },
      "source": [
        "> **If you like my Notebook please Upvote**\n",
        "\n",
        "#### Thank-you..!!"
      ]
    },
    {
      "cell_type": "code",
      "execution_count": null,
      "id": "186a1ac4",
      "metadata": {
        "papermill": {
          "duration": 0.047778,
          "end_time": "2023-12-13T16:23:24.027038",
          "exception": false,
          "start_time": "2023-12-13T16:23:23.979260",
          "status": "completed"
        },
        "tags": [],
        "id": "186a1ac4"
      },
      "outputs": [],
      "source": []
    }
  ],
  "metadata": {
    "kaggle": {
      "accelerator": "none",
      "dataSources": [
        {
          "datasetId": 905262,
          "sourceId": 1535166,
          "sourceType": "datasetVersion"
        }
      ],
      "dockerImageVersionId": 30626,
      "isGpuEnabled": false,
      "isInternetEnabled": true,
      "language": "python",
      "sourceType": "notebook"
    },
    "kernelspec": {
      "display_name": "Python 3",
      "language": "python",
      "name": "python3"
    },
    "language_info": {
      "codemirror_mode": {
        "name": "ipython",
        "version": 3
      },
      "file_extension": ".py",
      "mimetype": "text/x-python",
      "name": "python",
      "nbconvert_exporter": "python",
      "pygments_lexer": "ipython3",
      "version": "3.10.12"
    },
    "papermill": {
      "default_parameters": {},
      "duration": 132.998252,
      "end_time": "2023-12-13T16:23:26.698489",
      "environment_variables": {},
      "exception": null,
      "input_path": "__notebook__.ipynb",
      "output_path": "__notebook__.ipynb",
      "parameters": {},
      "start_time": "2023-12-13T16:21:13.700237",
      "version": "2.4.0"
    },
    "colab": {
      "provenance": [],
      "include_colab_link": true
    }
  },
  "nbformat": 4,
  "nbformat_minor": 5
}